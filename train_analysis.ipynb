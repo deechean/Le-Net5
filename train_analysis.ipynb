{
 "cells": [
  {
   "cell_type": "markdown",
   "metadata": {},
   "source": [
    "# Evaluate the training result \n",
    "Training analysis is a a tool to evaluate the training result of lenet5 neural network. It could display the accuracy on training set and test set in graph. Or you can check the test datato show the image which is wrongly predicted in each batch of test data evaluation. \n",
    "\n",
    "## Define the variables to track\n",
    "There are 5 variables to monitor during the training.\n",
    "- Training accuracy\n",
    "- Test accuracy\n",
    "- Test images\n",
    "- Test labels\n",
    "- Prediction in test"
   ]
  },
  {
   "cell_type": "code",
   "execution_count": 1,
   "metadata": {},
   "outputs": [],
   "source": [
    "import os \n",
    "import matplotlib.pyplot as plt\n",
    "import tf_general as tfg\n",
    "from cifar10 import cifar10\n",
    "from train_log import train_log"
   ]
  },
  {
   "cell_type": "code",
   "execution_count": 2,
   "metadata": {},
   "outputs": [
    {
     "name": "stdout",
     "output_type": "stream",
     "text": [
      "train set length: 50000\n",
      "test set length: 10000\n"
     ]
    }
   ],
   "source": [
    "data_path = '../cifar-10-batches-py/'\n",
    "if not os.path.exists(data_path):\n",
    "    print('The data path doesn\\'t exist. Please check if it is a correct data path.')\n",
    "cifar_data = cifar10(data_path)"
   ]
  },
  {
   "cell_type": "markdown",
   "metadata": {},
   "source": [
    "## Display training accuracy vs. test accuracy"
   ]
  },
  {
   "cell_type": "code",
   "execution_count": 3,
   "metadata": {},
   "outputs": [],
   "source": [
    "def show_chart(accuracy):\n",
    "    plt.rcParams['figure.dpi'] = 100   \n",
    "    legend = []\n",
    "    labels = []\n",
    "    i = 0\n",
    "    for listitem in accuracy:\n",
    "        step = []\n",
    "        step_accuracy = []\n",
    "        for item in listitem[1]:\n",
    "            step.append(item[0])\n",
    "            step_accuracy.append(item[1])\n",
    "        plt.plot(step, step_accuracy,label=listitem[0])\n",
    "        i += 1\n",
    "    plt.legend(loc='best')\n",
    "    plt.show()\n",
    "    "
   ]
  },
  {
   "cell_type": "markdown",
   "metadata": {},
   "source": [
    "## Compare the test accuracy with different super parameters"
   ]
  },
  {
   "cell_type": "code",
   "execution_count": 5,
   "metadata": {
    "scrolled": false
   },
   "outputs": [
    {
     "data": {
      "image/png": "[encoded data removed]",
      "text/plain": [
       "<Figure size 600x400 with 1 Axes>"
      ]
     },
     "metadata": {
      "needs_background": "light"
     },
     "output_type": "display_data"
    }
   ],
   "source": [
    "show_log = [1]\n",
    "dic_log = {1:4,2:7}\n",
    "label = {1:'LeNet5-ReLU-ENH-1',2:'LeNet5-ReLU-ENH-2',3:'LeNet5-ReLU-3',4:'LeNet5-ReLU-4',}\n",
    "log_data = []\n",
    "for i in show_log:\n",
    "    log_dir = '../Le-Net5-Log/Le-Net5_CLASS/log_'+str(i)+'/'\n",
    "    log = train_log(log_dir)  \n",
    "    log_data.append([label[i],log.readlog('test_accuracy')])\n",
    "show_chart(log_data)"
   ]
  },
  {
   "cell_type": "code",
   "execution_count": null,
   "metadata": {},
   "outputs": [],
   "source": [
    "def show_loss(loss):\n",
    "    plt.rcParams['figure.dpi'] = 150    \n",
    "    step_train= []\n",
    "    step_loss = []\n",
    "    for item in loss:\n",
    "        step_train.append(item[0])\n",
    "        step_loss.append(item[1])\n",
    "    plt.plot(step_train, step_loss)\n",
    "    plt.show()"
   ]
  },
  {
   "cell_type": "code",
   "execution_count": null,
   "metadata": {},
   "outputs": [],
   "source": [
    "log_file_name = 'lenet_train_cifar10_0.log'\n",
    "log_data = log_file(log_file_name)  \n",
    "show_accuracy([log_data.train_accuracy, log_data.test_accuracy])\n",
    "#show_loss(log_data.loss)"
   ]
  },
  {
   "cell_type": "markdown",
   "metadata": {},
   "source": [
    "## Show test accuracy of specific training step\n",
    "Date structure of category_wrong_prediction  [[correct label index, wrong label index ]"
   ]
  },
  {
   "cell_type": "code",
   "execution_count": null,
   "metadata": {},
   "outputs": [],
   "source": [
    "step_test = []\n",
    "step_test_accuracy = []\n",
    "for item in test_accuracy:\n",
    "    step_test.append(item[0])\n",
    "    step_test_accuracy.append(item[1])\n",
    "    \n",
    "print('Available test steps:', step_test)\n",
    "step = int(input('Please input the test step in below number:'))\n",
    "if step in step_test: \n",
    "    plt.rcParams['figure.dpi'] = 16    \n",
    "    for item in test_accuracy:\n",
    "        if item[0] == step:\n",
    "            print('Test accuracy at train step '+ str(step)+': '+str(round(item[1]*100,2))+'%')\n",
    "       \n",
    "    prediction = []\n",
    "    for item in output:\n",
    "        if item[0] == step: \n",
    "            prediction.append(item[1])\n",
    "        \n",
    "    labels = []\n",
    "    for item in test_index:\n",
    "        if item[0] == step: \n",
    "            labels.append(item[1])\n",
    "    category_accuracy = {0:0.0,1:0.0,2:0.0,3:0.0,4:0.0,5:0.0,6:0.0,7:0.0,8:0.0,9:0.0}\n",
    "    category_wrong_prediction={0:[],1:[],2:[],3:[],4:[],5:[],6:[],7:[],8:[],9:[]}\n",
    "    i = 0\n",
    "    while i < len(labels) and i< len(prediction):\n",
    "        j = 0\n",
    "        while j < len(labels[i]):\n",
    "            if int(cifar_data.test_labels[int(labels[i][j])]) != int(prediction[i][j]):\n",
    "                category_wrong_prediction[cifar_data.test_labels[int(labels[i][j])]].append([int(labels[i][j]),int(prediction[i][j])])\n",
    "            else:\n",
    "                category_accuracy[cifar_data.test_labels[int(labels[i][j])]] += 1\n",
    "            j += 1        \n",
    "        #if key == 'q':\n",
    "            #break\n",
    "        i += 1\n",
    "    for k in range(9):\n",
    "        category_accuracy[k] /= 1000\n",
    "        print(cifar_data.label_dic[k] + ':' + str(round(category_accuracy[k]*100,2)) + '%')\n",
    "    key = input('Do you want to see those images with wrong label?Y/N')\n",
    "               \n",
    "    while key == 'y' or key == 'Y':\n",
    "        cat =  input('Input a category number:')\n",
    "        if int(cat) in [0,1,2,3,4,5,6,7,8,9]:\n",
    "            for item in category_wrong_prediction[int(cat)]:\n",
    "                plt.imshow(cifar_data.test_images[item[0]])\n",
    "                plt.show()\n",
    "                print('label: '+ cifar_data.label_dic[cifar_data.test_labels[item[0]]]) \n",
    "                print('prediction: '+cifar_data.label_dic[item[1]])\n",
    "                print('---------------------------------')\n",
    "        \n",
    "        key = input('Do you want to see another category?Y/N')\n",
    "else:\n",
    "    print('Invalid input.' + step + ' not exist in the list.')"
   ]
  },
  {
   "cell_type": "code",
   "execution_count": null,
   "metadata": {},
   "outputs": [],
   "source": [
    "key = input('Please input a category number:')\n",
    "distribution = {0:0.0,1:0.0,2:0.0,3:0.0,4:0.0,5:0.0,6:0.0,7:0.0,8:0.0,9:0.0}\n",
    "\n",
    "if int(key) in [0,1,2,3,4,5,6,7,8,9]:\n",
    "    for item in category_wrong_prediction[int(key)]:\n",
    "        distribution[item[1]] += 1\n",
    "for k in range(9):\n",
    "    print(cifar_data.label_dic[k]+':' + str(round(distribution[k]/len(category_wrong_prediction[int(key)])*100,2))+'%')\n"
   ]
  },
  {
   "cell_type": "markdown",
   "metadata": {},
   "source": [
    "## "
   ]
  },
  {
   "cell_type": "code",
   "execution_count": null,
   "metadata": {},
   "outputs": [],
   "source": [
    "from cifar10 import cifar10\n",
    "import numpy as np\n",
    "import matplotlib.pyplot as plt\n",
    "\n",
    "data = cifar10()\n",
    "batch_size=10\n",
    "%matplotlib inline\n",
    "plt.rcParams['figure.dpi'] = 28\n",
    "\n",
    "for i in range(5):\n",
    "    x, y,_ = data.get_train_batch(batch_size)\n",
    "    #print ('batch_x shape',np.shape(x))\n",
    "    for img in x:\n",
    "        plt.imshow(np.array(img))\n",
    "        plt.show()\n",
    "        print('-----------------------')"
   ]
  },
  {
   "cell_type": "code",
   "execution_count": null,
   "metadata": {},
   "outputs": [],
   "source": [
    "import tensorflow as tf\n",
    "input_data = tf.constant([[[1.0,2,3],[4.0,5,6]],[[3.0,2,1],[6.0,5,4]]])\n",
    "\n",
    "output = tf.nn.l2_normalize(input_data, dim = 0)\n",
    "with tf.Session() as sess:\n",
    "    print(sess.run(input_data))\n",
    "    print(sess.run(output))"
   ]
  },
  {
   "cell_type": "code",
   "execution_count": null,
   "metadata": {},
   "outputs": [],
   "source": [
    "import numpy as np\n",
    "import tf_general as tfg\n",
    "\n",
    "x = np.random.randint(255, size=(8,2,2,16), dtype = np.int64)\n",
    "print(tfg.strlize(x))"
   ]
  },
  {
   "cell_type": "code",
   "execution_count": null,
   "metadata": {},
   "outputs": [],
   "source": [
    "import tensorflow as tf \n",
    "import math\n",
    "\n",
    "input_data = tf.constant([[[[1.0,2,3],[4.0,5,6],[7.0,8,9]],\n",
    "                          [[10.0,11,12],[13,14,15],[16.0,17,18]],\n",
    "                          [[19.0,20,21],[22.0,23,24],[25.0,26,27]]],\n",
    "                          [[[19.0,20,21],[22.0,23,24],[25.0,26,27]],\n",
    "                          [[1.0,2,3],[4.0,5,6],[7.0,8,9]],\n",
    "                          [[10.0,11,12],[13,14,15],[16.0,17,18]]]])\n",
    "\n",
    "output = tf.nn.l2_normalize(input_data, dim = 0) \n",
    "with tf.Session() as sess:\n",
    "    print(sess.run(input_data))\n",
    "    print(sess.run(output))\n",
    "    print(1/math.sqrt(1**2+2**2+3**2))\n",
    "    print(1/math.sqrt(1^2+4^2+7^2))\n",
    "    print(1/math.sqrt(1^2+10^2+19^2))\n",
    "    print(1/math.sqrt(1^2+19^2))\n",
    "    \n",
    "    print(2/math.sqrt(2.0**2+20.0**2))"
   ]
  },
  {
   "cell_type": "code",
   "execution_count": null,
   "metadata": {},
   "outputs": [],
   "source": []
  }
 ],
 "metadata": {
  "kernelspec": {
   "display_name": "Python 3",
   "language": "python",
   "name": "python3"
  },
  "language_info": {
   "codemirror_mode": {
    "name": "ipython",
    "version": 3
   },
   "file_extension": ".py",
   "mimetype": "text/x-python",
   "name": "python",
   "nbconvert_exporter": "python",
   "pygments_lexer": "ipython3",
   "version": "3.7.3"
  }
 },
 "nbformat": 4,
 "nbformat_minor": 2
}
