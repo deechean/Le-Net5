{
 "cells": [
  {
   "cell_type": "code",
   "execution_count": 1,
   "metadata": {},
   "outputs": [
    {
     "name": "stdout",
     "output_type": "stream",
     "text": [
      "parameters were defined.\n"
     ]
    }
   ],
   "source": [
    "#!/usr/bin/env python3\n",
    "# -*- coding: utf-8 -*-\n",
    "\"\"\"\n",
    "Created on Sun Apr  7 22:08:46 2019\n",
    "\n",
    "@author: Deechean\n",
    "\"\"\"\n",
    "from cifar10 import cifar10\n",
    "import os\n",
    "import tensorflow as tf\n",
    "from lenet5 import LetNet5\n",
    "import tf_general as tfg\n",
    "import numpy as np\n",
    "\n",
    "\n",
    "FLAGS = tf.flags.FLAGS\n",
    "try:\n",
    "    tf.flags.DEFINE_string('f', '', 'kernel')\n",
    "    tf.flags.DEFINE_integer('epoch', 10, 'epoch')\n",
    "    tf.flags.DEFINE_integer('batch_size', 128, 'batch size')\n",
    "    tf.flags.DEFINE_integer('test_size', 10000, 'test size')\n",
    "    tf.flags.DEFINE_float('lr', 0.001, 'learning rate')\n",
    "    tf.flags.DEFINE_boolean('restore', False, 'restore from checkpoint and run test')\n",
    "    print('parameters were defined.')\n",
    "except:\n",
    "    print('parameters have been defined.')"
   ]
  },
  {
   "cell_type": "code",
   "execution_count": 2,
   "metadata": {},
   "outputs": [
    {
     "name": "stdout",
     "output_type": "stream",
     "text": [
      "train set length: 40000\n",
      "test set length: 10000\n"
     ]
    }
   ],
   "source": [
    "data = cifar10();\n",
    "train_image, train_label = data.get_train_batch(FLAGS.batch_size)\n",
    "test_image, test_label = data.get_test_batch(FLAGS.test_size)\n",
    "\n"
   ]
  },
  {
   "cell_type": "code",
   "execution_count": 3,
   "metadata": {},
   "outputs": [],
   "source": [
    "ckpt_dir = 'ckpt/'\n",
    "if not os.path.exists(ckpt_dir):\n",
    "    os.makedirs(ckpt_dir)"
   ]
  },
  {
   "cell_type": "code",
   "execution_count": 4,
   "metadata": {},
   "outputs": [],
   "source": [
    "with tf.name_scope('input'):\n",
    "    x = tf.placeholder(tf.float32, [None, 784], name='x_input')\n",
    "    keep_prob = tf.placeholder(tf.float32, name='keep_prob')\n",
    "    y_ = tf.cast(train_label, tf.float32)"
   ]
  },
  {
   "cell_type": "code",
   "execution_count": 5,
   "metadata": {},
   "outputs": [
    {
     "name": "stdout",
     "output_type": "stream",
     "text": [
      "WARNING:tensorflow:From C:\\Users\\wangdi\\Documents\\Git-MachineLearning\\Lenet5\\lenet5.py:22: calling l2_normalize (from tensorflow.python.ops.nn_impl) with dim is deprecated and will be removed in a future version.\n",
      "Instructions for updating:\n",
      "dim is deprecated, use axis instead\n"
     ]
    }
   ],
   "source": [
    "with tf.name_scope('prediction'):\n",
    "    le_net5 = LetNet5(x, keep_prob)\n",
    "    fc2 = le_net5.fc2\n",
    "    logits = le_net5.logits\n",
    "    y = le_net5.prediction"
   ]
  },
  {
   "cell_type": "code",
   "execution_count": 6,
   "metadata": {},
   "outputs": [],
   "source": [
    "with tf.name_scope('cross_entropy'):\n",
    "    logy = tf.log(y)\n",
    "    y_logy = y*logy\n",
    "    reduce_sum = tf.reduce_sum(y_logy)\n",
    "    cross_entropy = tf.reduce_mean(-tf.reduce_sum(y_ * tf.log(y)))"
   ]
  },
  {
   "cell_type": "code",
   "execution_count": 7,
   "metadata": {},
   "outputs": [],
   "source": [
    "with tf.name_scope('train_step'):\n",
    "    train_step = tf.train.AdagradOptimizer(FLAGS.lr).minimize(cross_entropy)"
   ]
  },
  {
   "cell_type": "code",
   "execution_count": 8,
   "metadata": {},
   "outputs": [],
   "source": [
    "correct_prediction = tf.equal(tf.argmax(y, 1), tf.argmax(y_, 1))\n",
    "accuracy = tf.reduce_mean(tf.cast(correct_prediction, tf.float32))"
   ]
  },
  {
   "cell_type": "code",
   "execution_count": 11,
   "metadata": {},
   "outputs": [
    {
     "ename": "AttributeError",
     "evalue": "'int' object has no attribute 'train_images'",
     "output_type": "error",
     "traceback": [
      "\u001b[1;31m---------------------------------------------------------------------------\u001b[0m",
      "\u001b[1;31mAttributeError\u001b[0m                            Traceback (most recent call last)",
      "\u001b[1;32m<ipython-input-11-0dac54b296dc>\u001b[0m in \u001b[0;36m<module>\u001b[1;34m()\u001b[0m\n\u001b[0;32m      6\u001b[0m         \u001b[0mthreads\u001b[0m \u001b[1;33m=\u001b[0m \u001b[0mtf\u001b[0m\u001b[1;33m.\u001b[0m\u001b[0mtrain\u001b[0m\u001b[1;33m.\u001b[0m\u001b[0mstart_queue_runners\u001b[0m\u001b[1;33m(\u001b[0m\u001b[0msess\u001b[0m\u001b[1;33m,\u001b[0m \u001b[0mcoord\u001b[0m\u001b[1;33m)\u001b[0m\u001b[1;33m\u001b[0m\u001b[0m\n\u001b[0;32m      7\u001b[0m         \u001b[1;32mfor\u001b[0m \u001b[0mi\u001b[0m \u001b[1;32min\u001b[0m \u001b[0mrange\u001b[0m\u001b[1;33m(\u001b[0m\u001b[0mFLAGS\u001b[0m\u001b[1;33m.\u001b[0m\u001b[0mepoch\u001b[0m\u001b[1;33m)\u001b[0m\u001b[1;33m:\u001b[0m\u001b[1;33m\u001b[0m\u001b[0m\n\u001b[1;32m----> 8\u001b[1;33m             \u001b[0mtrain_image_batch\u001b[0m\u001b[1;33m,\u001b[0m \u001b[0mtrain_label_batch\u001b[0m \u001b[1;33m=\u001b[0m \u001b[0mcifar10\u001b[0m\u001b[1;33m.\u001b[0m\u001b[0mget_train_batch\u001b[0m\u001b[1;33m(\u001b[0m\u001b[0mFLAGS\u001b[0m\u001b[1;33m.\u001b[0m\u001b[0mbatch_size\u001b[0m\u001b[1;33m)\u001b[0m\u001b[1;33m\u001b[0m\u001b[0m\n\u001b[0m\u001b[0;32m      9\u001b[0m             loss, _ , accuracy_rate = sess.run([cross_entropy,train_step,accuracy], \n\u001b[0;32m     10\u001b[0m                                                    feed_dict={keep_prob: 0.5, x:train_image_batch}) \n",
      "\u001b[1;32m~\\Documents\\Git-MachineLearning\\Lenet5\\cifar10.py\u001b[0m in \u001b[0;36mget_train_batch\u001b[1;34m(self, batch_size)\u001b[0m\n\u001b[0;32m    128\u001b[0m \u001b[1;33m\u001b[0m\u001b[0m\n\u001b[0;32m    129\u001b[0m     \u001b[1;32mdef\u001b[0m \u001b[0mget_train_batch\u001b[0m\u001b[1;33m(\u001b[0m\u001b[0mself\u001b[0m\u001b[1;33m,\u001b[0m \u001b[0mbatch_size\u001b[0m\u001b[1;33m=\u001b[0m\u001b[1;36m128\u001b[0m\u001b[1;33m)\u001b[0m\u001b[1;33m:\u001b[0m\u001b[1;33m\u001b[0m\u001b[0m\n\u001b[1;32m--> 130\u001b[1;33m         \u001b[0minput_queue\u001b[0m \u001b[1;33m=\u001b[0m \u001b[0mtf\u001b[0m\u001b[1;33m.\u001b[0m\u001b[0mtrain\u001b[0m\u001b[1;33m.\u001b[0m\u001b[0mslice_input_producer\u001b[0m\u001b[1;33m(\u001b[0m\u001b[1;33m[\u001b[0m\u001b[0mself\u001b[0m\u001b[1;33m.\u001b[0m\u001b[0mtrain_images\u001b[0m\u001b[1;33m,\u001b[0m \u001b[0mself\u001b[0m\u001b[1;33m.\u001b[0m\u001b[0mtrain_labels\u001b[0m\u001b[1;33m]\u001b[0m\u001b[1;33m,\u001b[0m \u001b[0mshuffle\u001b[0m\u001b[1;33m=\u001b[0m\u001b[1;32mTrue\u001b[0m\u001b[1;33m)\u001b[0m\u001b[1;33m\u001b[0m\u001b[0m\n\u001b[0m\u001b[0;32m    131\u001b[0m         image_batch, label_batch = tf.train.batch(input_queue, batch_size=batch_size, \\\n\u001b[0;32m    132\u001b[0m                   num_threads=1, capacity=64)\n",
      "\u001b[1;31mAttributeError\u001b[0m: 'int' object has no attribute 'train_images'"
     ]
    },
    {
     "name": "stdout",
     "output_type": "stream",
     "text": [
      "INFO:tensorflow:Error reported to Coordinator: <class 'tensorflow.python.framework.errors_impl.CancelledError'>, Run call was cancelled\n"
     ]
    }
   ],
   "source": [
    "if __name__ == '__main__':\n",
    "    with tf.Session() as sess:\n",
    "        sess.run(tf.global_variables_initializer())\n",
    "        saver = tf.train.Saver(max_to_keep = 1)\n",
    "        coord = tf.train.Coordinator()\n",
    "        threads = tf.train.start_queue_runners(sess, coord)\n",
    "        for i in range(FLAGS.epoch):\n",
    "            train_image_batch, train_label_batch = cifar10.get_train_batch(FLAGS.batch_size)\n",
    "            loss, _ , accuracy_rate = sess.run([cross_entropy,train_step,accuracy], \n",
    "                                                   feed_dict={keep_prob: 0.5, x:train_image_batch}) \n",
    "            \n",
    "            str_pre=''\n",
    "            log = []\n",
    "            log.append(str_pre)\n",
    "            print('iter:' + str(i), 'accuracy='+str(accuracy_rate))\n",
    "            \n",
    "            if i % 10 == 0:  #保存预测模型\n",
    "                saver.save(sess,'ckpt/cifar10_'+str(i)+'.ckpt',global_step=i)  \n",
    "                print('iter:' + str(i), str(round(accuracy_rate*100,2))+'%')           \n",
    "        tf.reset_default_graph()"
   ]
  },
  {
   "cell_type": "code",
   "execution_count": null,
   "metadata": {},
   "outputs": [],
   "source": []
  }
 ],
 "metadata": {
  "kernelspec": {
   "display_name": "Python 3",
   "language": "python",
   "name": "python3"
  },
  "language_info": {
   "codemirror_mode": {
    "name": "ipython",
    "version": 3
   },
   "file_extension": ".py",
   "mimetype": "text/x-python",
   "name": "python",
   "nbconvert_exporter": "python",
   "pygments_lexer": "ipython3",
   "version": "3.6.5"
  }
 },
 "nbformat": 4,
 "nbformat_minor": 2
}
