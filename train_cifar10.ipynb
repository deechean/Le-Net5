{
 "cells": [
  {
   "cell_type": "code",
   "execution_count": 1,
   "metadata": {},
   "outputs": [
    {
     "name": "stdout",
     "output_type": "stream",
     "text": [
      "parameters were defined.\n"
     ]
    }
   ],
   "source": [
    "#!/usr/bin/env python3\n",
    "# -*- coding: utf-8 -*-\n",
    "\"\"\"\n",
    "Created on Sun Apr  7 22:08:46 2019\n",
    "\n",
    "@author: Deechean\n",
    "\"\"\"\n",
    "from cifar10 import cifar10\n",
    "import os\n",
    "import tensorflow as tf\n",
    "from lenet5 import LetNet5\n",
    "import tf_general as tfg\n",
    "import numpy as np\n",
    "import aws_boto3\n",
    "\n",
    "FLAGS = tf.flags.FLAGS\n",
    "\n",
    "try:\n",
    "    tf.flags.DEFINE_string('f', '', 'kernel')\n",
    "    tf.flags.DEFINE_integer('epoch', 50000, 'epoch')\n",
    "    tf.flags.DEFINE_integer('batch_size',200, 'batch size')\n",
    "    tf.flags.DEFINE_integer('test_size', 200, 'test size')\n",
    "    tf.flags.DEFINE_float('lr', 0.01, 'learning rate')\n",
    "    tf.flags.DEFINE_float('ckpt_frequency', 250, 'frequency to save checkpoint')\n",
    "    tf.flags.DEFINE_boolean('restore', False, 'restore from checkpoint and run test')\n",
    "    print('parameters were defined.')\n",
    "except:\n",
    "    print('parameters have been defined.')\n",
    "    \n",
    "CONTINUE = 27000"
   ]
  },
  {
   "cell_type": "code",
   "execution_count": 2,
   "metadata": {},
   "outputs": [
    {
     "name": "stdout",
     "output_type": "stream",
     "text": [
      "train set length: 50000\n",
      "test image shape: (10000, 32, 32, 3)\n",
      "test label shape: (10000,)\n",
      "test set length: 10000\n"
     ]
    }
   ],
   "source": [
    "data = cifar10();\n",
    "train_image, train_label,_ = data.get_train_batch(FLAGS.batch_size)"
   ]
  },
  {
   "cell_type": "code",
   "execution_count": 3,
   "metadata": {},
   "outputs": [],
   "source": [
    "ckpt_dir = 'ckpt/'\n",
    "if not os.path.exists(ckpt_dir):\n",
    "    os.makedirs(ckpt_dir)"
   ]
  },
  {
   "cell_type": "code",
   "execution_count": 4,
   "metadata": {},
   "outputs": [],
   "source": [
    "with tf.name_scope('input'):\n",
    "    x = tf.placeholder(tf.float32, [None, 28,28,3], name='x_input')\n",
    "    keep_prob = tf.placeholder(tf.float32, name='keep_prob')\n",
    "    y_ = tf.placeholder(tf.int64, [None], name='labels')"
   ]
  },
  {
   "cell_type": "code",
   "execution_count": 5,
   "metadata": {
    "scrolled": true
   },
   "outputs": [
    {
     "name": "stdout",
     "output_type": "stream",
     "text": [
      "WARNING:tensorflow:From /home/deechean/github/Lenet5/lenet5.py:22: calling l2_normalize (from tensorflow.python.ops.nn_impl) with dim is deprecated and will be removed in a future version.\n",
      "Instructions for updating:\n",
      "dim is deprecated, use axis instead\n",
      "WARNING:tensorflow:From /home/deechean/anaconda3/envs/tensorflow/lib/python3.7/site-packages/tensorflow/python/framework/op_def_library.py:263: colocate_with (from tensorflow.python.framework.ops) is deprecated and will be removed in a future version.\n",
      "Instructions for updating:\n",
      "Colocations handled automatically by placer.\n",
      "WARNING:tensorflow:From /home/deechean/github/Lenet5/tf_general.py:109: calling dropout (from tensorflow.python.ops.nn_ops) with keep_prob is deprecated and will be removed in a future version.\n",
      "Instructions for updating:\n",
      "Please use `rate` instead of `keep_prob`. Rate should be set to `rate = 1 - keep_prob`.\n"
     ]
    }
   ],
   "source": [
    "with tf.name_scope('prediction'):\n",
    "    le_net5 = LetNet5(x, keep_prob)\n",
    "    y = le_net5.prediction"
   ]
  },
  {
   "cell_type": "code",
   "execution_count": 6,
   "metadata": {},
   "outputs": [],
   "source": [
    "with tf.name_scope('cross_entropy'):\n",
    "    cross_entropy = tf.reduce_mean(tf.nn.sparse_softmax_cross_entropy_with_logits(logits=y,\n",
    "                                                                                  labels=y_, \n",
    "                                                                                  name=\"cross_entropy_per_example\"))"
   ]
  },
  {
   "cell_type": "code",
   "execution_count": 7,
   "metadata": {},
   "outputs": [],
   "source": [
    "with tf.name_scope('train_step'):\n",
    "    train_step = tf.train.AdagradOptimizer(FLAGS.lr).minimize(cross_entropy)"
   ]
  },
  {
   "cell_type": "code",
   "execution_count": 8,
   "metadata": {},
   "outputs": [],
   "source": [
    "prediction =tf.argmax(y, 1)\n",
    "accuracy = tf.reduce_mean(tf.cast( tf.equal(prediction,y_), tf.float32))"
   ]
  },
  {
   "cell_type": "code",
   "execution_count": null,
   "metadata": {},
   "outputs": [],
   "source": [
    "def SaveCheckpoint2S3():\n",
    "    bucketname = 'sagemaker-deechean-dl' \n",
    "    path = 'lenet_ckpt/'\n",
    "    for file in os.listdir('ckpt'):\n",
    "        if os.path.isfile('ckpt/'+file):\n",
    "            print('save files to s3')\n",
    "            aws_boto3.upload_file('ckpt/'+file, bucketname,path+file)"
   ]
  },
  {
   "cell_type": "code",
   "execution_count": null,
   "metadata": {},
   "outputs": [
    {
     "name": "stdout",
     "output_type": "stream",
     "text": [
      "WARNING:tensorflow:From /home/deechean/anaconda3/envs/tensorflow/lib/python3.7/site-packages/tensorflow/python/training/saver.py:1266: checkpoint_exists (from tensorflow.python.training.checkpoint_management) is deprecated and will be removed in a future version.\n",
      "Instructions for updating:\n",
      "Use standard file APIs to check for files with this prefix.\n",
      "INFO:tensorflow:Restoring parameters from ckpt/cifar10_27000.ckpt-27000\n",
      "2019-06-07 10:24:35 iter 27249, Test accuracy:58.1%\n",
      "2019-06-07 10:28:30 iter 27499, Test accuracy:57.9%\n",
      "2019-06-07 10:32:30 iter 27749, Test accuracy:57.63%\n",
      "2019-06-07 10:36:06 iter 27999, Test accuracy:57.46%\n",
      "2019-06-07 10:39:43 iter 28249, Test accuracy:57.62%\n",
      "WARNING:tensorflow:From /home/deechean/anaconda3/envs/tensorflow/lib/python3.7/site-packages/tensorflow/python/training/saver.py:966: remove_checkpoint (from tensorflow.python.training.checkpoint_management) is deprecated and will be removed in a future version.\n",
      "Instructions for updating:\n",
      "Use standard file APIs to delete files with this prefix.\n",
      "2019-06-07 10:44:07 iter 28499, Test accuracy:57.84%\n",
      "2019-06-07 10:48:21 iter 28749, Test accuracy:57.94%\n",
      "2019-06-07 10:52:25 iter 28999, Test accuracy:57.88%\n",
      "2019-06-07 10:56:10 iter 29249, Test accuracy:57.82%\n",
      "2019-06-07 11:00:30 iter 29499, Test accuracy:58.25%\n",
      "2019-06-07 11:04:20 iter 29749, Test accuracy:57.89%\n",
      "2019-06-07 11:08:11 iter 29999, Test accuracy:57.68%\n",
      "2019-06-07 11:12:00 iter 30249, Test accuracy:57.83%\n",
      "2019-06-07 11:16:20 iter 30499, Test accuracy:58.18%\n",
      "2019-06-07 11:21:51 iter 30749, Test accuracy:57.94%\n",
      "2019-06-07 11:25:51 iter 30999, Test accuracy:57.98%\n",
      "2019-06-07 11:30:21 iter 31249, Test accuracy:57.9%\n",
      "2019-06-07 11:34:19 iter 31499, Test accuracy:57.98%\n",
      "2019-06-07 11:38:16 iter 31749, Test accuracy:58.29%\n",
      "2019-06-07 11:43:16 iter 31999, Test accuracy:57.95%\n",
      "2019-06-07 11:47:11 iter 32249, Test accuracy:57.75%\n",
      "2019-06-07 11:50:39 iter 32499, Test accuracy:58.08%\n",
      "2019-06-07 11:54:32 iter 32749, Test accuracy:58.0%\n",
      "2019-06-07 11:58:30 iter 32999, Test accuracy:57.84%\n",
      "2019-06-07 12:01:56 iter 33249, Test accuracy:58.02%\n",
      "2019-06-07 12:05:10 iter 33499, Test accuracy:57.63%\n",
      "2019-06-07 12:09:26 iter 33749, Test accuracy:58.12%\n",
      "2019-06-07 12:13:18 iter 33999, Test accuracy:57.32%\n",
      "2019-06-07 12:17:32 iter 34249, Test accuracy:57.78%\n",
      "2019-06-07 12:21:02 iter 34499, Test accuracy:57.8%\n",
      "2019-06-07 12:24:22 iter 34749, Test accuracy:58.18%\n",
      "2019-06-07 12:28:18 iter 34999, Test accuracy:58.0%\n",
      "2019-06-07 12:32:06 iter 35249, Test accuracy:58.11%\n",
      "2019-06-07 12:35:31 iter 35499, Test accuracy:58.12%\n",
      "2019-06-07 12:39:11 iter 35749, Test accuracy:57.47%\n",
      "2019-06-07 12:43:01 iter 35999, Test accuracy:57.81%\n",
      "2019-06-07 12:47:35 iter 36249, Test accuracy:57.83%\n",
      "2019-06-07 12:52:34 iter 36499, Test accuracy:58.12%\n",
      "2019-06-07 12:57:26 iter 36749, Test accuracy:57.54%\n",
      "2019-06-07 13:01:33 iter 36999, Test accuracy:57.69%\n",
      "2019-06-07 13:06:01 iter 37249, Test accuracy:57.56%\n",
      "2019-06-07 13:09:57 iter 37499, Test accuracy:57.9%\n",
      "2019-06-07 13:14:14 iter 37749, Test accuracy:58.23%\n",
      "2019-06-07 13:17:53 iter 37999, Test accuracy:58.28%\n",
      "2019-06-07 13:22:33 iter 38249, Test accuracy:57.93%\n",
      "2019-06-07 13:27:06 iter 38499, Test accuracy:57.51%\n"
     ]
    }
   ],
   "source": [
    "import time\n",
    "\n",
    "if __name__ == '__main__':\n",
    "    with tf.Session() as sess:\n",
    "        sess.run(tf.global_variables_initializer())\n",
    "        saver = tf.train.Saver()\n",
    "        if CONTINUE != 0:\n",
    "            model_file=tf.train.latest_checkpoint('ckpt/')\n",
    "            saver.restore(sess,model_file)\n",
    "        for i in range(CONTINUE, FLAGS.epoch):\n",
    "            train_image, train_label,_ = data.get_train_batch(FLAGS.batch_size)\n",
    "            loss, _,accuracy_rate = sess.run([cross_entropy, train_step,accuracy], feed_dict={keep_prob: 1, x:train_image, y_:train_label})\n",
    "            tfg.savelog('accuracy',i, accuracy_rate)  \n",
    "            tfg.savelog('loss',i, loss)   \n",
    "            if (i+1) % FLAGS.ckpt_frequency == 0:  #保存预测模型\n",
    "                saver.save(sess,'ckpt/cifar10_'+str(i+1)+'.ckpt',global_step=i+1)\n",
    "                #SaveCheckpoint2S3()\n",
    "                acc_accuracy = 0\n",
    "                for j in range(int(10000/FLAGS.test_size)):                    \n",
    "                    test_image, test_label,test_index = data.get_test_batch(FLAGS.test_size)\n",
    "                    accuracy_rate, output = sess.run([accuracy,prediction],feed_dict={keep_prob: 1, x:test_image, y_:test_label})\n",
    "                    acc_accuracy += accuracy_rate\n",
    "                    tfg.savelog('test_index',i, test_index)\n",
    "                    tfg.savelog('output',i, output)\n",
    "                accuracy_rate = acc_accuracy/10000*FLAGS.test_size\n",
    "                print(time.strftime(\"%Y-%m-%d %H:%M:%S\", time.localtime()) + ' iter ' + str(i) + ', Test accuracy:' +str(round(accuracy_rate*100,2))+'%')\n",
    "                tfg.savelog('test_accuracy',i, accuracy_rate)            \n",
    "    tf.reset_default_graph()"
   ]
  },
  {
   "cell_type": "code",
   "execution_count": null,
   "metadata": {},
   "outputs": [],
   "source": []
  }
 ],
 "metadata": {
  "kernelspec": {
   "display_name": "Python 3",
   "language": "python",
   "name": "python3"
  },
  "language_info": {
   "codemirror_mode": {
    "name": "ipython",
    "version": 3
   },
   "file_extension": ".py",
   "mimetype": "text/x-python",
   "name": "python",
   "nbconvert_exporter": "python",
   "pygments_lexer": "ipython3",
   "version": "3.7.3"
  }
 },
 "nbformat": 4,
 "nbformat_minor": 2
}
