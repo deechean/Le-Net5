{
 "cells": [
  {
   "cell_type": "code",
   "execution_count": 1,
   "metadata": {},
   "outputs": [
    {
     "name": "stdout",
     "output_type": "stream",
     "text": [
      "parameters were defined.\n"
     ]
    }
   ],
   "source": [
    "#!/usr/bin/env python3\n",
    "# -*- coding: utf-8 -*-\n",
    "\"\"\"\n",
    "Created on Sun Apr  7 22:08:46 2019\n",
    "\n",
    "@author: Deechean\n",
    "\"\"\"\n",
    "from cifar10 import cifar10\n",
    "import os\n",
    "import tensorflow as tf\n",
    "from lenet5 import LetNet5\n",
    "import tf_general as tfg\n",
    "import numpy as np\n",
    "import aws_boto3\n",
    "\n",
    "FLAGS = tf.flags.FLAGS\n",
    "\n",
    "try:\n",
    "    tf.flags.DEFINE_string('f', '', 'kernel')\n",
    "    tf.flags.DEFINE_integer('epoch', 10000, 'epoch')\n",
    "    tf.flags.DEFINE_integer('batch_size',200, 'batch size')\n",
    "    tf.flags.DEFINE_integer('test_size', 200, 'test size')\n",
    "    tf.flags.DEFINE_float('lr', 0.01, 'learning rate')\n",
    "    tf.flags.DEFINE_float('ckpt_frequency', 250, 'frequency to save checkpoint')\n",
    "    tf.flags.DEFINE_boolean('restore', False, 'restore from checkpoint and run test')\n",
    "    print('parameters were defined.')\n",
    "except:\n",
    "    print('parameters have been defined.')\n",
    "    \n",
    "CONTINUE = 1"
   ]
  },
  {
   "cell_type": "code",
   "execution_count": 2,
   "metadata": {},
   "outputs": [
    {
     "name": "stdout",
     "output_type": "stream",
     "text": [
      "train set length: 50000\n",
      "test image shape: (10000, 32, 32, 3)\n",
      "test label shape: (10000,)\n",
      "test set length: 10000\n"
     ]
    }
   ],
   "source": [
    "data = cifar10();\n",
    "train_image, train_label,_ = data.get_train_batch(FLAGS.batch_size)"
   ]
  },
  {
   "cell_type": "code",
   "execution_count": 3,
   "metadata": {},
   "outputs": [],
   "source": [
    "ckpt_dir = 'ckpt/'\n",
    "if not os.path.exists(ckpt_dir):\n",
    "    os.makedirs(ckpt_dir)"
   ]
  },
  {
   "cell_type": "code",
   "execution_count": 4,
   "metadata": {},
   "outputs": [],
   "source": [
    "with tf.name_scope('input'):\n",
    "    x = tf.placeholder(tf.float32, [None, 28,28,3], name='x_input')\n",
    "    keep_prob = tf.placeholder(tf.float32, name='keep_prob')\n",
    "    y_ = tf.placeholder(tf.int64, [None], name='labels')"
   ]
  },
  {
   "cell_type": "code",
   "execution_count": 5,
   "metadata": {
    "scrolled": true
   },
   "outputs": [
    {
     "name": "stdout",
     "output_type": "stream",
     "text": [
      "WARNING:tensorflow:From /home/deechean/github/Lenet5/lenet5.py:22: calling l2_normalize (from tensorflow.python.ops.nn_impl) with dim is deprecated and will be removed in a future version.\n",
      "Instructions for updating:\n",
      "dim is deprecated, use axis instead\n",
      "WARNING:tensorflow:From /home/deechean/anaconda3/envs/tensorflow/lib/python3.7/site-packages/tensorflow/python/framework/op_def_library.py:263: colocate_with (from tensorflow.python.framework.ops) is deprecated and will be removed in a future version.\n",
      "Instructions for updating:\n",
      "Colocations handled automatically by placer.\n",
      "WARNING:tensorflow:From /home/deechean/github/Lenet5/tf_general.py:109: calling dropout (from tensorflow.python.ops.nn_ops) with keep_prob is deprecated and will be removed in a future version.\n",
      "Instructions for updating:\n",
      "Please use `rate` instead of `keep_prob`. Rate should be set to `rate = 1 - keep_prob`.\n"
     ]
    }
   ],
   "source": [
    "with tf.name_scope('prediction'):\n",
    "    le_net5 = LetNet5(x, keep_prob)\n",
    "    y = le_net5.prediction"
   ]
  },
  {
   "cell_type": "code",
   "execution_count": 6,
   "metadata": {},
   "outputs": [],
   "source": [
    "with tf.name_scope('cross_entropy'):\n",
    "    cross_entropy = tf.reduce_mean(tf.nn.sparse_softmax_cross_entropy_with_logits(logits=y,\n",
    "                                                                                  labels=y_, \n",
    "                                                                                  name=\"cross_entropy_per_example\"))"
   ]
  },
  {
   "cell_type": "code",
   "execution_count": 7,
   "metadata": {},
   "outputs": [],
   "source": [
    "with tf.name_scope('train_step'):\n",
    "    train_step = tf.train.AdagradOptimizer(FLAGS.lr).minimize(cross_entropy)"
   ]
  },
  {
   "cell_type": "code",
   "execution_count": 8,
   "metadata": {},
   "outputs": [],
   "source": [
    "prediction =tf.argmax(y, 1)\n",
    "accuracy = tf.reduce_mean(tf.cast( tf.equal(prediction,y_), tf.float32))"
   ]
  },
  {
   "cell_type": "code",
   "execution_count": 9,
   "metadata": {},
   "outputs": [],
   "source": [
    "def SaveCheckpoint2S3():\n",
    "    bucketname = 'sagemaker-deechean-dl' \n",
    "    path = 'lenet_ckpt/'\n",
    "    for file in os.listdir('ckpt'):\n",
    "        if os.path.isfile('ckpt/'+file):\n",
    "            print('save files to s3')\n",
    "            aws_boto3.upload_file('ckpt/'+file, bucketname,path+file)"
   ]
  },
  {
   "cell_type": "code",
   "execution_count": 10,
   "metadata": {},
   "outputs": [
    {
     "name": "stdout",
     "output_type": "stream",
     "text": [
      "WARNING:tensorflow:From /home/deechean/anaconda3/envs/tensorflow/lib/python3.7/site-packages/tensorflow/python/training/saver.py:1266: checkpoint_exists (from tensorflow.python.training.checkpoint_management) is deprecated and will be removed in a future version.\n",
      "Instructions for updating:\n",
      "Use standard file APIs to check for files with this prefix.\n",
      "INFO:tensorflow:Restoring parameters from ckpt/cifar10_100000.ckpt-100000\n",
      "2019-06-05 18:53:35 iter 249, Test accuracy:56.3%\n",
      "2019-06-05 18:57:37 iter 499, Test accuracy:56.24%\n",
      "2019-06-05 19:01:19 iter 749, Test accuracy:56.38%\n",
      "2019-06-05 19:05:33 iter 999, Test accuracy:56.36%\n",
      "2019-06-05 19:09:19 iter 1249, Test accuracy:56.41%\n",
      "WARNING:tensorflow:From /home/deechean/anaconda3/envs/tensorflow/lib/python3.7/site-packages/tensorflow/python/training/saver.py:966: remove_checkpoint (from tensorflow.python.training.checkpoint_management) is deprecated and will be removed in a future version.\n",
      "Instructions for updating:\n",
      "Use standard file APIs to delete files with this prefix.\n",
      "2019-06-05 19:13:37 iter 1499, Test accuracy:56.63%\n",
      "2019-06-05 19:17:32 iter 1749, Test accuracy:56.33%\n",
      "2019-06-05 19:21:03 iter 1999, Test accuracy:56.37%\n",
      "2019-06-05 19:24:19 iter 2249, Test accuracy:56.6%\n",
      "2019-06-05 19:29:57 iter 2499, Test accuracy:56.8%\n",
      "2019-06-05 19:36:20 iter 2749, Test accuracy:56.02%\n",
      "2019-06-05 19:46:10 iter 2999, Test accuracy:56.38%\n",
      "2019-06-05 19:51:27 iter 3249, Test accuracy:56.4%\n",
      "2019-06-05 19:58:50 iter 3499, Test accuracy:56.3%\n",
      "2019-06-05 20:05:43 iter 3749, Test accuracy:56.35%\n",
      "2019-06-05 20:15:27 iter 3999, Test accuracy:56.72%\n",
      "2019-06-05 20:20:53 iter 4249, Test accuracy:56.45%\n",
      "2019-06-05 20:26:56 iter 4499, Test accuracy:56.45%\n",
      "2019-06-05 20:36:48 iter 4749, Test accuracy:56.74%\n",
      "2019-06-05 21:04:32 iter 4999, Test accuracy:56.27%\n",
      "2019-06-05 21:08:19 iter 5249, Test accuracy:56.34%\n",
      "2019-06-05 21:12:31 iter 5499, Test accuracy:56.23%\n",
      "2019-06-05 21:16:25 iter 5749, Test accuracy:56.42%\n",
      "2019-06-05 21:20:02 iter 5999, Test accuracy:56.56%\n",
      "2019-06-05 21:24:03 iter 6249, Test accuracy:56.21%\n",
      "2019-06-05 21:28:38 iter 6499, Test accuracy:56.52%\n",
      "2019-06-05 21:33:30 iter 6749, Test accuracy:56.81%\n",
      "2019-06-05 21:38:24 iter 6999, Test accuracy:56.42%\n",
      "2019-06-05 21:42:42 iter 7249, Test accuracy:56.57%\n",
      "2019-06-05 21:46:59 iter 7499, Test accuracy:56.21%\n",
      "2019-06-05 21:50:59 iter 7749, Test accuracy:56.39%\n",
      "2019-06-05 21:56:16 iter 7999, Test accuracy:56.56%\n",
      "2019-06-05 22:00:47 iter 8249, Test accuracy:56.7%\n",
      "2019-06-05 22:04:26 iter 8499, Test accuracy:56.08%\n",
      "2019-06-05 22:08:27 iter 8749, Test accuracy:56.48%\n",
      "2019-06-05 22:12:43 iter 8999, Test accuracy:56.45%\n",
      "2019-06-05 22:17:04 iter 9249, Test accuracy:56.41%\n",
      "2019-06-05 22:21:07 iter 9499, Test accuracy:56.27%\n",
      "2019-06-05 22:25:41 iter 9749, Test accuracy:56.58%\n",
      "2019-06-05 22:31:02 iter 9999, Test accuracy:56.48%\n"
     ]
    }
   ],
   "source": [
    "import time\n",
    "\n",
    "if __name__ == '__main__':\n",
    "    with tf.Session() as sess:\n",
    "        sess.run(tf.global_variables_initializer())\n",
    "        saver = tf.train.Saver()\n",
    "        if CONTINUE != 0:\n",
    "            model_file=tf.train.latest_checkpoint('ckpt/')\n",
    "            saver.restore(sess,model_file)\n",
    "        for i in range(CONTINUE, FLAGS.epoch):\n",
    "            train_image, train_label,_ = data.get_train_batch(FLAGS.batch_size)\n",
    "            loss, _,accuracy_rate = sess.run([cross_entropy, train_step,accuracy], feed_dict={keep_prob: 1, x:train_image, y_:train_label})\n",
    "            tfg.savelog('accuracy',i, accuracy_rate)  \n",
    "            tfg.savelog('loss',i, loss)   \n",
    "            if (i+1) % FLAGS.ckpt_frequency == 0:  #保存预测模型\n",
    "                saver.save(sess,'ckpt/cifar10_'+str(i+1)+'.ckpt',global_step=i+1)\n",
    "                #SaveCheckpoint2S3()\n",
    "                acc_accuracy = 0\n",
    "                for j in range(int(10000/FLAGS.test_size)):                    \n",
    "                    test_image, test_label,test_index = data.get_test_batch(FLAGS.test_size)\n",
    "                    accuracy_rate, output = sess.run([accuracy,prediction],feed_dict={keep_prob: 1, x:test_image, y_:test_label})\n",
    "                    acc_accuracy += accuracy_rate\n",
    "                    tfg.savelog('test_index',i, test_index)\n",
    "                    tfg.savelog('output',i, output)\n",
    "                accuracy_rate = acc_accuracy/10000*FLAGS.test_size\n",
    "                print(time.strftime(\"%Y-%m-%d %H:%M:%S\", time.localtime()) + ' iter ' + str(i) + ', Test accuracy:' +str(round(accuracy_rate*100,2))+'%')\n",
    "                tfg.savelog('test_accuracy',i, accuracy_rate)            \n",
    "    tf.reset_default_graph()"
   ]
  }
 ],
 "metadata": {
  "kernelspec": {
   "display_name": "Python 3",
   "language": "python",
   "name": "python3"
  },
  "language_info": {
   "codemirror_mode": {
    "name": "ipython",
    "version": 3
   },
   "file_extension": ".py",
   "mimetype": "text/x-python",
   "name": "python",
   "nbconvert_exporter": "python",
   "pygments_lexer": "ipython3",
   "version": "3.7.3"
  }
 },
 "nbformat": 4,
 "nbformat_minor": 2
}
