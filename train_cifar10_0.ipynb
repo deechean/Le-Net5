{
 "cells": [
  {
   "cell_type": "code",
   "execution_count": 1,
   "metadata": {},
   "outputs": [
    {
     "name": "stdout",
     "output_type": "stream",
     "text": [
      "parameters were defined.\n",
      "learn Rate = 0.01 keep Prob= 0.5  image augument= True\n"
     ]
    }
   ],
   "source": [
    "#!/usr/bin/env python3\n",
    "# -*- coding: utf-8 -*-\n",
    "\"\"\"\n",
    "Created on Sun Apr  7 22:08:46 2019\n",
    "\n",
    "@author: Deechean\n",
    "\"\"\"\n",
    "from cifar10 import cifar10\n",
    "import os\n",
    "import tensorflow as tf\n",
    "from lenet5 import LetNet5\n",
    "import tf_general as tfg\n",
    "import numpy as np\n",
    "import aws_boto3\n",
    "\n",
    "FLAGS = tf.flags.FLAGS\n",
    "\n",
    "try:\n",
    "    tf.flags.DEFINE_string('f', '', 'kernel')\n",
    "    tf.flags.DEFINE_integer('epoch', 10000, 'epoch')\n",
    "    tf.flags.DEFINE_integer('batch_size',200, 'batch size')\n",
    "    tf.flags.DEFINE_integer('test_size', 200, 'test size')\n",
    "    tf.flags.DEFINE_float('lr', 0.01, 'learning rate')\n",
    "    tf.flags.DEFINE_float('keep_prob', 0.5, 'keep prob for drop lay')\n",
    "    tf.flags.DEFINE_boolean('augument', True, 'if image augument is applied')\n",
    "                            \n",
    "    tf.flags.DEFINE_float('ckpt_frequency', 250, 'frequency to save checkpoint')\n",
    "    tf.flags.DEFINE_boolean('restore', False, 'restore from checkpoint and run test')\n",
    "    print('parameters were defined.')\n",
    "except:\n",
    "    print('parameters have been defined.')\n",
    "\n",
    "print(\"learn Rate =\",FLAGS.lr, \"keep Prob=\", FLAGS.keep_prob, \" image augument=\",FLAGS.augument)   \n",
    "CONTINUE = 0"
   ]
  },
  {
   "cell_type": "code",
   "execution_count": 2,
   "metadata": {},
   "outputs": [
    {
     "name": "stdout",
     "output_type": "stream",
     "text": [
      "train set length: 50000\n",
      "test image shape: (10000, 32, 32, 3)\n",
      "test label shape: (10000,)\n",
      "test set length: 10000\n"
     ]
    }
   ],
   "source": [
    "data = cifar10();\n",
    "train_image, train_label,_ = data.get_train_batch(FLAGS.batch_size)"
   ]
  },
  {
   "cell_type": "code",
   "execution_count": 3,
   "metadata": {
    "collapsed": true
   },
   "outputs": [],
   "source": [
    "ckpt_dir = 'ckpt_0/'\n",
    "if not os.path.exists(ckpt_dir):\n",
    "    os.makedirs(ckpt_dir)"
   ]
  },
  {
   "cell_type": "code",
   "execution_count": 4,
   "metadata": {
    "collapsed": true
   },
   "outputs": [],
   "source": [
    "with tf.name_scope('input'):\n",
    "    x = tf.placeholder(tf.float32, [None, 28,28,3], name='x_input')\n",
    "    keep_prob = tf.placeholder(tf.float32, name='keep_prob')\n",
    "    y_ = tf.placeholder(tf.int64, [None], name='labels')"
   ]
  },
  {
   "cell_type": "code",
   "execution_count": 5,
   "metadata": {
    "collapsed": true,
    "scrolled": true
   },
   "outputs": [],
   "source": [
    "with tf.name_scope('prediction'):\n",
    "    le_net5 = LetNet5(x, keep_prob)\n",
    "    y = le_net5.prediction"
   ]
  },
  {
   "cell_type": "code",
   "execution_count": 6,
   "metadata": {
    "collapsed": true
   },
   "outputs": [],
   "source": [
    "with tf.name_scope('cross_entropy'):\n",
    "    cross_entropy = tf.reduce_mean(tf.nn.sparse_softmax_cross_entropy_with_logits(logits=y,\n",
    "                                                                                  labels=y_, \n",
    "                                                                                  name=\"cross_entropy_per_example\"))"
   ]
  },
  {
   "cell_type": "code",
   "execution_count": 7,
   "metadata": {
    "collapsed": true
   },
   "outputs": [],
   "source": [
    "with tf.name_scope('train_step'):\n",
    "    train_step = tf.train.AdagradOptimizer(FLAGS.lr).minimize(cross_entropy)"
   ]
  },
  {
   "cell_type": "code",
   "execution_count": 8,
   "metadata": {
    "collapsed": true
   },
   "outputs": [],
   "source": [
    "prediction =tf.argmax(y, 1)\n",
    "accuracy = tf.reduce_mean(tf.cast( tf.equal(prediction,y_), tf.float32))"
   ]
  },
  {
   "cell_type": "code",
   "execution_count": null,
   "metadata": {
    "collapsed": true
   },
   "outputs": [],
   "source": [
    "def SaveCheckpoint2S3():\n",
    "    bucketname = 'sagemaker-deechean-dl' \n",
    "    path = 'lenet_ckpt/'\n",
    "    for file in os.listdir('ckpt'):\n",
    "        if os.path.isfile('ckpt/'+file):\n",
    "            print('save files to s3')\n",
    "            aws_boto3.upload_file('ckpt/'+file, bucketname,path+file)"
   ]
  },
  {
   "cell_type": "code",
   "execution_count": null,
   "metadata": {},
   "outputs": [
    {
     "name": "stdout",
     "output_type": "stream",
     "text": [
      "2019-06-07 08:28:09 iter 249, Test accuracy:19.44%\n",
      "2019-06-07 08:36:50 iter 499, Test accuracy:25.94%\n",
      "2019-06-07 08:45:55 iter 749, Test accuracy:26.07%\n",
      "2019-06-07 08:54:31 iter 999, Test accuracy:28.82%\n",
      "2019-06-07 09:04:29 iter 1249, Test accuracy:29.03%\n",
      "2019-06-07 09:15:22 iter 1499, Test accuracy:29.63%\n",
      "2019-06-07 09:25:40 iter 1749, Test accuracy:30.66%\n",
      "2019-06-07 09:35:39 iter 1999, Test accuracy:29.83%\n",
      "2019-06-07 09:46:49 iter 2249, Test accuracy:31.47%\n",
      "2019-06-07 09:56:34 iter 2499, Test accuracy:32.55%\n",
      "2019-06-07 10:08:12 iter 2749, Test accuracy:32.8%\n",
      "2019-06-07 10:18:02 iter 2999, Test accuracy:33.66%\n",
      "2019-06-07 10:27:54 iter 3249, Test accuracy:34.51%\n",
      "2019-06-07 10:38:45 iter 3499, Test accuracy:34.69%\n",
      "2019-06-07 10:47:58 iter 3749, Test accuracy:35.89%\n",
      "2019-06-07 10:59:50 iter 3999, Test accuracy:36.8%\n",
      "2019-06-07 11:09:41 iter 4249, Test accuracy:37.75%\n",
      "2019-06-07 11:21:50 iter 4499, Test accuracy:35.38%\n",
      "2019-06-07 11:33:25 iter 4749, Test accuracy:38.93%\n",
      "2019-06-07 11:44:03 iter 4999, Test accuracy:39.1%\n",
      "2019-06-07 11:54:31 iter 5249, Test accuracy:39.06%\n",
      "2019-06-07 12:05:28 iter 5499, Test accuracy:39.16%\n",
      "2019-06-07 12:14:50 iter 5749, Test accuracy:39.88%\n",
      "2019-06-07 12:25:09 iter 5999, Test accuracy:39.86%\n",
      "2019-06-07 12:35:57 iter 6249, Test accuracy:39.81%\n",
      "2019-06-07 12:46:20 iter 6499, Test accuracy:40.96%\n",
      "2019-06-07 12:56:49 iter 6749, Test accuracy:40.34%\n",
      "2019-06-07 13:08:15 iter 6999, Test accuracy:41.07%\n",
      "2019-06-07 13:20:07 iter 7249, Test accuracy:40.81%\n",
      "2019-06-07 13:30:30 iter 7499, Test accuracy:41.59%\n",
      "2019-06-07 13:43:13 iter 7749, Test accuracy:41.46%\n",
      "2019-06-07 13:56:05 iter 7999, Test accuracy:42.51%\n",
      "2019-06-07 14:06:43 iter 8249, Test accuracy:41.64%\n",
      "2019-06-07 14:17:09 iter 8499, Test accuracy:42.09%\n",
      "2019-06-07 14:29:03 iter 8749, Test accuracy:42.53%\n",
      "2019-06-07 14:39:47 iter 8999, Test accuracy:42.83%\n",
      "2019-06-07 14:50:15 iter 9249, Test accuracy:43.1%\n"
     ]
    }
   ],
   "source": [
    "import time\n",
    "filename = 'lenet_train_cifar10_0.log'\n",
    "\n",
    "if __name__ == '__main__':\n",
    "    with tf.Session() as sess:\n",
    "        sess.run(tf.global_variables_initializer())\n",
    "        saver = tf.train.Saver(max_to_keep=1)\n",
    "        if CONTINUE != 0:\n",
    "            model_file=tf.train.latest_checkpoint(ckpt_dir)\n",
    "            saver.restore(sess,model_file)\n",
    "        for i in range(CONTINUE, FLAGS.epoch):\n",
    "            train_image, train_label,_ = data.get_train_batch(FLAGS.batch_size,FLAGS.augument)\n",
    "            loss, _,accuracy_rate = sess.run([cross_entropy, train_step,accuracy], feed_dict={keep_prob: FLAGS.keep_prob, x:train_image, y_:train_label})\n",
    "            tfg.savelog(filename,'train_accuracy',i, accuracy_rate)  \n",
    "            tfg.savelog(filename,'train_loss',i, loss)   \n",
    "            if (i+1) % FLAGS.ckpt_frequency == 0:  #保存预测模型\n",
    "                saver.save(sess,ckpt_dir+'cifar10_'+str(i+1)+'.ckpt',global_step=i+1)\n",
    "                #SaveCheckpoint2S3()\n",
    "                acc_accuracy = 0\n",
    "                for j in range(int(10000/FLAGS.test_size)):                    \n",
    "                    test_image, test_label,test_index = data.get_test_batch(FLAGS.test_size)\n",
    "                    accuracy_rate, output = sess.run([accuracy,prediction],feed_dict={keep_prob: 1, x:test_image, y_:test_label})\n",
    "                    acc_accuracy += accuracy_rate\n",
    "                    tfg.savelog(filename,'test_index',i, test_index)\n",
    "                    tfg.savelog(filename,'output',i, output)\n",
    "                accuracy_rate = acc_accuracy/10000*FLAGS.test_size\n",
    "                print(time.strftime(\"%Y-%m-%d %H:%M:%S\", time.localtime()) + ' iter ' + str(i) + ', Test accuracy:' +str(round(accuracy_rate*100,2))+'%')\n",
    "                tfg.savelog(filename,'test_accuracy',i, accuracy_rate)            \n",
    "    tf.reset_default_graph()"
   ]
  },
  {
   "cell_type": "code",
   "execution_count": null,
   "metadata": {
    "collapsed": true
   },
   "outputs": [],
   "source": []
  }
 ],
 "metadata": {
  "kernelspec": {
   "display_name": "Python 3",
   "language": "python",
   "name": "python3"
  },
  "language_info": {
   "codemirror_mode": {
    "name": "ipython",
    "version": 3
   },
   "file_extension": ".py",
   "mimetype": "text/x-python",
   "name": "python",
   "nbconvert_exporter": "python",
   "pygments_lexer": "ipython3",
   "version": "3.5.4"
  }
 },
 "nbformat": 4,
 "nbformat_minor": 2
}
