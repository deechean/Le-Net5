{
 "cells": [
  {
   "cell_type": "code",
   "execution_count": 1,
   "metadata": {},
   "outputs": [
    {
     "name": "stdout",
     "output_type": "stream",
     "text": [
      "parameters were defined.\n",
      "learn Rate = 0.01 keep Prob= 0.5  image augument= True\n"
     ]
    }
   ],
   "source": [
    "#!/usr/bin/env python3\n",
    "# -*- coding: utf-8 -*-\n",
    "\"\"\"\n",
    "Created on Sun Apr  7 22:08:46 2019\n",
    "\n",
    "@author: Deechean\n",
    "\"\"\"\n",
    "from cifar10 import cifar10\n",
    "import os\n",
    "import tensorflow as tf\n",
    "from lenet5 import LeNet5\n",
    "import tf_general as tfg\n",
    "import numpy as np\n",
    "\n",
    "FLAGS = tf.flags.FLAGS\n",
    "\n",
    "try:\n",
    "    tf.flags.DEFINE_string('f', '', 'kernel')\n",
    "    tf.flags.DEFINE_integer('epoch', 40000, 'epoch')\n",
    "    tf.flags.DEFINE_integer('batch_size',200, 'batch size')\n",
    "    tf.flags.DEFINE_integer('test_size', 200, 'test size')\n",
    "    tf.flags.DEFINE_float('lr', 0.01, 'learning rate')\n",
    "    tf.flags.DEFINE_float('keep_prob', 0.5, 'keep prob for drop lay')\n",
    "    tf.flags.DEFINE_boolean('augument', True, 'if image augument is applied')\n",
    "                            \n",
    "    tf.flags.DEFINE_float('ckpt_frequency', 250, 'frequency to save checkpoint')\n",
    "    tf.flags.DEFINE_boolean('restore', False, 'restore from checkpoint and run test')\n",
    "    print('parameters were defined.')\n",
    "except:\n",
    "    print('parameters have been defined.')\n",
    "\n",
    "print(\"learn Rate =\",FLAGS.lr, \"keep Prob=\", FLAGS.keep_prob, \" image augument=\",FLAGS.augument)   \n",
    "CONTINUE = 30000"
   ]
  },
  {
   "cell_type": "markdown",
   "metadata": {},
   "source": [
    "## Generate Checkpoint dir and Log dir\n",
    "\n",
    "- Checkpoint dir is saved in variable **ckpt_dir**, if the dir doesn't exist then create it. \n",
    "- Log file dir is saved in variable **ckpt_dir**, if the dir doesn't exist then create it. "
   ]
  },
  {
   "cell_type": "code",
   "execution_count": 2,
   "metadata": {},
   "outputs": [],
   "source": [
    "ckpt_dir = 'ckpt_0/'\n",
    "if not os.path.exists(ckpt_dir):\n",
    "    os.makedirs(ckpt_dir)\n",
    "log_dir = 'log_0/'\n",
    "if not os.path.exists(log_dir):\n",
    "    os.makedirs(log_dir)"
   ]
  },
  {
   "cell_type": "markdown",
   "metadata": {},
   "source": [
    "## Input layer \n",
    "Use the data feeder to provide the training data. Therefore we define a placeholder with the same structure of the input data. \n",
    "The CIFAR-10 data is 60000 RGB images with each size is 32x32. The data structure should be[batchsize, 32,32,3]. Input channels are 3.  "
   ]
  },
  {
   "cell_type": "code",
   "execution_count": 3,
   "metadata": {},
   "outputs": [],
   "source": [
    "with tf.device('/cpu:0'):\n",
    "    with tf.name_scope('input'):\n",
    "        x = tf.placeholder(tf.float32, [None,32,32,3], name='x_input')\n",
    "        keep_prob = tf.placeholder(tf.float32, name='keep_prob')\n",
    "        y_ = tf.placeholder(tf.int64, [None], name='labels')"
   ]
  },
  {
   "cell_type": "code",
   "execution_count": 4,
   "metadata": {
    "scrolled": true
   },
   "outputs": [
    {
     "name": "stdout",
     "output_type": "stream",
     "text": [
      "WARNING:tensorflow:From /home/deechean/anaconda3/envs/tensorflow/lib/python3.7/site-packages/tensorflow/python/framework/op_def_library.py:263: colocate_with (from tensorflow.python.framework.ops) is deprecated and will be removed in a future version.\n",
      "Instructions for updating:\n",
      "Colocations handled automatically by placer.\n",
      "conv_1:  (?, 28, 28, 6)\n",
      "pool_1:  (?, 14, 14, 6)\n",
      "conv_2:  (?, 10, 10, 16)\n",
      "pool_2:  (?, 5, 5, 16)\n",
      "flat_1: (?, 400)\n",
      "fc_1:  (?, 120)\n",
      "fc_2:  (?, 84)\n",
      "fc_3:  (?, 10)\n",
      "WARNING:tensorflow:From /home/deechean/github/Lenet5/tf_general.py:115: calling dropout (from tensorflow.python.ops.nn_ops) with keep_prob is deprecated and will be removed in a future version.\n",
      "Instructions for updating:\n",
      "Please use `rate` instead of `keep_prob`. Rate should be set to `rate = 1 - keep_prob`.\n",
      "drop_out:  (?, 10)\n",
      "prediction:  (?, 10)\n"
     ]
    }
   ],
   "source": [
    "with tf.device('/cpu:1'):\n",
    "    with tf.name_scope('prediction'):\n",
    "        le_net5 = LeNet5(x, keep_prob)\n",
    "        y = le_net5.prediction\n",
    "        \"\"\"training parameters log\n",
    "        x_norm = le_net5.x_norm\n",
    "        conv1 = le_net5.conv1\n",
    "        pool1 = le_net5.pool1\n",
    "        conv2 = le_net5.conv2\n",
    "        pool2 = le_net5.pool2\n",
    "        fc1 = le_net5.fc1\n",
    "        fc2 = le_net5.fc2\n",
    "        fc3 = le_net5.fc3\n",
    "        \"\"\""
   ]
  },
  {
   "cell_type": "code",
   "execution_count": 5,
   "metadata": {},
   "outputs": [],
   "source": [
    "with tf.device('/cpu:2'):\n",
    "    with tf.name_scope('cross_entropy'):\n",
    "        cross_entropy = tf.reduce_mean(tf.nn.sparse_softmax_cross_entropy_with_logits(logits=y,\n",
    "                                                                                      labels=y_, \n",
    "                                                                                      name=\"cross_entropy_per_example\"))"
   ]
  },
  {
   "cell_type": "code",
   "execution_count": 6,
   "metadata": {},
   "outputs": [],
   "source": [
    "with tf.device('/cpu:3'):\n",
    "    with tf.name_scope('train_step'):\n",
    "        train_step = tf.train.AdagradOptimizer(FLAGS.lr).minimize(cross_entropy)"
   ]
  },
  {
   "cell_type": "code",
   "execution_count": 7,
   "metadata": {},
   "outputs": [],
   "source": [
    "with tf.device('/cpu:0'):\n",
    "    prediction =tf.argmax(y, 1)\n",
    "    accuracy = tf.reduce_mean(tf.cast( tf.equal(prediction,y_), tf.float32))"
   ]
  },
  {
   "cell_type": "code",
   "execution_count": null,
   "metadata": {
    "scrolled": true
   },
   "outputs": [
    {
     "name": "stdout",
     "output_type": "stream",
     "text": [
      "train set length: 50000\n",
      "test set length: 10000\n",
      "WARNING:tensorflow:From /home/deechean/anaconda3/envs/tensorflow/lib/python3.7/site-packages/tensorflow/python/training/saver.py:1266: checkpoint_exists (from tensorflow.python.training.checkpoint_management) is deprecated and will be removed in a future version.\n",
      "Instructions for updating:\n",
      "Use standard file APIs to check for files with this prefix.\n",
      "INFO:tensorflow:Restoring parameters from ckpt_0/cifar10_30000.ckpt-30000\n",
      "2019-06-09 17:02:27 iter 30249, Test accuracy:34.52%\n",
      "WARNING:tensorflow:From /home/deechean/anaconda3/envs/tensorflow/lib/python3.7/site-packages/tensorflow/python/training/saver.py:966: remove_checkpoint (from tensorflow.python.training.checkpoint_management) is deprecated and will be removed in a future version.\n",
      "Instructions for updating:\n",
      "Use standard file APIs to delete files with this prefix.\n",
      "2019-06-09 17:08:38 iter 30499, Test accuracy:34.7%\n",
      "2019-06-09 17:14:53 iter 30749, Test accuracy:34.73%\n",
      "2019-06-09 17:23:23 iter 30999, Test accuracy:34.57%\n",
      "2019-06-09 17:29:41 iter 31249, Test accuracy:35.04%\n",
      "2019-06-09 17:35:51 iter 31499, Test accuracy:34.83%\n",
      "2019-06-09 17:41:23 iter 31749, Test accuracy:34.91%\n",
      "2019-06-09 17:47:11 iter 31999, Test accuracy:34.57%\n",
      "2019-06-09 17:54:37 iter 32249, Test accuracy:34.98%\n",
      "2019-06-09 18:01:52 iter 32499, Test accuracy:35.09%\n",
      "2019-06-09 18:08:49 iter 32749, Test accuracy:34.4%\n",
      "2019-06-09 18:14:38 iter 32999, Test accuracy:34.78%\n",
      "2019-06-09 18:21:00 iter 33249, Test accuracy:35.09%\n",
      "2019-06-09 18:29:04 iter 33499, Test accuracy:35.49%\n",
      "2019-06-09 18:35:40 iter 33749, Test accuracy:35.24%\n",
      "2019-06-09 18:42:14 iter 33999, Test accuracy:35.21%\n",
      "2019-06-09 18:48:33 iter 34249, Test accuracy:35.34%\n",
      "2019-06-09 18:54:08 iter 34499, Test accuracy:35.04%\n",
      "2019-06-09 19:01:02 iter 34749, Test accuracy:35.49%\n",
      "2019-06-09 19:06:52 iter 34999, Test accuracy:35.4%\n",
      "2019-06-09 19:15:14 iter 35249, Test accuracy:35.18%\n",
      "2019-06-09 19:21:25 iter 35499, Test accuracy:35.4%\n",
      "2019-06-09 19:29:14 iter 35749, Test accuracy:35.24%\n",
      "2019-06-09 19:35:37 iter 35999, Test accuracy:35.52%\n",
      "2019-06-09 19:44:14 iter 36249, Test accuracy:35.11%\n",
      "2019-06-09 19:57:04 iter 36499, Test accuracy:35.2%\n",
      "2019-06-09 20:08:02 iter 36749, Test accuracy:35.03%\n",
      "2019-06-09 20:20:36 iter 36999, Test accuracy:35.53%\n",
      "2019-06-09 20:33:55 iter 37249, Test accuracy:35.31%\n",
      "2019-06-09 20:45:24 iter 37499, Test accuracy:35.56%\n",
      "2019-06-09 20:59:49 iter 37749, Test accuracy:35.58%\n",
      "2019-06-09 21:13:19 iter 37999, Test accuracy:35.48%\n",
      "2019-06-09 21:22:51 iter 38249, Test accuracy:35.56%\n"
     ]
    }
   ],
   "source": [
    "import time\n",
    "\n",
    "if __name__ == '__main__':\n",
    "    data = cifar10();\n",
    "\n",
    "    with tf.Session(config=tf.ConfigProto(\n",
    "                            device_count={\"CPU\":4},\n",
    "                            inter_op_parallelism_threads=1,\n",
    "                            intra_op_parallelism_threads=1)) as sess:\n",
    "        sess.run(tf.global_variables_initializer())\n",
    "        saver = tf.train.Saver(max_to_keep=1)\n",
    "        if CONTINUE != 0:\n",
    "            model_file=tf.train.latest_checkpoint(ckpt_dir)\n",
    "            saver.restore(sess,model_file)\n",
    "        for i in range(CONTINUE, FLAGS.epoch):\n",
    "            train_image, train_label,_ = data.get_train_batch(FLAGS.batch_size,FLAGS.augument)\n",
    "            loss, _,accuracy_rate = sess.run([cross_entropy, train_step, accuracy], \n",
    "                                             feed_dict={keep_prob: FLAGS.keep_prob, x:train_image, y_:train_label})\n",
    "            \n",
    "            tfg.savelog(log_dir,'train_accuracy',i, accuracy_rate)  \n",
    "            tfg.savelog(log_dir,'train_loss',i, loss)   \n",
    "            if (i+1) % FLAGS.ckpt_frequency == 0:  #保存预测模型\n",
    "                saver.save(sess,ckpt_dir+'cifar10_'+str(i+1)+'.ckpt',global_step=i+1)\n",
    "                #SaveCheckpoint2S3()\n",
    "                acc_accuracy = 0\n",
    "                for j in range(int(10000/FLAGS.test_size)):                    \n",
    "                    test_image, test_label,test_index = data.get_test_batch(FLAGS.test_size)\n",
    "                    accuracy_rate, output = sess.run([accuracy,prediction],\n",
    "                                                     feed_dict={keep_prob: 1, x:test_image, y_:test_label})\n",
    "                    acc_accuracy += accuracy_rate\n",
    "                    tfg.savelog(log_dir,'test_index',i, test_index)\n",
    "                    #tfg.savelog(log_dir,'x_norm',i, x_norm_value)  \n",
    "                    #tfg.savelog(log_dir,'conv1',i, conv1_value)\n",
    "                    #tfg.savelog(log_dir,'pool1',i, pool1_value)                     \n",
    "                    #tfg.savelog(log_dir,'conv2',i, conv2_value)   \n",
    "                    #tfg.savelog(log_dir,'pool2',i, pool2_value)   \n",
    "                    #tfg.savelog(log_dir,'fc1',i, fc1_value) \n",
    "                    #tfg.savelog(log_dir,'fc2',i, fc2_value) \n",
    "                    #tfg.savelog(log_dir,'fc3',i, fc3_value)                       \n",
    "                    tfg.savelog(log_dir,'output',i, output)\n",
    "                accuracy_rate = acc_accuracy/10000*FLAGS.test_size\n",
    "                print(time.strftime(\"%Y-%m-%d %H:%M:%S\", time.localtime()) + \n",
    "                      ' iter ' + str(i) + ', Test accuracy:' +str(round(accuracy_rate*100,2))+'%')\n",
    "                tfg.savelog(log_dir,'test_accuracy',i, accuracy_rate)            \n",
    "    tf.reset_default_graph()"
   ]
  },
  {
   "cell_type": "code",
   "execution_count": null,
   "metadata": {},
   "outputs": [],
   "source": []
  }
 ],
 "metadata": {
  "kernelspec": {
   "display_name": "Python 3",
   "language": "python",
   "name": "python3"
  },
  "language_info": {
   "codemirror_mode": {
    "name": "ipython",
    "version": 3
   },
   "file_extension": ".py",
   "mimetype": "text/x-python",
   "name": "python",
   "nbconvert_exporter": "python",
   "pygments_lexer": "ipython3",
   "version": "3.7.3"
  }
 },
 "nbformat": 4,
 "nbformat_minor": 2
}
