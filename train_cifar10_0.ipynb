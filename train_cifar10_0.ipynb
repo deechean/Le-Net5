{
 "cells": [
  {
   "cell_type": "code",
   "execution_count": 1,
   "metadata": {},
   "outputs": [
    {
     "name": "stdout",
     "output_type": "stream",
     "text": [
      "parameters were defined.\n",
      "learn Rate = 0.01 keep Prob= 0.5  image augument= True\n"
     ]
    }
   ],
   "source": [
    "#!/usr/bin/env python3\n",
    "# -*- coding: utf-8 -*-\n",
    "\"\"\"\n",
    "Created on Sun Apr  7 22:08:46 2019\n",
    "\n",
    "@author: Deechean\n",
    "\"\"\"\n",
    "from cifar10 import cifar10\n",
    "import os\n",
    "import tensorflow as tf\n",
    "from lenet5 import LeNet5_CIFAR10\n",
    "import tf_general as tfg\n",
    "import numpy as np\n",
    "import aws_boto3\n",
    "\n",
    "FLAGS = tf.flags.FLAGS\n",
    "\n",
    "try:\n",
    "    tf.flags.DEFINE_string('f', '', 'kernel')\n",
    "    tf.flags.DEFINE_integer('epoch', 20000, 'epoch')\n",
    "    tf.flags.DEFINE_integer('batch_size',200, 'batch size')\n",
    "    tf.flags.DEFINE_integer('test_size', 200, 'test size')\n",
    "    tf.flags.DEFINE_float('lr', 0.01, 'learning rate')\n",
    "    tf.flags.DEFINE_float('keep_prob', 0.5, 'keep prob for drop lay')\n",
    "    tf.flags.DEFINE_boolean('augument', True, 'if image augument is applied')\n",
    "                            \n",
    "    tf.flags.DEFINE_float('ckpt_frequency', 250, 'frequency to save checkpoint')\n",
    "    tf.flags.DEFINE_boolean('restore', False, 'restore from checkpoint and run test')\n",
    "    print('parameters were defined.')\n",
    "except:\n",
    "    print('parameters have been defined.')\n",
    "\n",
    "print(\"learn Rate =\",FLAGS.lr, \"keep Prob=\", FLAGS.keep_prob, \" image augument=\",FLAGS.augument)   \n",
    "CONTINUE = 0"
   ]
  },
  {
   "cell_type": "code",
   "execution_count": 2,
   "metadata": {},
   "outputs": [
    {
     "name": "stdout",
     "output_type": "stream",
     "text": [
      "train set length: 50000\n",
      "test image shape: (10000, 3072)\n",
      "test label shape: (10000,)\n",
      "test set length: 10000\n"
     ]
    }
   ],
   "source": [
    "data = cifar10();\n",
    "train_image, train_label,_ = data.get_train_batch(FLAGS.batch_size)"
   ]
  },
  {
   "cell_type": "code",
   "execution_count": 3,
   "metadata": {
    "collapsed": true
   },
   "outputs": [],
   "source": [
    "ckpt_dir = 'ckpt_0/'\n",
    "if not os.path.exists(ckpt_dir):\n",
    "    os.makedirs(ckpt_dir)"
   ]
  },
  {
   "cell_type": "code",
   "execution_count": 4,
   "metadata": {
    "collapsed": true
   },
   "outputs": [],
   "source": [
    "with tf.name_scope('input'):\n",
    "    x = tf.placeholder(tf.float32, [None,32,32,3], name='x_input')\n",
    "    keep_prob = tf.placeholder(tf.float32, name='keep_prob')\n",
    "    y_ = tf.placeholder(tf.int64, [None], name='labels')"
   ]
  },
  {
   "cell_type": "code",
   "execution_count": 5,
   "metadata": {
    "scrolled": true
   },
   "outputs": [
    {
     "name": "stdout",
     "output_type": "stream",
     "text": [
      "conv_1:  (?, 28, 28, 18)\n",
      "pool_1:  (?, 14, 14, 18)\n",
      "conv_2:  (?, 10, 10, 48)\n",
      "pool_2:  (?, 5, 5, 48)\n",
      "flat_1: (?, 1200)\n",
      "fc_1:  (?, 120)\n",
      "fc_2:  (?, 84)\n",
      "fc_3:  (?, 10)\n",
      "drop_out_1:  (?, 10)\n",
      "prediction:  (?, 10)\n"
     ]
    }
   ],
   "source": [
    "with tf.name_scope('prediction'):\n",
    "    le_net5 = LeNet5_CIFAR10(x, keep_prob)\n",
    "    y = le_net5.prediction"
   ]
  },
  {
   "cell_type": "code",
   "execution_count": 6,
   "metadata": {
    "collapsed": true
   },
   "outputs": [],
   "source": [
    "with tf.name_scope('cross_entropy'):\n",
    "    cross_entropy = tf.reduce_mean(tf.nn.sparse_softmax_cross_entropy_with_logits(logits=y,\n",
    "                                                                                  labels=y_, \n",
    "                                                                                  name=\"cross_entropy_per_example\"))"
   ]
  },
  {
   "cell_type": "code",
   "execution_count": 7,
   "metadata": {
    "collapsed": true
   },
   "outputs": [],
   "source": [
    "with tf.name_scope('train_step'):\n",
    "    train_step = tf.train.AdagradOptimizer(FLAGS.lr).minimize(cross_entropy)"
   ]
  },
  {
   "cell_type": "code",
   "execution_count": 8,
   "metadata": {
    "collapsed": true
   },
   "outputs": [],
   "source": [
    "prediction =tf.argmax(y, 1)\n",
    "accuracy = tf.reduce_mean(tf.cast( tf.equal(prediction,y_), tf.float32))"
   ]
  },
  {
   "cell_type": "code",
   "execution_count": 9,
   "metadata": {
    "collapsed": true
   },
   "outputs": [],
   "source": [
    "def SaveCheckpoint2S3():\n",
    "    bucketname = 'sagemaker-deechean-dl' \n",
    "    path = 'lenet_ckpt/'\n",
    "    for file in os.listdir('ckpt'):\n",
    "        if os.path.isfile('ckpt/'+file):\n",
    "            print('save files to s3')\n",
    "            aws_boto3.upload_file('ckpt/'+file, bucketname,path+file)"
   ]
  },
  {
   "cell_type": "code",
   "execution_count": 10,
   "metadata": {},
   "outputs": [
    {
     "ename": "ValueError",
     "evalue": "axes don't match array",
     "output_type": "error",
     "traceback": [
      "\u001b[0;31m---------------------------------------------------------------------------\u001b[0m",
      "\u001b[0;31mValueError\u001b[0m                                Traceback (most recent call last)",
      "\u001b[0;32m<ipython-input-10-2a82daf2f805>\u001b[0m in \u001b[0;36m<module>\u001b[0;34m()\u001b[0m\n\u001b[1;32m     20\u001b[0m                 \u001b[0macc_accuracy\u001b[0m \u001b[0;34m=\u001b[0m \u001b[0;36m0\u001b[0m\u001b[0;34m\u001b[0m\u001b[0m\n\u001b[1;32m     21\u001b[0m                 \u001b[0;32mfor\u001b[0m \u001b[0mj\u001b[0m \u001b[0;32min\u001b[0m \u001b[0mrange\u001b[0m\u001b[0;34m(\u001b[0m\u001b[0mint\u001b[0m\u001b[0;34m(\u001b[0m\u001b[0;36m10000\u001b[0m\u001b[0;34m/\u001b[0m\u001b[0mFLAGS\u001b[0m\u001b[0;34m.\u001b[0m\u001b[0mtest_size\u001b[0m\u001b[0;34m)\u001b[0m\u001b[0;34m)\u001b[0m\u001b[0;34m:\u001b[0m\u001b[0;34m\u001b[0m\u001b[0m\n\u001b[0;32m---> 22\u001b[0;31m                     \u001b[0mtest_image\u001b[0m\u001b[0;34m,\u001b[0m \u001b[0mtest_label\u001b[0m\u001b[0;34m,\u001b[0m\u001b[0mtest_index\u001b[0m \u001b[0;34m=\u001b[0m \u001b[0mdata\u001b[0m\u001b[0;34m.\u001b[0m\u001b[0mget_test_batch\u001b[0m\u001b[0;34m(\u001b[0m\u001b[0mFLAGS\u001b[0m\u001b[0;34m.\u001b[0m\u001b[0mtest_size\u001b[0m\u001b[0;34m)\u001b[0m\u001b[0;34m\u001b[0m\u001b[0m\n\u001b[0m\u001b[1;32m     23\u001b[0m                     accuracy_rate, output = sess.run([accuracy,prediction],\n\u001b[1;32m     24\u001b[0m                                                      feed_dict={keep_prob: 1, x:test_image, y_:test_label})\n",
      "\u001b[0;32m~/Notebooks/Lenet5/cifar10.py\u001b[0m in \u001b[0;36mget_test_batch\u001b[0;34m(self, batch_size)\u001b[0m\n\u001b[1;32m    155\u001b[0m                 \u001b[0;32mif\u001b[0m \u001b[0mlen\u001b[0m\u001b[0;34m(\u001b[0m\u001b[0mself\u001b[0m\u001b[0;34m.\u001b[0m\u001b[0mtest_indexs\u001b[0m\u001b[0;34m)\u001b[0m \u001b[0;34m>=\u001b[0m  \u001b[0mlen\u001b[0m\u001b[0;34m(\u001b[0m\u001b[0mself\u001b[0m\u001b[0;34m.\u001b[0m\u001b[0mtest_images\u001b[0m\u001b[0;34m)\u001b[0m\u001b[0;34m:\u001b[0m\u001b[0;34m\u001b[0m\u001b[0m\n\u001b[1;32m    156\u001b[0m                     \u001b[0mself\u001b[0m\u001b[0;34m.\u001b[0m\u001b[0mtest_indexs\u001b[0m\u001b[0;34m.\u001b[0m\u001b[0mclear\u001b[0m\u001b[0;34m(\u001b[0m\u001b[0;34m)\u001b[0m\u001b[0;34m\u001b[0m\u001b[0m\n\u001b[0;32m--> 157\u001b[0;31m         \u001b[0;32mreturn\u001b[0m  \u001b[0mnp\u001b[0m\u001b[0;34m.\u001b[0m\u001b[0marray\u001b[0m\u001b[0;34m(\u001b[0m\u001b[0mbatch_image\u001b[0m\u001b[0;34m)\u001b[0m\u001b[0;34m.\u001b[0m\u001b[0mtranspose\u001b[0m\u001b[0;34m(\u001b[0m\u001b[0;36m0\u001b[0m\u001b[0;34m,\u001b[0m\u001b[0;36m3\u001b[0m\u001b[0;34m,\u001b[0m\u001b[0;36m2\u001b[0m\u001b[0;34m,\u001b[0m\u001b[0;36m1\u001b[0m\u001b[0;34m)\u001b[0m\u001b[0;34m.\u001b[0m\u001b[0mreshape\u001b[0m\u001b[0;34m(\u001b[0m\u001b[0;34m-\u001b[0m\u001b[0;36m1\u001b[0m\u001b[0;34m,\u001b[0m\u001b[0;36m32\u001b[0m\u001b[0;34m,\u001b[0m\u001b[0;36m32\u001b[0m\u001b[0;34m,\u001b[0m\u001b[0;36m3\u001b[0m\u001b[0;34m)\u001b[0m\u001b[0;34m,\u001b[0m \u001b[0mbatch_label\u001b[0m\u001b[0;34m,\u001b[0m\u001b[0mdata_index\u001b[0m\u001b[0;34m\u001b[0m\u001b[0m\n\u001b[0m\u001b[1;32m    158\u001b[0m \u001b[0;34m\u001b[0m\u001b[0m\n\u001b[1;32m    159\u001b[0m \u001b[0;32mif\u001b[0m \u001b[0m__name__\u001b[0m \u001b[0;34m==\u001b[0m \u001b[0;34m'__main__'\u001b[0m\u001b[0;34m:\u001b[0m\u001b[0;34m\u001b[0m\u001b[0m\n",
      "\u001b[0;31mValueError\u001b[0m: axes don't match array"
     ]
    }
   ],
   "source": [
    "import time\n",
    "filename = 'lenet_train_cifar10_0.log'\n",
    "\n",
    "if __name__ == '__main__':\n",
    "    with tf.Session() as sess:\n",
    "        sess.run(tf.global_variables_initializer())\n",
    "        saver = tf.train.Saver(max_to_keep=1)\n",
    "        if CONTINUE != 0:\n",
    "            model_file=tf.train.latest_checkpoint(ckpt_dir)\n",
    "            saver.restore(sess,model_file)\n",
    "        for i in range(CONTINUE, FLAGS.epoch):\n",
    "            train_image, train_label,_ = data.get_train_batch(FLAGS.batch_size,FLAGS.augument)\n",
    "            loss, _,accuracy_rate = sess.run([cross_entropy, train_step,accuracy], \n",
    "                                             feed_dict={keep_prob: FLAGS.keep_prob, x:train_image, y_:train_label})\n",
    "            tfg.savelog(filename,'train_accuracy',i, accuracy_rate)  \n",
    "            tfg.savelog(filename,'train_loss',i, loss)   \n",
    "            if (i+1) % FLAGS.ckpt_frequency == 0:  #保存预测模型\n",
    "                saver.save(sess,ckpt_dir+'cifar10_'+str(i+1)+'.ckpt',global_step=i+1)\n",
    "                #SaveCheckpoint2S3()\n",
    "                acc_accuracy = 0\n",
    "                for j in range(int(10000/FLAGS.test_size)):                    \n",
    "                    test_image, test_label,test_index = data.get_test_batch(FLAGS.test_size)\n",
    "                    accuracy_rate, output = sess.run([accuracy,prediction],\n",
    "                                                     feed_dict={keep_prob: 1, x:test_image, y_:test_label})\n",
    "                    acc_accuracy += accuracy_rate\n",
    "                    tfg.savelog(filename,'test_index',i, test_index)\n",
    "                    tfg.savelog(filename,'output',i, output)\n",
    "                accuracy_rate = acc_accuracy/10000*FLAGS.test_size\n",
    "                print(time.strftime(\"%Y-%m-%d %H:%M:%S\", time.localtime()) + \n",
    "                      ' iter ' + str(i) + ', Test accuracy:' +str(round(accuracy_rate*100,2))+'%')\n",
    "                tfg.savelog(filename,'test_accuracy',i, accuracy_rate)            \n",
    "    tf.reset_default_graph()"
   ]
  },
  {
   "cell_type": "code",
   "execution_count": null,
   "metadata": {
    "collapsed": true
   },
   "outputs": [],
   "source": []
  }
 ],
 "metadata": {
  "kernelspec": {
   "display_name": "Python 3",
   "language": "python",
   "name": "python3"
  },
  "language_info": {
   "codemirror_mode": {
    "name": "ipython",
    "version": 3
   },
   "file_extension": ".py",
   "mimetype": "text/x-python",
   "name": "python",
   "nbconvert_exporter": "python",
   "pygments_lexer": "ipython3",
   "version": "3.5.4"
  }
 },
 "nbformat": 4,
 "nbformat_minor": 2
}
