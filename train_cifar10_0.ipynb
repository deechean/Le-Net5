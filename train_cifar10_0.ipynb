{
 "cells": [
  {
   "cell_type": "code",
   "execution_count": 1,
   "metadata": {},
   "outputs": [
    {
     "name": "stdout",
     "output_type": "stream",
     "text": [
      "parameters were defined.\n",
      "learn Rate = 0.01 keep Prob= 0.5  image augument= True\n"
     ]
    }
   ],
   "source": [
    "#!/usr/bin/env python3\n",
    "# -*- coding: utf-8 -*-\n",
    "\"\"\"\n",
    "Created on Sun Apr  7 22:08:46 2019\n",
    "\n",
    "@author: Deechean\n",
    "\"\"\"\n",
    "from cifar10 import cifar10\n",
    "import os\n",
    "import tensorflow as tf\n",
    "from lenet5 import LeNet5_LERU_ENH\n",
    "import tf_general as tfg\n",
    "import numpy as np\n",
    "import aws_boto3\n",
    "\n",
    "FLAGS = tf.flags.FLAGS\n",
    "\n",
    "try:\n",
    "    tf.flags.DEFINE_string('f', '', 'kernel')\n",
    "    tf.flags.DEFINE_integer('epoch', 50000, 'epoch')\n",
    "    tf.flags.DEFINE_integer('batch_size',200, 'batch size')\n",
    "    tf.flags.DEFINE_integer('test_size', 200, 'test size')\n",
    "    tf.flags.DEFINE_float('lr', 0.01, 'learning rate')\n",
    "    tf.flags.DEFINE_float('keep_prob', 0.5, 'keep prob for drop lay')\n",
    "    tf.flags.DEFINE_boolean('augument', True, 'if image augument is applied')\n",
    "                            \n",
    "    tf.flags.DEFINE_float('ckpt_frequency', 250, 'frequency to save checkpoint')\n",
    "    tf.flags.DEFINE_boolean('restore', False, 'restore from checkpoint and run test')\n",
    "    print('parameters were defined.')\n",
    "except:\n",
    "    print('parameters have been defined.')\n",
    "\n",
    "print(\"learn Rate =\",FLAGS.lr, \"keep Prob=\", FLAGS.keep_prob, \" image augument=\",FLAGS.augument)   \n",
    "CONTINUE = 0"
   ]
  },
  {
   "cell_type": "markdown",
   "metadata": {},
   "source": [
    "## Generate Checkpoint dir and Log dir\n",
    "\n",
    "- Checkpoint dir is saved in variable **ckpt_dir**, if the dir doesn't exist then create it. \n",
    "- Log file dir is saved in variable **ckpt_dir**, if the dir doesn't exist then create it. "
   ]
  },
  {
   "cell_type": "code",
   "execution_count": 2,
   "metadata": {},
   "outputs": [],
   "source": [
    "ckpt_dir = 'ckpt_7/'\n",
    "if not os.path.exists(ckpt_dir):\n",
    "    os.makedirs(ckpt_dir)\n",
    "log_dir = 'log_7/'\n",
    "if not os.path.exists(log_dir):\n",
    "    os.makedirs(log_dir)"
   ]
  },
  {
   "cell_type": "markdown",
   "metadata": {},
   "source": [
    "## Input layer \n",
    "Use the data feeder to provide the training data. Therefore we define a placeholder with the same structure of the input data. \n",
    "The CIFAR-10 data is 60000 RGB images with each size is 32x32. The data structure should be[batchsize, 32,32,3]. Input channels are 3.  "
   ]
  },
  {
   "cell_type": "code",
   "execution_count": 3,
   "metadata": {
    "collapsed": true
   },
   "outputs": [],
   "source": [
    "with tf.device('/cpu:0'):\n",
    "    with tf.name_scope('input'):\n",
    "        x = tf.placeholder(tf.float32, [None,32,32,3], name='x_input')\n",
    "        keep_prob = tf.placeholder(tf.float32, name='keep_prob')\n",
    "        y_ = tf.placeholder(tf.int64, [None], name='labels')"
   ]
  },
  {
   "cell_type": "code",
   "execution_count": 4,
   "metadata": {
    "scrolled": true
   },
   "outputs": [
    {
     "name": "stdout",
     "output_type": "stream",
     "text": [
      "conv_1:  (?, 28, 28, 18)\n",
      "pool_1:  (?, 14, 14, 18)\n",
      "conv_2:  (?, 10, 10, 48)\n",
      "pool_2:  (?, 5, 5, 48)\n",
      "flat_1: (?, 1200)\n",
      "fc_1:  (?, 120)\n",
      "fc_2:  (?, 84)\n",
      "fc_3:  (?, 10)\n",
      "drop_out:  (?, 10)\n",
      "prediction:  (?, 10)\n"
     ]
    }
   ],
   "source": [
    "with tf.device('/cpu:1'):\n",
    "    with tf.name_scope('prediction'):\n",
    "        le_net5 = LeNet5_LERU_ENH(x, keep_prob)\n",
    "        y = le_net5.prediction\n",
    "        \"\"\"training parameters log\n",
    "        x_norm = le_net5.x_norm\n",
    "        conv1 = le_net5.conv1\n",
    "        pool1 = le_net5.pool1\n",
    "        conv2 = le_net5.conv2\n",
    "        pool2 = le_net5.pool2\n",
    "        fc1 = le_net5.fc1\n",
    "        fc2 = le_net5.fc2\n",
    "        fc3 = le_net5.fc3\n",
    "        \"\"\""
   ]
  },
  {
   "cell_type": "code",
   "execution_count": 5,
   "metadata": {
    "collapsed": true
   },
   "outputs": [],
   "source": [
    "with tf.device('/cpu:2'):\n",
    "    with tf.name_scope('cross_entropy'):\n",
    "        cross_entropy = tf.reduce_mean(tf.nn.sparse_softmax_cross_entropy_with_logits(logits=y,\n",
    "                                                                                  labels=y_, \n",
    "                                                                                  name=\"cross_entropy_per_example\"))"
   ]
  },
  {
   "cell_type": "code",
   "execution_count": 6,
   "metadata": {
    "collapsed": true
   },
   "outputs": [],
   "source": [
    "with tf.device('/cpu:3'):\n",
    "    with tf.name_scope('train_step'):\n",
    "        train_step = tf.train.AdagradOptimizer(FLAGS.lr).minimize(cross_entropy)"
   ]
  },
  {
   "cell_type": "code",
   "execution_count": 7,
   "metadata": {
    "collapsed": true
   },
   "outputs": [],
   "source": [
    "with tf.device('/cpu:0'):\n",
    "    prediction =tf.argmax(y, 1)\n",
    "    accuracy = tf.reduce_mean(tf.cast( tf.equal(prediction,y_), tf.float32))"
   ]
  },
  {
   "cell_type": "code",
   "execution_count": null,
   "metadata": {
    "collapsed": true
   },
   "outputs": [],
   "source": [
    "def SaveCheckpoint2S3(ori_dir,des_dir):\n",
    "    bucketname = 'sagemaker-deechean-dl' \n",
    "    for file in os.listdir(file_dir):\n",
    "        if os.path.isfile(file_dir+file):\n",
    "            print('save files to s3')\n",
    "            aws_boto3.upload_file(file_dir+file, bucketname,des_dir+file)"
   ]
  },
  {
   "cell_type": "code",
   "execution_count": null,
   "metadata": {},
   "outputs": [
    {
     "name": "stdout",
     "output_type": "stream",
     "text": [
      "train set length: 50000\n",
      "test set length: 10000\n",
      "2019-06-09 14:01:10 iter 249, Test accuracy:13.78%\n",
      "2019-06-09 14:08:33 iter 499, Test accuracy:13.62%\n",
      "2019-06-09 14:15:26 iter 749, Test accuracy:16.98%\n",
      "2019-06-09 14:22:13 iter 999, Test accuracy:17.98%\n",
      "2019-06-09 14:30:37 iter 1249, Test accuracy:19.4%\n",
      "2019-06-09 14:36:56 iter 1499, Test accuracy:20.11%\n",
      "2019-06-09 14:50:11 iter 1749, Test accuracy:21.93%\n",
      "2019-06-09 15:06:25 iter 1999, Test accuracy:22.16%\n",
      "2019-06-09 15:25:14 iter 2249, Test accuracy:23.2%\n",
      "2019-06-09 15:41:37 iter 2499, Test accuracy:23.04%\n",
      "2019-06-09 15:58:19 iter 2749, Test accuracy:24.14%\n",
      "2019-06-09 16:15:37 iter 2999, Test accuracy:24.21%\n",
      "2019-06-09 16:32:02 iter 3249, Test accuracy:24.5%\n",
      "2019-06-09 16:48:58 iter 3499, Test accuracy:25.57%\n",
      "2019-06-09 17:04:23 iter 3749, Test accuracy:25.86%\n",
      "2019-06-09 17:20:13 iter 3999, Test accuracy:26.88%\n",
      "2019-06-09 17:35:53 iter 4249, Test accuracy:27.58%\n",
      "2019-06-09 17:53:55 iter 4499, Test accuracy:27.69%\n",
      "2019-06-09 18:10:19 iter 4749, Test accuracy:28.59%\n",
      "2019-06-09 18:26:05 iter 4999, Test accuracy:28.14%\n",
      "2019-06-09 18:42:36 iter 5249, Test accuracy:28.6%\n",
      "2019-06-09 19:00:28 iter 5499, Test accuracy:29.35%\n",
      "2019-06-09 19:16:55 iter 5749, Test accuracy:30.3%\n",
      "2019-06-09 19:35:18 iter 5999, Test accuracy:30.42%\n",
      "2019-06-09 19:50:32 iter 6249, Test accuracy:28.42%\n",
      "2019-06-09 20:07:33 iter 6499, Test accuracy:30.86%\n",
      "2019-06-09 20:25:33 iter 6749, Test accuracy:31.05%\n",
      "2019-06-09 20:42:30 iter 6999, Test accuracy:31.74%\n",
      "2019-06-09 21:00:02 iter 7249, Test accuracy:32.75%\n",
      "2019-06-09 21:15:09 iter 7499, Test accuracy:30.83%\n",
      "2019-06-09 21:30:21 iter 7749, Test accuracy:32.24%\n",
      "2019-06-09 21:45:14 iter 7999, Test accuracy:32.6%\n",
      "2019-06-09 22:06:02 iter 8249, Test accuracy:33.02%\n",
      "2019-06-09 22:23:20 iter 8499, Test accuracy:33.89%\n",
      "2019-06-09 22:39:58 iter 8749, Test accuracy:33.68%\n",
      "2019-06-09 22:56:48 iter 8999, Test accuracy:33.83%\n",
      "2019-06-09 23:14:15 iter 9249, Test accuracy:32.86%\n",
      "2019-06-09 23:29:58 iter 9499, Test accuracy:34.99%\n",
      "2019-06-09 23:45:14 iter 9749, Test accuracy:35.41%\n",
      "2019-06-10 00:00:29 iter 9999, Test accuracy:35.64%\n",
      "2019-06-10 00:19:08 iter 10249, Test accuracy:35.18%\n",
      "2019-06-10 00:35:59 iter 10499, Test accuracy:36.46%\n",
      "2019-06-10 00:51:52 iter 10749, Test accuracy:35.79%\n",
      "2019-06-10 01:09:19 iter 10999, Test accuracy:36.5%\n",
      "2019-06-10 01:25:16 iter 11249, Test accuracy:36.44%\n",
      "2019-06-10 01:41:28 iter 11499, Test accuracy:35.5%\n",
      "2019-06-10 01:58:15 iter 11749, Test accuracy:35.86%\n",
      "2019-06-10 02:15:49 iter 11999, Test accuracy:37.43%\n",
      "2019-06-10 02:33:09 iter 12249, Test accuracy:36.58%\n",
      "2019-06-10 02:54:33 iter 12499, Test accuracy:37.97%\n",
      "2019-06-10 03:12:00 iter 12749, Test accuracy:37.72%\n",
      "2019-06-10 03:30:49 iter 12999, Test accuracy:37.39%\n",
      "2019-06-10 03:47:05 iter 13249, Test accuracy:38.23%\n",
      "2019-06-10 04:05:15 iter 13499, Test accuracy:38.7%\n",
      "2019-06-10 04:21:01 iter 13749, Test accuracy:38.09%\n",
      "2019-06-10 04:41:58 iter 13999, Test accuracy:38.55%\n",
      "2019-06-10 04:57:44 iter 14249, Test accuracy:38.97%\n",
      "2019-06-10 05:15:21 iter 14499, Test accuracy:39.41%\n",
      "2019-06-10 05:31:56 iter 14749, Test accuracy:40.03%\n",
      "2019-06-10 05:50:46 iter 14999, Test accuracy:39.38%\n",
      "2019-06-10 06:09:18 iter 15249, Test accuracy:40.23%\n",
      "2019-06-10 06:25:51 iter 15499, Test accuracy:39.73%\n",
      "2019-06-10 06:44:42 iter 15749, Test accuracy:39.68%\n",
      "2019-06-10 07:00:33 iter 15999, Test accuracy:39.66%\n",
      "2019-06-10 07:17:22 iter 16249, Test accuracy:40.46%\n",
      "2019-06-10 07:33:56 iter 16499, Test accuracy:39.28%\n",
      "2019-06-10 07:51:03 iter 16749, Test accuracy:40.92%\n",
      "2019-06-10 08:08:38 iter 16999, Test accuracy:41.34%\n",
      "2019-06-10 08:25:28 iter 17249, Test accuracy:41.47%\n",
      "2019-06-10 08:43:35 iter 17499, Test accuracy:41.62%\n",
      "2019-06-10 09:00:14 iter 17749, Test accuracy:41.27%\n",
      "2019-06-10 09:15:55 iter 17999, Test accuracy:41.8%\n",
      "2019-06-10 09:33:32 iter 18249, Test accuracy:42.15%\n",
      "2019-06-10 09:49:59 iter 18499, Test accuracy:41.63%\n",
      "2019-06-10 10:05:23 iter 18749, Test accuracy:41.93%\n",
      "2019-06-10 10:22:31 iter 18999, Test accuracy:42.51%\n",
      "2019-06-10 10:39:27 iter 19249, Test accuracy:42.22%\n",
      "2019-06-10 10:56:37 iter 19499, Test accuracy:42.47%\n",
      "2019-06-10 11:13:52 iter 19749, Test accuracy:42.54%\n",
      "2019-06-10 11:30:16 iter 19999, Test accuracy:42.05%\n",
      "2019-06-10 11:46:13 iter 20249, Test accuracy:42.86%\n",
      "2019-06-10 12:03:24 iter 20499, Test accuracy:42.79%\n",
      "2019-06-10 12:19:30 iter 20749, Test accuracy:42.93%\n"
     ]
    }
   ],
   "source": [
    "import time\n",
    "\n",
    "if __name__ == '__main__':\n",
    "    data = cifar10();\n",
    "    \n",
    "    with tf.Session(config=tf.ConfigProto(\n",
    "                            device_count={\"CPU\":4},\n",
    "                            inter_op_parallelism_threads=1,\n",
    "                            intra_op_parallelism_threads=1)) as sess:\n",
    "        sess.run(tf.global_variables_initializer())\n",
    "        saver = tf.train.Saver(max_to_keep=1)\n",
    "        if CONTINUE != 0:\n",
    "            model_file=tf.train.latest_checkpoint(ckpt_dir)\n",
    "            saver.restore(sess,model_file)\n",
    "        for i in range(CONTINUE, FLAGS.epoch):\n",
    "            train_image, train_label,_ = data.get_train_batch(FLAGS.batch_size,FLAGS.augument)\n",
    "            loss, _,accuracy_rate = sess.run([cross_entropy, train_step, accuracy], \n",
    "                                             feed_dict={keep_prob: FLAGS.keep_prob, x:train_image, y_:train_label})\n",
    "            \n",
    "            tfg.savelog(log_dir,'train_accuracy',i, accuracy_rate)  \n",
    "            tfg.savelog(log_dir,'train_loss',i, loss)   \n",
    "            if (i+1) % FLAGS.ckpt_frequency == 0:  #保存预测模型\n",
    "                saver.save(sess,ckpt_dir+'cifar10_'+str(i+1)+'.ckpt',global_step=i+1)\n",
    "                #SaveCheckpoint2S3()\n",
    "                acc_accuracy = 0\n",
    "                for j in range(int(10000/FLAGS.test_size)):                    \n",
    "                    test_image, test_label,test_index = data.get_test_batch(FLAGS.test_size)\n",
    "                    accuracy_rate, output = sess.run([accuracy,prediction],\n",
    "                                                     feed_dict={keep_prob: 1, x:test_image, y_:test_label})\n",
    "                    acc_accuracy += accuracy_rate\n",
    "                    tfg.savelog(log_dir,'test_index',i, test_index)\n",
    "                    #tfg.savelog(log_dir,'x_norm',i, x_norm_value)  \n",
    "                    #tfg.savelog(log_dir,'conv1',i, conv1_value)\n",
    "                    #tfg.savelog(log_dir,'pool1',i, pool1_value)                     \n",
    "                    #tfg.savelog(log_dir,'conv2',i, conv2_value)   \n",
    "                    #tfg.savelog(log_dir,'pool2',i, pool2_value)   \n",
    "                    #tfg.savelog(log_dir,'fc1',i, fc1_value) \n",
    "                    #tfg.savelog(log_dir,'fc2',i, fc2_value) \n",
    "                    #tfg.savelog(log_dir,'fc3',i, fc3_value)                       \n",
    "                    tfg.savelog(log_dir,'output',i, output)\n",
    "                accuracy_rate = acc_accuracy/10000*FLAGS.test_size\n",
    "                print(time.strftime(\"%Y-%m-%d %H:%M:%S\", time.localtime()) + \n",
    "                      ' iter ' + str(i) + ', Test accuracy:' +str(round(accuracy_rate*100,2))+'%')\n",
    "                tfg.savelog(log_dir,'test_accuracy',i, accuracy_rate)            \n",
    "    tf.reset_default_graph()"
   ]
  },
  {
   "cell_type": "code",
   "execution_count": null,
   "metadata": {
    "collapsed": true
   },
   "outputs": [],
   "source": []
  }
 ],
 "metadata": {
  "kernelspec": {
   "display_name": "Python 3",
   "language": "python",
   "name": "python3"
  },
  "language_info": {
   "codemirror_mode": {
    "name": "ipython",
    "version": 3
   },
   "file_extension": ".py",
   "mimetype": "text/x-python",
   "name": "python",
   "nbconvert_exporter": "python",
   "pygments_lexer": "ipython3",
   "version": "3.5.4"
  }
 },
 "nbformat": 4,
 "nbformat_minor": 2
}
