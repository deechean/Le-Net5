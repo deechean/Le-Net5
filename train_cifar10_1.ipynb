{
 "cells": [
  {
   "cell_type": "code",
   "execution_count": 1,
   "metadata": {},
   "outputs": [
    {
     "name": "stdout",
     "output_type": "stream",
     "text": [
      "parameters were defined.\n",
      "learn Rate = 0.01 keep Prob= 0.5  image augument= True\n"
     ]
    }
   ],
   "source": [
    "#!/usr/bin/env python3\n",
    "# -*- coding: utf-8 -*-\n",
    "\"\"\"\n",
    "Created on Sun Apr  7 22:08:46 2019\n",
    "\n",
    "@author: Deechean\n",
    "\"\"\"\n",
    "from cifar10 import cifar10\n",
    "import os\n",
    "import tensorflow as tf\n",
    "from lenet5 import LeNet5_CIFAR10\n",
    "import tf_general as tfg\n",
    "import numpy as np\n",
    "import aws_boto3\n",
    "\n",
    "FLAGS = tf.flags.FLAGS\n",
    "# learn Rate = 0.01, keep Prob= 0.5, image augument = T\n",
    "\n",
    "try:\n",
    "    tf.flags.DEFINE_string('f', '', 'kernel')\n",
    "    tf.flags.DEFINE_integer('epoch', 20000, 'epoch')\n",
    "    tf.flags.DEFINE_integer('batch_size',200, 'batch size')\n",
    "    tf.flags.DEFINE_integer('test_size', 200, 'test size')\n",
    "    tf.flags.DEFINE_float('lr', 0.01, 'learning rate')\n",
    "    tf.flags.DEFINE_float('keep_prob', 0.5, 'keep prob for drop lay')\n",
    "    tf.flags.DEFINE_boolean('augument', True, 'if image augument is applied')\n",
    "    \n",
    "    tf.flags.DEFINE_float('ckpt_frequency', 250, 'frequency to save checkpoint')\n",
    "    tf.flags.DEFINE_boolean('restore', False, 'restore from checkpoint and run test')\n",
    "    print('parameters were defined.')\n",
    "except:\n",
    "    print('parameters have been defined.')\n",
    "    \n",
    "print(\"learn Rate =\",FLAGS.lr, \"keep Prob=\", FLAGS.keep_prob, \" image augument=\",FLAGS.augument)   \n",
    "CONTINUE = 0\n",
    "filename = 'lenet_train_cifar10_1.log'"
   ]
  },
  {
   "cell_type": "code",
   "execution_count": 2,
   "metadata": {
    "collapsed": true
   },
   "outputs": [],
   "source": [
    "ckpt_dir = 'ckpt_1/'\n",
    "if not os.path.exists(ckpt_dir):\n",
    "    os.makedirs(ckpt_dir)\n",
    "log_dir = 'log_1/'\n",
    "if not os.path.exists(log_dir):\n",
    "    os.makedirs(log_dir)"
   ]
  },
  {
   "cell_type": "code",
   "execution_count": 3,
   "metadata": {
    "collapsed": true
   },
   "outputs": [],
   "source": [
    "with tf.name_scope('input'):\n",
    "    x = tf.placeholder(tf.float32, [None, 32,32,3], name='x_input')\n",
    "    keep_prob = tf.placeholder(tf.float32, name='keep_prob')\n",
    "    y_ = tf.placeholder(tf.int64, [None], name='labels')"
   ]
  },
  {
   "cell_type": "code",
   "execution_count": 4,
   "metadata": {
    "scrolled": true
   },
   "outputs": [
    {
     "name": "stdout",
     "output_type": "stream",
     "text": [
      "conv_1:  (?, 28, 28, 12)\n",
      "pool_1:  (?, 14, 14, 12)\n",
      "conv_2:  (?, 10, 10, 24)\n",
      "pool_2:  (?, 5, 5, 24)\n",
      "flat_1: (?, 600)\n",
      "fc_1:  (?, 120)\n",
      "fc_2:  (?, 84)\n",
      "fc_3:  (?, 10)\n",
      "drop_out:  (?, 10)\n",
      "prediction:  (?, 10)\n"
     ]
    }
   ],
   "source": [
    "with tf.name_scope('prediction'):\n",
    "    le_net5 = LeNet5_CIFAR10(x, keep_prob)\n",
    "    y = le_net5.prediction"
   ]
  },
  {
   "cell_type": "code",
   "execution_count": 5,
   "metadata": {
    "collapsed": true
   },
   "outputs": [],
   "source": [
    "with tf.name_scope('cross_entropy'):\n",
    "    cross_entropy = tf.reduce_mean(tf.nn.sparse_softmax_cross_entropy_with_logits(logits=y,\n",
    "                                                                                  labels=y_, \n",
    "                                                                                  name=\"cross_entropy_per_example\"))"
   ]
  },
  {
   "cell_type": "code",
   "execution_count": 6,
   "metadata": {
    "collapsed": true
   },
   "outputs": [],
   "source": [
    "with tf.name_scope('train_step'):\n",
    "    train_step = tf.train.AdagradOptimizer(FLAGS.lr).minimize(cross_entropy)"
   ]
  },
  {
   "cell_type": "code",
   "execution_count": 7,
   "metadata": {
    "collapsed": true
   },
   "outputs": [],
   "source": [
    "prediction =tf.argmax(y, 1)\n",
    "accuracy = tf.reduce_mean(tf.cast( tf.equal(prediction,y_), tf.float32))"
   ]
  },
  {
   "cell_type": "code",
   "execution_count": null,
   "metadata": {
    "collapsed": true
   },
   "outputs": [],
   "source": [
    "def SaveCheckpoint2S3(ori_dir,des_dir):\n",
    "    bucketname = 'sagemaker-deechean-dl' \n",
    "    for file in os.listdir(file_dir):\n",
    "        if os.path.isfile(file_dir+file):\n",
    "            print('save files to s3')\n",
    "            aws_boto3.upload_file(file_dir+file, bucketname,des_dir+file)"
   ]
  },
  {
   "cell_type": "code",
   "execution_count": null,
   "metadata": {},
   "outputs": [
    {
     "name": "stdout",
     "output_type": "stream",
     "text": [
      "train set length: 50000\n",
      "test set length: 10000\n",
      "2019-06-08 09:03:50 iter 249, Test accuracy:16.14%\n",
      "2019-06-08 09:08:16 iter 499, Test accuracy:16.35%\n",
      "2019-06-08 09:13:04 iter 749, Test accuracy:18.8%\n",
      "2019-06-08 09:17:44 iter 999, Test accuracy:20.49%\n",
      "2019-06-08 09:22:02 iter 1249, Test accuracy:20.72%\n",
      "2019-06-08 09:26:15 iter 1499, Test accuracy:21.98%\n",
      "2019-06-08 09:31:04 iter 1749, Test accuracy:22.28%\n",
      "2019-06-08 09:35:31 iter 1999, Test accuracy:23.63%\n",
      "2019-06-08 09:39:37 iter 2249, Test accuracy:23.17%\n",
      "2019-06-08 09:44:42 iter 2499, Test accuracy:24.09%\n",
      "2019-06-08 09:49:33 iter 2749, Test accuracy:24.73%\n",
      "2019-06-08 09:54:25 iter 2999, Test accuracy:25.1%\n",
      "2019-06-08 09:59:14 iter 3249, Test accuracy:26.43%\n",
      "2019-06-08 10:03:29 iter 3499, Test accuracy:27.37%\n",
      "2019-06-08 10:08:17 iter 3749, Test accuracy:27.04%\n",
      "2019-06-08 10:13:12 iter 3999, Test accuracy:26.17%\n",
      "2019-06-08 10:18:36 iter 4249, Test accuracy:27.19%\n",
      "2019-06-08 10:23:44 iter 4499, Test accuracy:25.22%\n",
      "2019-06-08 10:28:58 iter 4749, Test accuracy:27.99%\n",
      "2019-06-08 10:33:57 iter 4999, Test accuracy:28.24%\n",
      "2019-06-08 10:38:44 iter 5249, Test accuracy:28.93%\n",
      "2019-06-08 10:43:46 iter 5499, Test accuracy:27.97%\n",
      "2019-06-08 10:48:54 iter 5749, Test accuracy:28.71%\n",
      "2019-06-08 10:53:34 iter 5999, Test accuracy:28.8%\n",
      "2019-06-08 10:57:59 iter 6249, Test accuracy:28.07%\n",
      "2019-06-08 11:02:27 iter 6499, Test accuracy:28.94%\n",
      "2019-06-08 11:07:45 iter 6749, Test accuracy:29.12%\n",
      "2019-06-08 11:12:19 iter 6999, Test accuracy:29.09%\n",
      "2019-06-08 11:17:48 iter 7249, Test accuracy:29.62%\n",
      "2019-06-08 11:22:23 iter 7499, Test accuracy:28.53%\n",
      "2019-06-08 11:27:07 iter 7749, Test accuracy:29.35%\n",
      "2019-06-08 11:33:09 iter 7999, Test accuracy:29.08%\n",
      "2019-06-08 11:38:26 iter 8249, Test accuracy:28.61%\n",
      "2019-06-08 11:43:54 iter 8499, Test accuracy:30.19%\n",
      "2019-06-08 11:48:29 iter 8749, Test accuracy:30.24%\n",
      "2019-06-08 11:53:19 iter 8999, Test accuracy:30.19%\n",
      "2019-06-08 11:58:29 iter 9249, Test accuracy:30.09%\n",
      "2019-06-08 12:03:51 iter 9499, Test accuracy:29.02%\n",
      "2019-06-08 12:09:04 iter 9749, Test accuracy:30.73%\n",
      "2019-06-08 12:14:38 iter 9999, Test accuracy:29.9%\n",
      "2019-06-08 12:20:08 iter 10249, Test accuracy:30.47%\n",
      "2019-06-08 12:25:11 iter 10499, Test accuracy:30.51%\n",
      "2019-06-08 12:29:47 iter 10749, Test accuracy:30.77%\n",
      "2019-06-08 12:34:12 iter 10999, Test accuracy:30.84%\n",
      "2019-06-08 12:38:58 iter 11249, Test accuracy:30.86%\n",
      "2019-06-08 12:43:36 iter 11499, Test accuracy:30.52%\n",
      "2019-06-08 12:49:32 iter 11749, Test accuracy:30.69%\n",
      "2019-06-08 12:53:53 iter 11999, Test accuracy:31.22%\n",
      "2019-06-08 12:59:45 iter 12249, Test accuracy:30.5%\n",
      "2019-06-08 13:04:30 iter 12499, Test accuracy:31.26%\n",
      "2019-06-08 13:09:28 iter 12749, Test accuracy:31.33%\n",
      "2019-06-08 13:14:39 iter 12999, Test accuracy:31.05%\n",
      "2019-06-08 13:19:33 iter 13249, Test accuracy:31.41%\n",
      "2019-06-08 13:24:01 iter 13499, Test accuracy:31.59%\n",
      "2019-06-08 13:29:03 iter 13749, Test accuracy:31.41%\n",
      "2019-06-08 13:33:39 iter 13999, Test accuracy:31.41%\n",
      "2019-06-08 13:39:11 iter 14249, Test accuracy:31.46%\n",
      "2019-06-08 13:44:06 iter 14499, Test accuracy:31.14%\n",
      "2019-06-08 13:48:38 iter 14749, Test accuracy:31.22%\n",
      "2019-06-08 13:52:51 iter 14999, Test accuracy:31.64%\n",
      "2019-06-08 13:57:58 iter 15249, Test accuracy:31.62%\n",
      "2019-06-08 14:04:21 iter 15499, Test accuracy:31.74%\n",
      "2019-06-08 14:10:18 iter 15749, Test accuracy:31.58%\n",
      "2019-06-08 14:15:15 iter 15999, Test accuracy:31.38%\n",
      "2019-06-08 14:20:24 iter 16249, Test accuracy:31.62%\n",
      "2019-06-08 14:24:57 iter 16499, Test accuracy:32.23%\n",
      "2019-06-08 14:29:56 iter 16749, Test accuracy:31.62%\n",
      "2019-06-08 14:35:12 iter 16999, Test accuracy:32.22%\n",
      "2019-06-08 14:39:57 iter 17249, Test accuracy:31.49%\n",
      "2019-06-08 14:45:01 iter 17499, Test accuracy:32.42%\n",
      "2019-06-08 14:49:38 iter 17749, Test accuracy:32.61%\n",
      "2019-06-08 14:54:28 iter 17999, Test accuracy:30.2%\n",
      "2019-06-08 14:59:40 iter 18249, Test accuracy:31.92%\n",
      "2019-06-08 15:04:33 iter 18499, Test accuracy:31.55%\n",
      "2019-06-08 15:10:33 iter 18749, Test accuracy:31.49%\n",
      "2019-06-08 15:14:55 iter 18999, Test accuracy:32.49%\n",
      "2019-06-08 15:20:50 iter 19249, Test accuracy:32.7%\n",
      "2019-06-08 15:25:36 iter 19499, Test accuracy:31.29%\n"
     ]
    }
   ],
   "source": [
    "import time\n",
    "\n",
    "if __name__ == '__main__':\n",
    "    data = cifar10();\n",
    "    with tf.Session() as sess:\n",
    "        sess.run(tf.global_variables_initializer())\n",
    "        saver = tf.train.Saver(max_to_keep=1)\n",
    "        if CONTINUE != 0:\n",
    "            model_file=tf.train.latest_checkpoint(ckpt_dir)\n",
    "            saver.restore(sess,model_file)\n",
    "        for i in range(CONTINUE, FLAGS.epoch):\n",
    "            train_image, train_label,_ = data.get_train_batch(FLAGS.batch_size)\n",
    "            loss, _,accuracy_rate = sess.run([cross_entropy, train_step,accuracy], feed_dict={keep_prob: FLAGS.keep_prob, x:train_image, y_:train_label})\n",
    "            tfg.savelog(log_dir,'train_accuracy',i, accuracy_rate)  \n",
    "            tfg.savelog(log_dir,'train_loss',i, loss)   \n",
    "            if (i+1) % FLAGS.ckpt_frequency == 0:  #保存预测模型\n",
    "                saver.save(sess,ckpt_dir+'cifar10_'+str(i+1)+'.ckpt',global_step=i+1)\n",
    "                #SaveCheckpoint2S3()\n",
    "                acc_accuracy = 0\n",
    "                for j in range(int(10000/FLAGS.test_size)):                    \n",
    "                    test_image, test_label,test_index = data.get_test_batch(FLAGS.test_size)\n",
    "                    accuracy_rate, output = sess.run([accuracy,prediction],feed_dict={keep_prob: 1, x:test_image, y_:test_label})\n",
    "                    acc_accuracy += accuracy_rate\n",
    "                    tfg.savelog(log_dir,'test_index',i, test_index)\n",
    "                    tfg.savelog(log_dir,'output',i, output)\n",
    "                accuracy_rate = acc_accuracy/10000*FLAGS.test_size\n",
    "                print(time.strftime(\"%Y-%m-%d %H:%M:%S\", time.localtime()) + ' iter ' + str(i) + ', Test accuracy:' +str(round(accuracy_rate*100,2))+'%')\n",
    "                tfg.savelog(log_dir,'test_accuracy',i, accuracy_rate)                  \n",
    "    tf.reset_default_graph()"
   ]
  },
  {
   "cell_type": "code",
   "execution_count": null,
   "metadata": {
    "collapsed": true
   },
   "outputs": [],
   "source": []
  }
 ],
 "metadata": {
  "kernelspec": {
   "display_name": "Python 3",
   "language": "python",
   "name": "python3"
  },
  "language_info": {
   "codemirror_mode": {
    "name": "ipython",
    "version": 3
   },
   "file_extension": ".py",
   "mimetype": "text/x-python",
   "name": "python",
   "nbconvert_exporter": "python",
   "pygments_lexer": "ipython3",
   "version": "3.5.4"
  }
 },
 "nbformat": 4,
 "nbformat_minor": 2
}
