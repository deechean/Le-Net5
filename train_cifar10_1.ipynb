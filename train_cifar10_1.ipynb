{
 "cells": [
  {
   "cell_type": "code",
   "execution_count": 1,
   "metadata": {},
   "outputs": [
    {
     "name": "stdout",
     "output_type": "stream",
     "text": [
      "parameters were defined.\n",
      "learn Rate = 0.01 keep Prob= 0.5  image augument= True\n"
     ]
    }
   ],
   "source": [
    "#!/usr/bin/env python3\n",
    "# -*- coding: utf-8 -*-\n",
    "\"\"\"\n",
    "Created on Sun Apr  7 22:08:46 2019\n",
    "\n",
    "@author: Deechean\n",
    "\"\"\"\n",
    "from cifar10 import cifar10\n",
    "import os\n",
    "import tensorflow as tf\n",
    "from lenet5 import LeNet5_LERU\n",
    "import tf_general as tfg\n",
    "import numpy as np\n",
    "import aws_boto3\n",
    "\n",
    "FLAGS = tf.flags.FLAGS\n",
    "# learn Rate = 0.01, keep Prob= 0.5, image augument = T\n",
    "\n",
    "try:\n",
    "    tf.flags.DEFINE_string('f', '', 'kernel')\n",
    "    tf.flags.DEFINE_integer('epoch', 50000, 'epoch')\n",
    "    tf.flags.DEFINE_integer('batch_size',200, 'batch size')\n",
    "    tf.flags.DEFINE_integer('test_size', 200, 'test size')\n",
    "    tf.flags.DEFINE_float('lr', 0.01, 'learning rate')\n",
    "    tf.flags.DEFINE_float('keep_prob', 0.5, 'keep prob for drop lay')\n",
    "    tf.flags.DEFINE_boolean('augument', True, 'if image augument is applied')\n",
    "    \n",
    "    tf.flags.DEFINE_float('ckpt_frequency', 250, 'frequency to save checkpoint')\n",
    "    tf.flags.DEFINE_boolean('restore', False, 'restore from checkpoint and run test')\n",
    "    print('parameters were defined.')\n",
    "except:\n",
    "    print('parameters have been defined.')\n",
    "    \n",
    "print(\"learn Rate =\",FLAGS.lr, \"keep Prob=\", FLAGS.keep_prob, \" image augument=\",FLAGS.augument)   \n",
    "CONTINUE = 0"
   ]
  },
  {
   "cell_type": "code",
   "execution_count": 2,
   "metadata": {
    "collapsed": true
   },
   "outputs": [],
   "source": [
    "ckpt_dir = 'ckpt_6/'\n",
    "if not os.path.exists(ckpt_dir):\n",
    "    os.makedirs(ckpt_dir)\n",
    "log_dir = 'log_6/'\n",
    "if not os.path.exists(log_dir):\n",
    "    os.makedirs(log_dir)"
   ]
  },
  {
   "cell_type": "code",
   "execution_count": 3,
   "metadata": {
    "collapsed": true
   },
   "outputs": [],
   "source": [
    "with tf.device('/cpu:0'):\n",
    "    with tf.name_scope('input'):\n",
    "        x = tf.placeholder(tf.float32, [None, 32,32,3], name='x_input')\n",
    "        keep_prob = tf.placeholder(tf.float32, name='keep_prob')\n",
    "        y_ = tf.placeholder(tf.int64, [None], name='labels')"
   ]
  },
  {
   "cell_type": "code",
   "execution_count": 4,
   "metadata": {
    "scrolled": true
   },
   "outputs": [
    {
     "name": "stdout",
     "output_type": "stream",
     "text": [
      "conv_1:  (?, 28, 28, 12)\n",
      "pool_1:  (?, 14, 14, 12)\n",
      "conv_2:  (?, 10, 10, 24)\n",
      "pool_2:  (?, 5, 5, 24)\n",
      "flat_1: (?, 600)\n",
      "fc_1:  (?, 120)\n",
      "fc_2:  (?, 84)\n",
      "fc_3:  (?, 10)\n",
      "drop_out:  (?, 10)\n",
      "prediction:  (?, 10)\n"
     ]
    }
   ],
   "source": [
    "with tf.device('/cpu:1'):\n",
    "    with tf.name_scope('prediction'):\n",
    "        le_net5 = LeNet5_LERU(x, keep_prob)\n",
    "        y = le_net5.prediction"
   ]
  },
  {
   "cell_type": "code",
   "execution_count": 5,
   "metadata": {
    "collapsed": true
   },
   "outputs": [],
   "source": [
    "with tf.device('/cpu:2'):\n",
    "    with tf.name_scope('cross_entropy'):\n",
    "        cross_entropy = tf.reduce_mean(tf.nn.sparse_softmax_cross_entropy_with_logits(logits=y,\n",
    "                                                                                  labels=y_, \n",
    "                                                                                  name=\"cross_entropy_per_example\"))"
   ]
  },
  {
   "cell_type": "code",
   "execution_count": 6,
   "metadata": {
    "collapsed": true
   },
   "outputs": [],
   "source": [
    "with tf.device('/cpu:3'):\n",
    "    with tf.name_scope('train_step'):\n",
    "        train_step = tf.train.AdagradOptimizer(FLAGS.lr).minimize(cross_entropy)"
   ]
  },
  {
   "cell_type": "code",
   "execution_count": 7,
   "metadata": {
    "collapsed": true
   },
   "outputs": [],
   "source": [
    "with tf.device('/cpu:0'):\n",
    "    prediction =tf.argmax(y, 1)\n",
    "    accuracy = tf.reduce_mean(tf.cast( tf.equal(prediction,y_), tf.float32))"
   ]
  },
  {
   "cell_type": "code",
   "execution_count": null,
   "metadata": {
    "collapsed": true
   },
   "outputs": [],
   "source": [
    "def SaveCheckpoint2S3(ori_dir,des_dir):\n",
    "    bucketname = 'sagemaker-deechean-dl' \n",
    "    for file in os.listdir(file_dir):\n",
    "        if os.path.isfile(file_dir+file):\n",
    "            print('save files to s3')\n",
    "            aws_boto3.upload_file(file_dir+file, bucketname,des_dir+file)"
   ]
  },
  {
   "cell_type": "code",
   "execution_count": null,
   "metadata": {},
   "outputs": [
    {
     "name": "stdout",
     "output_type": "stream",
     "text": [
      "train set length: 50000\n",
      "test set length: 10000\n",
      "2019-06-09 14:00:50 iter 249, Test accuracy:12.04%\n",
      "2019-06-09 14:07:48 iter 499, Test accuracy:13.12%\n",
      "2019-06-09 14:14:12 iter 749, Test accuracy:12.61%\n",
      "2019-06-09 14:20:34 iter 999, Test accuracy:14.85%\n",
      "2019-06-09 14:26:57 iter 1249, Test accuracy:20.28%\n",
      "2019-06-09 14:32:57 iter 1499, Test accuracy:20.71%\n",
      "2019-06-09 14:40:57 iter 1749, Test accuracy:21.76%\n",
      "2019-06-09 14:55:43 iter 1999, Test accuracy:22.44%\n",
      "2019-06-09 15:10:39 iter 2249, Test accuracy:22.56%\n",
      "2019-06-09 15:25:41 iter 2499, Test accuracy:23.12%\n",
      "2019-06-09 15:40:42 iter 2749, Test accuracy:23.69%\n",
      "2019-06-09 15:57:29 iter 2999, Test accuracy:23.92%\n",
      "2019-06-09 16:13:54 iter 3249, Test accuracy:24.53%\n",
      "2019-06-09 16:28:16 iter 3499, Test accuracy:24.88%\n",
      "2019-06-09 16:41:20 iter 3749, Test accuracy:24.68%\n",
      "2019-06-09 16:57:13 iter 3999, Test accuracy:26.04%\n",
      "2019-06-09 17:11:27 iter 4249, Test accuracy:26.47%\n",
      "2019-06-09 17:26:36 iter 4499, Test accuracy:26.46%\n",
      "2019-06-09 17:40:47 iter 4749, Test accuracy:27.89%\n",
      "2019-06-09 17:55:52 iter 4999, Test accuracy:28.07%\n",
      "2019-06-09 18:10:57 iter 5249, Test accuracy:28.13%\n",
      "2019-06-09 18:25:49 iter 5499, Test accuracy:29.24%\n",
      "2019-06-09 18:40:21 iter 5749, Test accuracy:29.59%\n",
      "2019-06-09 18:55:15 iter 5999, Test accuracy:29.67%\n",
      "2019-06-09 19:09:47 iter 6249, Test accuracy:29.53%\n",
      "2019-06-09 19:26:33 iter 6499, Test accuracy:30.36%\n",
      "2019-06-09 19:43:33 iter 6749, Test accuracy:30.74%\n",
      "2019-06-09 19:55:57 iter 6999, Test accuracy:30.9%\n",
      "2019-06-09 20:11:13 iter 7249, Test accuracy:31.2%\n",
      "2019-06-09 20:30:34 iter 7499, Test accuracy:30.76%\n",
      "2019-06-09 20:43:58 iter 7749, Test accuracy:31.32%\n",
      "2019-06-09 20:56:29 iter 7999, Test accuracy:30.42%\n",
      "2019-06-09 21:10:42 iter 8249, Test accuracy:32.29%\n",
      "2019-06-09 21:25:21 iter 8499, Test accuracy:32.29%\n",
      "2019-06-09 21:40:50 iter 8749, Test accuracy:29.35%\n",
      "2019-06-09 21:55:23 iter 8999, Test accuracy:32.99%\n",
      "2019-06-09 22:10:36 iter 9249, Test accuracy:32.63%\n",
      "2019-06-09 22:26:01 iter 9499, Test accuracy:32.73%\n",
      "2019-06-09 22:40:28 iter 9749, Test accuracy:32.94%\n",
      "2019-06-09 22:54:29 iter 9999, Test accuracy:33.56%\n",
      "2019-06-09 23:08:09 iter 10249, Test accuracy:33.71%\n",
      "2019-06-09 23:25:41 iter 10499, Test accuracy:34.22%\n",
      "2019-06-09 23:40:05 iter 10749, Test accuracy:34.01%\n",
      "2019-06-09 23:54:05 iter 10999, Test accuracy:34.52%\n",
      "2019-06-10 00:08:30 iter 11249, Test accuracy:32.95%\n",
      "2019-06-10 00:24:09 iter 11499, Test accuracy:34.6%\n",
      "2019-06-10 00:37:19 iter 11749, Test accuracy:34.84%\n",
      "2019-06-10 00:51:03 iter 11999, Test accuracy:34.52%\n",
      "2019-06-10 01:10:19 iter 12249, Test accuracy:34.98%\n",
      "2019-06-10 01:26:45 iter 12499, Test accuracy:34.94%\n",
      "2019-06-10 01:44:36 iter 12749, Test accuracy:35.29%\n",
      "2019-06-10 01:58:45 iter 12999, Test accuracy:35.7%\n",
      "2019-06-10 02:14:21 iter 13249, Test accuracy:34.71%\n",
      "2019-06-10 02:26:39 iter 13499, Test accuracy:34.98%\n",
      "2019-06-10 02:41:06 iter 13749, Test accuracy:35.52%\n",
      "2019-06-10 03:01:51 iter 13999, Test accuracy:35.68%\n",
      "2019-06-10 03:19:51 iter 14249, Test accuracy:35.81%\n",
      "2019-06-10 03:35:06 iter 14499, Test accuracy:36.14%\n",
      "2019-06-10 03:50:40 iter 14749, Test accuracy:35.8%\n",
      "2019-06-10 04:05:43 iter 14999, Test accuracy:36.49%\n",
      "2019-06-10 04:20:31 iter 15249, Test accuracy:36.2%\n",
      "2019-06-10 04:35:08 iter 15499, Test accuracy:36.85%\n",
      "2019-06-10 04:50:01 iter 15749, Test accuracy:36.33%\n",
      "2019-06-10 05:03:55 iter 15999, Test accuracy:36.23%\n",
      "2019-06-10 05:18:28 iter 16249, Test accuracy:36.5%\n",
      "2019-06-10 05:33:06 iter 16499, Test accuracy:36.85%\n",
      "2019-06-10 05:51:09 iter 16749, Test accuracy:37.29%\n",
      "2019-06-10 06:05:59 iter 16999, Test accuracy:37.2%\n",
      "2019-06-10 06:20:25 iter 17249, Test accuracy:37.28%\n",
      "2019-06-10 06:35:08 iter 17499, Test accuracy:37.31%\n",
      "2019-06-10 06:50:17 iter 17749, Test accuracy:37.13%\n",
      "2019-06-10 07:05:27 iter 17999, Test accuracy:37.47%\n",
      "2019-06-10 07:20:25 iter 18249, Test accuracy:37.73%\n",
      "2019-06-10 07:35:54 iter 18499, Test accuracy:37.79%\n",
      "2019-06-10 07:51:02 iter 18749, Test accuracy:37.96%\n",
      "2019-06-10 08:05:38 iter 18999, Test accuracy:37.8%\n",
      "2019-06-10 08:20:57 iter 19249, Test accuracy:37.8%\n",
      "2019-06-10 08:35:14 iter 19499, Test accuracy:38.55%\n",
      "2019-06-10 08:49:41 iter 19749, Test accuracy:38.09%\n",
      "2019-06-10 09:05:23 iter 19999, Test accuracy:37.8%\n",
      "2019-06-10 09:19:40 iter 20249, Test accuracy:37.72%\n",
      "2019-06-10 09:35:15 iter 20499, Test accuracy:37.98%\n",
      "2019-06-10 09:50:56 iter 20749, Test accuracy:38.18%\n",
      "2019-06-10 10:05:51 iter 20999, Test accuracy:38.37%\n",
      "2019-06-10 10:21:09 iter 21249, Test accuracy:38.34%\n",
      "2019-06-10 10:36:06 iter 21499, Test accuracy:38.58%\n",
      "2019-06-10 10:51:40 iter 21749, Test accuracy:38.48%\n",
      "2019-06-10 11:05:38 iter 21999, Test accuracy:38.79%\n",
      "2019-06-10 11:22:14 iter 22249, Test accuracy:38.48%\n",
      "2019-06-10 11:35:58 iter 22499, Test accuracy:38.45%\n",
      "2019-06-10 11:50:39 iter 22749, Test accuracy:38.99%\n",
      "2019-06-10 12:05:22 iter 22999, Test accuracy:38.73%\n",
      "2019-06-10 12:19:54 iter 23249, Test accuracy:39.13%\n"
     ]
    }
   ],
   "source": [
    "import time\n",
    "\n",
    "if __name__ == '__main__':\n",
    "    data = cifar10();\n",
    "    with tf.Session(config=tf.ConfigProto(\n",
    "                            device_count={\"CPU\":4},\n",
    "                            inter_op_parallelism_threads=1,\n",
    "                            intra_op_parallelism_threads=1)) as sess:\n",
    "        sess.run(tf.global_variables_initializer())\n",
    "        saver = tf.train.Saver(max_to_keep=1)\n",
    "        if CONTINUE != 0:\n",
    "            model_file=tf.train.latest_checkpoint(ckpt_dir)\n",
    "            saver.restore(sess,model_file)\n",
    "        for i in range(CONTINUE, FLAGS.epoch):\n",
    "            train_image, train_label,_ = data.get_train_batch(FLAGS.batch_size)\n",
    "            loss, _,accuracy_rate = sess.run([cross_entropy, train_step,accuracy], feed_dict={keep_prob: FLAGS.keep_prob, x:train_image, y_:train_label})\n",
    "            tfg.savelog(log_dir,'train_accuracy',i, accuracy_rate)  \n",
    "            tfg.savelog(log_dir,'train_loss',i, loss)   \n",
    "            if (i+1) % FLAGS.ckpt_frequency == 0:  #保存预测模型\n",
    "                saver.save(sess,ckpt_dir+'cifar10_'+str(i+1)+'.ckpt',global_step=i+1)\n",
    "                #SaveCheckpoint2S3()\n",
    "                acc_accuracy = 0\n",
    "                for j in range(int(10000/FLAGS.test_size)):                    \n",
    "                    test_image, test_label,test_index = data.get_test_batch(FLAGS.test_size)\n",
    "                    accuracy_rate, output = sess.run([accuracy,prediction],feed_dict={keep_prob: 1, x:test_image, y_:test_label})\n",
    "                    acc_accuracy += accuracy_rate\n",
    "                    tfg.savelog(log_dir,'test_index',i, test_index)\n",
    "                    tfg.savelog(log_dir,'output',i, output)\n",
    "                accuracy_rate = acc_accuracy/10000*FLAGS.test_size\n",
    "                print(time.strftime(\"%Y-%m-%d %H:%M:%S\", time.localtime()) + ' iter ' + str(i) + ', Test accuracy:' +str(round(accuracy_rate*100,2))+'%')\n",
    "                tfg.savelog(log_dir,'test_accuracy',i, accuracy_rate)                  \n",
    "    tf.reset_default_graph()"
   ]
  },
  {
   "cell_type": "code",
   "execution_count": null,
   "metadata": {
    "collapsed": true
   },
   "outputs": [],
   "source": []
  }
 ],
 "metadata": {
  "kernelspec": {
   "display_name": "Python 3",
   "language": "python",
   "name": "python3"
  },
  "language_info": {
   "codemirror_mode": {
    "name": "ipython",
    "version": 3
   },
   "file_extension": ".py",
   "mimetype": "text/x-python",
   "name": "python",
   "nbconvert_exporter": "python",
   "pygments_lexer": "ipython3",
   "version": "3.5.4"
  }
 },
 "nbformat": 4,
 "nbformat_minor": 2
}
