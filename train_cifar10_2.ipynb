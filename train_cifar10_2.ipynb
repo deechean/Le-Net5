{
 "cells": [
  {
   "cell_type": "code",
   "execution_count": 1,
   "metadata": {},
   "outputs": [
    {
     "name": "stdout",
     "output_type": "stream",
     "text": [
      "parameters were defined.\n",
      "learn Rate = 0.01 keep Prob= 0.5  image augument= True\n"
     ]
    }
   ],
   "source": [
    "#!/usr/bin/env python3\n",
    "# -*- coding: utf-8 -*-\n",
    "\"\"\"\n",
    "Created on Sun Apr  7 22:08:46 2019\n",
    "\n",
    "@author: Deechean\n",
    "\"\"\"\n",
    "from cifar10 import cifar10\n",
    "import os\n",
    "import tensorflow as tf\n",
    "from lenet5 import LeNet5_LERU\n",
    "import tf_general as tfg\n",
    "import numpy as np\n",
    "\n",
    "FLAGS = tf.flags.FLAGS\n",
    "# learn Rate = 0.01, keep Prob= 0.5, image augument = True\n",
    "\n",
    "try:\n",
    "    tf.flags.DEFINE_string('f', '', 'kernel')\n",
    "    tf.flags.DEFINE_integer('epoch', 50000, 'epoch')\n",
    "    tf.flags.DEFINE_integer('batch_size',200, 'batch size')\n",
    "    tf.flags.DEFINE_integer('test_size', 200, 'test size')\n",
    "    tf.flags.DEFINE_float('lr', 0.01, 'learning rate')\n",
    "    tf.flags.DEFINE_float('keep_prob', 0.5, 'keep prob for drop lay')\n",
    "    tf.flags.DEFINE_boolean('augument', True, 'if image augument is applied')\n",
    "    \n",
    "    tf.flags.DEFINE_float('ckpt_frequency', 250, 'frequency to save checkpoint')\n",
    "    tf.flags.DEFINE_boolean('restore', False, 'restore from checkpoint and run test')\n",
    "    print('parameters were defined.')\n",
    "except:\n",
    "    print('parameters have been defined.')\n",
    "    \n",
    "print(\"learn Rate =\",FLAGS.lr, \"keep Prob=\", FLAGS.keep_prob, \" image augument=\",FLAGS.augument)   \n",
    "CONTINUE = 20000\n",
    "filename = 'lenet_train_cifar10_2.log'"
   ]
  },
  {
   "cell_type": "code",
   "execution_count": 2,
   "metadata": {
    "collapsed": true
   },
   "outputs": [],
   "source": [
    "ckpt_dir = 'ckpt_2/'\n",
    "if not os.path.exists(ckpt_dir):\n",
    "    os.makedirs(ckpt_dir)\n",
    "log_dir = 'log_2/'\n",
    "if not os.path.exists(log_dir):\n",
    "    os.makedirs(log_dir)"
   ]
  },
  {
   "cell_type": "code",
   "execution_count": 3,
   "metadata": {
    "collapsed": true
   },
   "outputs": [],
   "source": [
    "with tf.device('/cpu:0'):\n",
    "    with tf.name_scope('input'):\n",
    "        x = tf.placeholder(tf.float32, [None, 32,32,3], name='x_input')\n",
    "        keep_prob = tf.placeholder(tf.float32, name='keep_prob')\n",
    "        y_ = tf.placeholder(tf.int64, [None], name='labels')"
   ]
  },
  {
   "cell_type": "code",
   "execution_count": 4,
   "metadata": {
    "scrolled": true
   },
   "outputs": [
    {
     "name": "stdout",
     "output_type": "stream",
     "text": [
      "conv_1:  (?, 28, 28, 12)\n",
      "pool_1:  (?, 14, 14, 12)\n",
      "conv_2:  (?, 10, 10, 24)\n",
      "pool_2:  (?, 5, 5, 24)\n",
      "flat_1: (?, 600)\n",
      "fc_1:  (?, 120)\n",
      "fc_2:  (?, 84)\n",
      "fc_3:  (?, 10)\n",
      "drop_out:  (?, 10)\n",
      "prediction:  (?, 10)\n"
     ]
    }
   ],
   "source": [
    "with tf.device('/cpu:1'):\n",
    "    with tf.name_scope('prediction'):\n",
    "        le_net5 = LeNet5_LERU(x, keep_prob)\n",
    "        y = le_net5.prediction"
   ]
  },
  {
   "cell_type": "code",
   "execution_count": 5,
   "metadata": {
    "collapsed": true
   },
   "outputs": [],
   "source": [
    "with tf.device('/cpu:2'):\n",
    "    with tf.name_scope('cross_entropy'):\n",
    "        cross_entropy = tf.reduce_mean(tf.nn.sparse_softmax_cross_entropy_with_logits(logits=y,\n",
    "                                                                                      labels=y_, \n",
    "                                                                                      name=\"cross_entropy_per_example\"))"
   ]
  },
  {
   "cell_type": "code",
   "execution_count": 6,
   "metadata": {
    "collapsed": true
   },
   "outputs": [],
   "source": [
    "with tf.device('/cpu:3'):\n",
    "    with tf.name_scope('train_step'):\n",
    "        train_step = tf.train.AdagradOptimizer(FLAGS.lr).minimize(cross_entropy)"
   ]
  },
  {
   "cell_type": "code",
   "execution_count": null,
   "metadata": {
    "collapsed": true
   },
   "outputs": [],
   "source": [
    "with tf.device('/cpu:0'):\n",
    "    prediction =tf.argmax(y, 1)\n",
    "    accuracy = tf.reduce_mean(tf.cast( tf.equal(prediction,y_), tf.float32))"
   ]
  },
  {
   "cell_type": "code",
   "execution_count": null,
   "metadata": {},
   "outputs": [
    {
     "name": "stdout",
     "output_type": "stream",
     "text": [
      "train set length: 50000\n",
      "test set length: 10000\n",
      "INFO:tensorflow:Restoring parameters from ckpt_2/cifar10_20000.ckpt-20000\n",
      "2019-06-09 12:39:07 iter 20249, Test accuracy:39.1%\n",
      "2019-06-09 12:45:18 iter 20499, Test accuracy:39.18%\n",
      "2019-06-09 12:51:13 iter 20749, Test accuracy:39.24%\n",
      "2019-06-09 12:57:49 iter 20999, Test accuracy:39.56%\n",
      "2019-06-09 13:03:41 iter 21249, Test accuracy:39.21%\n",
      "2019-06-09 13:09:42 iter 21499, Test accuracy:39.65%\n",
      "2019-06-09 13:15:32 iter 21749, Test accuracy:39.34%\n",
      "2019-06-09 13:21:45 iter 21999, Test accuracy:39.49%\n",
      "2019-06-09 13:28:10 iter 22249, Test accuracy:38.74%\n",
      "2019-06-09 13:35:01 iter 22499, Test accuracy:39.27%\n",
      "2019-06-09 13:41:01 iter 22749, Test accuracy:39.58%\n",
      "2019-06-09 13:47:10 iter 22999, Test accuracy:39.99%\n",
      "2019-06-09 13:54:25 iter 23249, Test accuracy:39.54%\n",
      "2019-06-09 14:00:44 iter 23499, Test accuracy:39.51%\n",
      "2019-06-09 14:06:44 iter 23749, Test accuracy:39.62%\n",
      "2019-06-09 14:13:51 iter 23999, Test accuracy:39.89%\n",
      "2019-06-09 14:22:02 iter 24249, Test accuracy:39.55%\n",
      "2019-06-09 14:28:08 iter 24499, Test accuracy:39.84%\n",
      "2019-06-09 14:33:31 iter 24749, Test accuracy:39.99%\n",
      "2019-06-09 14:39:42 iter 24999, Test accuracy:39.77%\n",
      "2019-06-09 14:53:59 iter 25249, Test accuracy:40.36%\n",
      "2019-06-09 15:08:12 iter 25499, Test accuracy:39.68%\n",
      "2019-06-09 15:21:49 iter 25749, Test accuracy:40.05%\n",
      "2019-06-09 15:35:36 iter 25999, Test accuracy:39.84%\n",
      "2019-06-09 15:50:12 iter 26249, Test accuracy:39.72%\n",
      "2019-06-09 16:03:05 iter 26499, Test accuracy:39.81%\n",
      "2019-06-09 16:16:33 iter 26749, Test accuracy:40.27%\n",
      "2019-06-09 16:31:01 iter 26999, Test accuracy:40.36%\n",
      "2019-06-09 16:45:38 iter 27249, Test accuracy:40.18%\n",
      "2019-06-09 16:58:52 iter 27499, Test accuracy:40.42%\n",
      "2019-06-09 17:14:53 iter 27749, Test accuracy:40.64%\n",
      "2019-06-09 17:27:45 iter 27999, Test accuracy:40.29%\n",
      "2019-06-09 17:42:01 iter 28249, Test accuracy:40.83%\n",
      "2019-06-09 17:55:46 iter 28499, Test accuracy:40.6%\n",
      "2019-06-09 18:12:27 iter 28749, Test accuracy:40.74%\n",
      "2019-06-09 18:28:47 iter 28999, Test accuracy:40.24%\n",
      "2019-06-09 18:42:58 iter 29249, Test accuracy:40.56%\n",
      "2019-06-09 18:57:48 iter 29499, Test accuracy:40.87%\n",
      "2019-06-09 19:10:53 iter 29749, Test accuracy:40.5%\n",
      "2019-06-09 19:25:30 iter 29999, Test accuracy:40.33%\n",
      "2019-06-09 19:42:24 iter 30249, Test accuracy:41.06%\n",
      "2019-06-09 20:00:27 iter 30499, Test accuracy:41.25%\n",
      "2019-06-09 20:14:58 iter 30749, Test accuracy:41.15%\n",
      "2019-06-09 20:29:19 iter 30999, Test accuracy:41.23%\n",
      "2019-06-09 20:42:15 iter 31249, Test accuracy:41.24%\n",
      "2019-06-09 20:56:02 iter 31499, Test accuracy:41.03%\n",
      "2019-06-09 21:12:26 iter 31749, Test accuracy:41.25%\n",
      "2019-06-09 21:27:02 iter 31999, Test accuracy:41.12%\n",
      "2019-06-09 21:41:39 iter 32249, Test accuracy:41.26%\n",
      "2019-06-09 21:58:06 iter 32499, Test accuracy:41.41%\n",
      "2019-06-09 22:13:56 iter 32749, Test accuracy:40.66%\n",
      "2019-06-09 22:27:20 iter 32999, Test accuracy:41.28%\n",
      "2019-06-09 22:41:03 iter 33249, Test accuracy:41.42%\n",
      "2019-06-09 22:55:35 iter 33499, Test accuracy:41.68%\n",
      "2019-06-09 23:09:01 iter 33749, Test accuracy:41.67%\n",
      "2019-06-09 23:21:56 iter 33999, Test accuracy:41.62%\n",
      "2019-06-09 23:35:33 iter 34249, Test accuracy:41.21%\n",
      "2019-06-09 23:52:34 iter 34499, Test accuracy:41.84%\n",
      "2019-06-10 00:05:33 iter 34749, Test accuracy:41.85%\n",
      "2019-06-10 00:20:16 iter 34999, Test accuracy:41.58%\n",
      "2019-06-10 00:36:01 iter 35249, Test accuracy:41.57%\n",
      "2019-06-10 00:50:22 iter 35499, Test accuracy:41.6%\n",
      "2019-06-10 01:05:29 iter 35749, Test accuracy:41.77%\n",
      "2019-06-10 01:19:07 iter 35999, Test accuracy:41.46%\n",
      "2019-06-10 01:34:20 iter 36249, Test accuracy:41.55%\n",
      "2019-06-10 01:53:23 iter 36499, Test accuracy:42.01%\n",
      "2019-06-10 02:10:17 iter 36749, Test accuracy:42.08%\n",
      "2019-06-10 02:23:59 iter 36999, Test accuracy:42.02%\n",
      "2019-06-10 02:37:45 iter 37249, Test accuracy:42.15%\n",
      "2019-06-10 02:50:53 iter 37499, Test accuracy:42.31%\n",
      "2019-06-10 03:06:00 iter 37749, Test accuracy:42.43%\n",
      "2019-06-10 03:22:48 iter 37999, Test accuracy:40.75%\n",
      "2019-06-10 03:37:08 iter 38249, Test accuracy:41.83%\n",
      "2019-06-10 03:51:12 iter 38499, Test accuracy:41.65%\n",
      "2019-06-10 04:05:27 iter 38749, Test accuracy:42.45%\n",
      "2019-06-10 04:20:13 iter 38999, Test accuracy:42.57%\n",
      "2019-06-10 04:35:25 iter 39249, Test accuracy:42.09%\n",
      "2019-06-10 04:50:11 iter 39499, Test accuracy:42.33%\n",
      "2019-06-10 05:04:33 iter 39749, Test accuracy:42.19%\n",
      "2019-06-10 05:20:21 iter 39999, Test accuracy:42.59%\n",
      "2019-06-10 05:34:36 iter 40249, Test accuracy:42.28%\n",
      "2019-06-10 05:49:16 iter 40499, Test accuracy:42.3%\n",
      "2019-06-10 06:04:20 iter 40749, Test accuracy:42.19%\n",
      "2019-06-10 06:19:32 iter 40999, Test accuracy:42.76%\n",
      "2019-06-10 06:31:29 iter 41249, Test accuracy:42.66%\n",
      "2019-06-10 06:45:12 iter 41499, Test accuracy:42.31%\n",
      "2019-06-10 07:00:24 iter 41749, Test accuracy:42.55%\n",
      "2019-06-10 07:14:43 iter 41999, Test accuracy:42.4%\n",
      "2019-06-10 07:30:07 iter 42249, Test accuracy:41.84%\n",
      "2019-06-10 07:45:06 iter 42499, Test accuracy:42.85%\n",
      "2019-06-10 08:00:32 iter 42749, Test accuracy:42.77%\n",
      "2019-06-10 08:16:54 iter 42999, Test accuracy:41.87%\n",
      "2019-06-10 08:30:54 iter 43249, Test accuracy:43.11%\n",
      "2019-06-10 08:45:27 iter 43499, Test accuracy:42.55%\n",
      "2019-06-10 08:57:43 iter 43749, Test accuracy:43.1%\n",
      "2019-06-10 09:10:37 iter 43999, Test accuracy:43.11%\n",
      "2019-06-10 09:26:21 iter 44249, Test accuracy:42.72%\n",
      "2019-06-10 09:40:55 iter 44499, Test accuracy:42.4%\n",
      "2019-06-10 09:55:29 iter 44749, Test accuracy:42.65%\n",
      "2019-06-10 10:10:20 iter 44999, Test accuracy:42.73%\n",
      "2019-06-10 10:25:00 iter 45249, Test accuracy:42.61%\n",
      "2019-06-10 10:41:07 iter 45499, Test accuracy:43.43%\n",
      "2019-06-10 10:56:40 iter 45749, Test accuracy:43.38%\n",
      "2019-06-10 11:11:34 iter 45999, Test accuracy:42.76%\n",
      "2019-06-10 11:29:25 iter 46249, Test accuracy:42.66%\n",
      "2019-06-10 11:45:52 iter 46499, Test accuracy:43.29%\n",
      "2019-06-10 12:04:38 iter 46749, Test accuracy:43.05%\n",
      "2019-06-10 12:18:37 iter 46999, Test accuracy:42.93%\n"
     ]
    }
   ],
   "source": [
    "import time\n",
    "\n",
    "if __name__ == '__main__':\n",
    "    data = cifar10();\n",
    "    with tf.Session(config=tf.ConfigProto(\n",
    "                            device_count={\"CPU\":4},\n",
    "                            inter_op_parallelism_threads=1,\n",
    "                            intra_op_parallelism_threads=1)) as sess:\n",
    "        sess.run(tf.global_variables_initializer())\n",
    "        saver = tf.train.Saver(max_to_keep=1)\n",
    "        if CONTINUE != 0:\n",
    "            model_file=tf.train.latest_checkpoint(ckpt_dir)\n",
    "            saver.restore(sess,model_file)\n",
    "        for i in range(CONTINUE, FLAGS.epoch):\n",
    "            train_image, train_label,_ = data.get_train_batch(FLAGS.batch_size)\n",
    "            loss, _,accuracy_rate = sess.run([cross_entropy, train_step,accuracy], feed_dict={keep_prob: FLAGS.keep_prob, x:train_image, y_:train_label})\n",
    "            tfg.savelog(log_dir,'train_accuracy',i, accuracy_rate)  \n",
    "            tfg.savelog(log_dir,'train_loss',i, loss)   \n",
    "            if (i+1) % FLAGS.ckpt_frequency == 0:  #保存预测模型\n",
    "                saver.save(sess,ckpt_dir+'cifar10_'+str(i+1)+'.ckpt',global_step=i+1)\n",
    "                #SaveCheckpoint2S3()\n",
    "                acc_accuracy = 0\n",
    "                for j in range(int(10000/FLAGS.test_size)):                    \n",
    "                    test_image, test_label,test_index = data.get_test_batch(FLAGS.test_size)\n",
    "                    accuracy_rate, output = sess.run([accuracy,prediction],feed_dict={keep_prob: 1, x:test_image, y_:test_label})\n",
    "                    acc_accuracy += accuracy_rate\n",
    "                    tfg.savelog(log_dir,'test_index',i, test_index)\n",
    "                    tfg.savelog(log_dir,'output',i, output)\n",
    "                accuracy_rate = acc_accuracy/10000*FLAGS.test_size\n",
    "                print(time.strftime(\"%Y-%m-%d %H:%M:%S\", time.localtime()) + ' iter ' + str(i) + ', Test accuracy:' +str(round(accuracy_rate*100,2))+'%')\n",
    "                tfg.savelog(log_dir,'test_accuracy',i, accuracy_rate)                  \n",
    "    tf.reset_default_graph()"
   ]
  }
 ],
 "metadata": {
  "kernelspec": {
   "display_name": "Python 3",
   "language": "python",
   "name": "python3"
  },
  "language_info": {
   "codemirror_mode": {
    "name": "ipython",
    "version": 3
   },
   "file_extension": ".py",
   "mimetype": "text/x-python",
   "name": "python",
   "nbconvert_exporter": "python",
   "pygments_lexer": "ipython3",
   "version": "3.5.4"
  }
 },
 "nbformat": 4,
 "nbformat_minor": 2
}
