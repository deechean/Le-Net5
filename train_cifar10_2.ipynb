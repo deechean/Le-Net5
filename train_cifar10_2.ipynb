{
 "cells": [
  {
   "cell_type": "code",
   "execution_count": 1,
   "metadata": {},
   "outputs": [
    {
     "name": "stdout",
     "output_type": "stream",
     "text": [
      "parameters were defined.\n",
      "learn Rate = 0.01 keep Prob= 0.5  image augument= True\n"
     ]
    }
   ],
   "source": [
    "#!/usr/bin/env python3\n",
    "# -*- coding: utf-8 -*-\n",
    "\"\"\"\n",
    "Created on Sun Apr  7 22:08:46 2019\n",
    "\n",
    "@author: Deechean\n",
    "\"\"\"\n",
    "from cifar10 import cifar10\n",
    "import os\n",
    "import tensorflow as tf\n",
    "from lenet5 import LeNet5_LERU\n",
    "import tf_general as tfg\n",
    "import numpy as np\n",
    "import aws_boto3\n",
    "\n",
    "FLAGS = tf.flags.FLAGS\n",
    "# learn Rate = 0.01, keep Prob= 0.5, image augument = True\n",
    "\n",
    "try:\n",
    "    tf.flags.DEFINE_string('f', '', 'kernel')\n",
    "    tf.flags.DEFINE_integer('epoch', 20000, 'epoch')\n",
    "    tf.flags.DEFINE_integer('batch_size',200, 'batch size')\n",
    "    tf.flags.DEFINE_integer('test_size', 200, 'test size')\n",
    "    tf.flags.DEFINE_float('lr', 0.01, 'learning rate')\n",
    "    tf.flags.DEFINE_float('keep_prob', 0.5, 'keep prob for drop lay')\n",
    "    tf.flags.DEFINE_boolean('augument', True, 'if image augument is applied')\n",
    "    \n",
    "    tf.flags.DEFINE_float('ckpt_frequency', 250, 'frequency to save checkpoint')\n",
    "    tf.flags.DEFINE_boolean('restore', False, 'restore from checkpoint and run test')\n",
    "    print('parameters were defined.')\n",
    "except:\n",
    "    print('parameters have been defined.')\n",
    "    \n",
    "print(\"learn Rate =\",FLAGS.lr, \"keep Prob=\", FLAGS.keep_prob, \" image augument=\",FLAGS.augument)   \n",
    "CONTINUE = 0\n",
    "filename = 'lenet_train_cifar10_2.log'"
   ]
  },
  {
   "cell_type": "code",
   "execution_count": 2,
   "metadata": {
    "collapsed": true
   },
   "outputs": [],
   "source": [
    "ckpt_dir = 'ckpt_2/'\n",
    "if not os.path.exists(ckpt_dir):\n",
    "    os.makedirs(ckpt_dir)\n",
    "log_dir = 'log_2/'\n",
    "if not os.path.exists(log_dir):\n",
    "    os.makedirs(log_dir)"
   ]
  },
  {
   "cell_type": "code",
   "execution_count": 3,
   "metadata": {
    "collapsed": true
   },
   "outputs": [],
   "source": [
    "with tf.name_scope('input'):\n",
    "    x = tf.placeholder(tf.float32, [None, 32,32,3], name='x_input')\n",
    "    keep_prob = tf.placeholder(tf.float32, name='keep_prob')\n",
    "    y_ = tf.placeholder(tf.int64, [None], name='labels')"
   ]
  },
  {
   "cell_type": "code",
   "execution_count": 4,
   "metadata": {
    "scrolled": true
   },
   "outputs": [
    {
     "name": "stdout",
     "output_type": "stream",
     "text": [
      "conv_1:  (?, 28, 28, 12)\n",
      "pool_1:  (?, 14, 14, 12)\n",
      "conv_2:  (?, 10, 10, 24)\n",
      "pool_2:  (?, 5, 5, 24)\n",
      "flat_1: (?, 600)\n",
      "fc_1:  (?, 120)\n",
      "fc_2:  (?, 84)\n",
      "fc_3:  (?, 10)\n",
      "drop_out:  (?, 10)\n",
      "prediction:  (?, 10)\n"
     ]
    }
   ],
   "source": [
    "with tf.name_scope('prediction'):\n",
    "    le_net5 = LeNet5_LERU(x, keep_prob)\n",
    "    y = le_net5.prediction"
   ]
  },
  {
   "cell_type": "code",
   "execution_count": 5,
   "metadata": {
    "collapsed": true
   },
   "outputs": [],
   "source": [
    "with tf.name_scope('cross_entropy'):\n",
    "    cross_entropy = tf.reduce_mean(tf.nn.sparse_softmax_cross_entropy_with_logits(logits=y,\n",
    "                                                                                  labels=y_, \n",
    "                                                                                  name=\"cross_entropy_per_example\"))"
   ]
  },
  {
   "cell_type": "code",
   "execution_count": 6,
   "metadata": {
    "collapsed": true
   },
   "outputs": [],
   "source": [
    "with tf.name_scope('train_step'):\n",
    "    train_step = tf.train.AdagradOptimizer(FLAGS.lr).minimize(cross_entropy)"
   ]
  },
  {
   "cell_type": "code",
   "execution_count": 7,
   "metadata": {
    "collapsed": true
   },
   "outputs": [],
   "source": [
    "prediction =tf.argmax(y, 1)\n",
    "accuracy = tf.reduce_mean(tf.cast( tf.equal(prediction,y_), tf.float32))"
   ]
  },
  {
   "cell_type": "code",
   "execution_count": null,
   "metadata": {
    "collapsed": true
   },
   "outputs": [],
   "source": [
    "def SaveCheckpoint2S3(ori_dir,des_dir):\n",
    "    bucketname = 'sagemaker-deechean-dl' \n",
    "    for file in os.listdir(file_dir):\n",
    "        if os.path.isfile(file_dir+file):\n",
    "            print('save files to s3')\n",
    "            aws_boto3.upload_file(file_dir+file, bucketname,des_dir+file)"
   ]
  },
  {
   "cell_type": "code",
   "execution_count": null,
   "metadata": {},
   "outputs": [
    {
     "name": "stdout",
     "output_type": "stream",
     "text": [
      "train set length: 50000\n",
      "test set length: 10000\n",
      "2019-06-08 11:44:34 iter 249, Test accuracy:14.07%\n",
      "2019-06-08 11:49:54 iter 499, Test accuracy:14.78%\n",
      "2019-06-08 11:54:33 iter 749, Test accuracy:16.56%\n",
      "2019-06-08 11:58:53 iter 999, Test accuracy:19.91%\n",
      "2019-06-08 12:03:37 iter 1249, Test accuracy:22.14%\n",
      "2019-06-08 12:08:06 iter 1499, Test accuracy:23.64%\n",
      "2019-06-08 12:13:41 iter 1749, Test accuracy:24.28%\n",
      "2019-06-08 12:18:03 iter 1999, Test accuracy:25.27%\n",
      "2019-06-08 12:23:11 iter 2249, Test accuracy:26.28%\n",
      "2019-06-08 12:28:35 iter 2499, Test accuracy:27.19%\n",
      "2019-06-08 12:33:45 iter 2749, Test accuracy:28.25%\n",
      "2019-06-08 12:38:39 iter 2999, Test accuracy:28.2%\n",
      "2019-06-08 12:42:58 iter 3249, Test accuracy:29.13%\n",
      "2019-06-08 12:47:37 iter 3499, Test accuracy:30.05%\n",
      "2019-06-08 12:53:01 iter 3749, Test accuracy:30.04%\n",
      "2019-06-08 12:57:25 iter 3999, Test accuracy:30.27%\n",
      "2019-06-08 13:02:32 iter 4249, Test accuracy:30.61%\n",
      "2019-06-08 13:07:28 iter 4499, Test accuracy:31.17%\n",
      "2019-06-08 13:12:00 iter 4749, Test accuracy:31.2%\n",
      "2019-06-08 13:16:20 iter 4999, Test accuracy:30.82%\n",
      "2019-06-08 13:20:32 iter 5249, Test accuracy:31.82%\n",
      "2019-06-08 13:26:00 iter 5499, Test accuracy:31.88%\n",
      "2019-06-08 13:31:25 iter 5749, Test accuracy:32.62%\n",
      "2019-06-08 13:36:04 iter 5999, Test accuracy:31.94%\n",
      "2019-06-08 13:42:09 iter 6249, Test accuracy:32.29%\n",
      "2019-06-08 13:46:35 iter 6499, Test accuracy:32.54%\n",
      "2019-06-08 13:51:12 iter 6749, Test accuracy:32.61%\n",
      "2019-06-08 13:56:03 iter 6999, Test accuracy:32.84%\n",
      "2019-06-08 14:00:23 iter 7249, Test accuracy:32.87%\n",
      "2019-06-08 14:05:35 iter 7499, Test accuracy:33.18%\n",
      "2019-06-08 14:10:04 iter 7749, Test accuracy:33.54%\n",
      "2019-06-08 14:15:21 iter 7999, Test accuracy:33.5%\n",
      "2019-06-08 14:22:10 iter 8249, Test accuracy:33.85%\n",
      "2019-06-08 14:27:06 iter 8499, Test accuracy:33.56%\n",
      "2019-06-08 14:32:52 iter 8749, Test accuracy:34.39%\n",
      "2019-06-08 14:38:52 iter 8999, Test accuracy:34.3%\n",
      "2019-06-08 14:43:33 iter 9249, Test accuracy:34.19%\n",
      "2019-06-08 14:48:18 iter 9499, Test accuracy:34.76%\n",
      "2019-06-08 14:54:15 iter 9749, Test accuracy:33.8%\n",
      "2019-06-08 14:59:16 iter 9999, Test accuracy:34.69%\n",
      "2019-06-08 15:04:02 iter 10249, Test accuracy:33.43%\n",
      "2019-06-08 15:08:33 iter 10499, Test accuracy:35.6%\n",
      "2019-06-08 15:13:06 iter 10749, Test accuracy:35.33%\n",
      "2019-06-08 15:18:29 iter 10999, Test accuracy:35.3%\n",
      "2019-06-08 15:23:17 iter 11249, Test accuracy:34.54%\n",
      "2019-06-08 15:28:19 iter 11499, Test accuracy:36.28%\n"
     ]
    }
   ],
   "source": [
    "import time\n",
    "\n",
    "if __name__ == '__main__':\n",
    "    data = cifar10();\n",
    "    with tf.Session() as sess:\n",
    "        sess.run(tf.global_variables_initializer())\n",
    "        saver = tf.train.Saver(max_to_keep=1)\n",
    "        if CONTINUE != 0:\n",
    "            model_file=tf.train.latest_checkpoint(ckpt_dir)\n",
    "            saver.restore(sess,model_file)\n",
    "        for i in range(CONTINUE, FLAGS.epoch):\n",
    "            train_image, train_label,_ = data.get_train_batch(FLAGS.batch_size)\n",
    "            loss, _,accuracy_rate = sess.run([cross_entropy, train_step,accuracy], feed_dict={keep_prob: FLAGS.keep_prob, x:train_image, y_:train_label})\n",
    "            tfg.savelog(log_dir,'train_accuracy',i, accuracy_rate)  \n",
    "            tfg.savelog(log_dir,'train_loss',i, loss)   \n",
    "            if (i+1) % FLAGS.ckpt_frequency == 0:  #保存预测模型\n",
    "                saver.save(sess,ckpt_dir+'cifar10_'+str(i+1)+'.ckpt',global_step=i+1)\n",
    "                #SaveCheckpoint2S3()\n",
    "                acc_accuracy = 0\n",
    "                for j in range(int(10000/FLAGS.test_size)):                    \n",
    "                    test_image, test_label,test_index = data.get_test_batch(FLAGS.test_size)\n",
    "                    accuracy_rate, output = sess.run([accuracy,prediction],feed_dict={keep_prob: 1, x:test_image, y_:test_label})\n",
    "                    acc_accuracy += accuracy_rate\n",
    "                    tfg.savelog(log_dir,'test_index',i, test_index)\n",
    "                    tfg.savelog(log_dir,'output',i, output)\n",
    "                accuracy_rate = acc_accuracy/10000*FLAGS.test_size\n",
    "                print(time.strftime(\"%Y-%m-%d %H:%M:%S\", time.localtime()) + ' iter ' + str(i) + ', Test accuracy:' +str(round(accuracy_rate*100,2))+'%')\n",
    "                tfg.savelog(log_dir,'test_accuracy',i, accuracy_rate)                  \n",
    "    tf.reset_default_graph()"
   ]
  },
  {
   "cell_type": "code",
   "execution_count": null,
   "metadata": {
    "collapsed": true
   },
   "outputs": [],
   "source": []
  }
 ],
 "metadata": {
  "kernelspec": {
   "display_name": "Python 3",
   "language": "python",
   "name": "python3"
  },
  "language_info": {
   "codemirror_mode": {
    "name": "ipython",
    "version": 3
   },
   "file_extension": ".py",
   "mimetype": "text/x-python",
   "name": "python",
   "nbconvert_exporter": "python",
   "pygments_lexer": "ipython3",
   "version": "3.5.4"
  }
 },
 "nbformat": 4,
 "nbformat_minor": 2
}
