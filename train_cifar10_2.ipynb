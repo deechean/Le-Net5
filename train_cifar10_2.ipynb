{
 "cells": [
  {
   "cell_type": "code",
   "execution_count": 1,
   "metadata": {},
   "outputs": [
    {
     "name": "stdout",
     "output_type": "stream",
     "text": [
      "parameters were defined.\n",
      "learn Rate = 0.01 keep Prob= 0.5  image augument= True\n"
     ]
    }
   ],
   "source": [
    "#!/usr/bin/env python3\n",
    "# -*- coding: utf-8 -*-\n",
    "\"\"\"\n",
    "Created on Sun Apr  7 22:08:46 2019\n",
    "\n",
    "@author: Deechean\n",
    "\"\"\"\n",
    "from cifar10 import cifar10\n",
    "import os\n",
    "import tensorflow as tf\n",
    "from lenet5 import LeNet5_LERU\n",
    "import tf_general as tfg\n",
    "import numpy as np\n",
    "\n",
    "FLAGS = tf.flags.FLAGS\n",
    "# learn Rate = 0.01, keep Prob= 0.5, image augument = True\n",
    "\n",
    "try:\n",
    "    tf.flags.DEFINE_string('f', '', 'kernel')\n",
    "    tf.flags.DEFINE_integer('epoch', 20000, 'epoch')\n",
    "    tf.flags.DEFINE_integer('batch_size',200, 'batch size')\n",
    "    tf.flags.DEFINE_integer('test_size', 200, 'test size')\n",
    "    tf.flags.DEFINE_float('lr', 0.01, 'learning rate')\n",
    "    tf.flags.DEFINE_float('keep_prob', 0.5, 'keep prob for drop lay')\n",
    "    tf.flags.DEFINE_boolean('augument', True, 'if image augument is applied')\n",
    "    \n",
    "    tf.flags.DEFINE_float('ckpt_frequency', 250, 'frequency to save checkpoint')\n",
    "    tf.flags.DEFINE_boolean('restore', False, 'restore from checkpoint and run test')\n",
    "    print('parameters were defined.')\n",
    "except:\n",
    "    print('parameters have been defined.')\n",
    "    \n",
    "print(\"learn Rate =\",FLAGS.lr, \"keep Prob=\", FLAGS.keep_prob, \" image augument=\",FLAGS.augument)   \n",
    "CONTINUE = 0\n"
   ]
  },
  {
   "cell_type": "code",
   "execution_count": 2,
   "metadata": {},
   "outputs": [],
   "source": [
    "ckpt_dir = 'ckpt_5/'\n",
    "if not os.path.exists(ckpt_dir):\n",
    "    os.makedirs(ckpt_dir)\n",
    "log_dir = 'log_5/'\n",
    "if not os.path.exists(log_dir):\n",
    "    os.makedirs(log_dir)"
   ]
  },
  {
   "cell_type": "code",
   "execution_count": 3,
   "metadata": {},
   "outputs": [],
   "source": [
    "with tf.name_scope('input'):\n",
    "    x = tf.placeholder(tf.float32, [None, 32,32,3], name='x_input')\n",
    "    keep_prob = tf.placeholder(tf.float32, name='keep_prob')\n",
    "    y_ = tf.placeholder(tf.int64, [None], name='labels')"
   ]
  },
  {
   "cell_type": "code",
   "execution_count": 4,
   "metadata": {
    "scrolled": true
   },
   "outputs": [
    {
     "name": "stdout",
     "output_type": "stream",
     "text": [
      "WARNING:tensorflow:From /home/deechean/github/Lenet5/lenet5.py:129: calling l2_normalize (from tensorflow.python.ops.nn_impl) with dim is deprecated and will be removed in a future version.\n",
      "Instructions for updating:\n",
      "dim is deprecated, use axis instead\n",
      "WARNING:tensorflow:From /home/deechean/anaconda3/envs/tensorflow/lib/python3.7/site-packages/tensorflow/python/framework/op_def_library.py:263: colocate_with (from tensorflow.python.framework.ops) is deprecated and will be removed in a future version.\n",
      "Instructions for updating:\n",
      "Colocations handled automatically by placer.\n",
      "conv_1:  (?, 28, 28, 12)\n",
      "pool_1:  (?, 14, 14, 12)\n",
      "conv_2:  (?, 10, 10, 24)\n",
      "pool_2:  (?, 5, 5, 24)\n",
      "flat_1: (?, 600)\n",
      "fc_1:  (?, 120)\n",
      "fc_2:  (?, 84)\n",
      "fc_3:  (?, 10)\n",
      "WARNING:tensorflow:From /home/deechean/github/Lenet5/tf_general.py:115: calling dropout (from tensorflow.python.ops.nn_ops) with keep_prob is deprecated and will be removed in a future version.\n",
      "Instructions for updating:\n",
      "Please use `rate` instead of `keep_prob`. Rate should be set to `rate = 1 - keep_prob`.\n",
      "drop_out:  (?, 10)\n",
      "prediction:  (?, 10)\n"
     ]
    }
   ],
   "source": [
    "with tf.name_scope('prediction'):\n",
    "    le_net5 = LeNet5_LERU(x, keep_prob)\n",
    "    y = le_net5.prediction"
   ]
  },
  {
   "cell_type": "code",
   "execution_count": 5,
   "metadata": {},
   "outputs": [],
   "source": [
    "with tf.name_scope('cross_entropy'):\n",
    "    cross_entropy = tf.reduce_mean(tf.nn.sparse_softmax_cross_entropy_with_logits(logits=y,\n",
    "                                                                                  labels=y_, \n",
    "                                                                                  name=\"cross_entropy_per_example\"))"
   ]
  },
  {
   "cell_type": "code",
   "execution_count": 6,
   "metadata": {},
   "outputs": [],
   "source": [
    "with tf.name_scope('train_step'):\n",
    "    train_step = tf.train.AdagradOptimizer(FLAGS.lr).minimize(cross_entropy)"
   ]
  },
  {
   "cell_type": "code",
   "execution_count": 7,
   "metadata": {},
   "outputs": [],
   "source": [
    "prediction =tf.argmax(y, 1)\n",
    "accuracy = tf.reduce_mean(tf.cast( tf.equal(prediction,y_), tf.float32))"
   ]
  },
  {
   "cell_type": "code",
   "execution_count": 8,
   "metadata": {},
   "outputs": [],
   "source": [
    "def SaveCheckpoint2S3():\n",
    "    bucketname = 'sagemaker-deechean-dl' \n",
    "    path = 'lenet_ckpt/'\n",
    "    for file in os.listdir('ckpt'):\n",
    "        if os.path.isfile('ckpt/'+file):\n",
    "            print('save files to s3')\n",
    "            aws_boto3.upload_file('ckpt/'+file, bucketname,path+file)"
   ]
  },
  {
   "cell_type": "code",
   "execution_count": null,
   "metadata": {},
   "outputs": [
    {
     "name": "stdout",
     "output_type": "stream",
     "text": [
      "train set length: 50000\n",
      "test set length: 10000\n",
      "2019-06-09 10:13:42 iter 249, Test accuracy:10.09%\n",
      "WARNING:tensorflow:From /home/deechean/anaconda3/envs/tensorflow/lib/python3.7/site-packages/tensorflow/python/training/saver.py:966: remove_checkpoint (from tensorflow.python.training.checkpoint_management) is deprecated and will be removed in a future version.\n",
      "Instructions for updating:\n",
      "Use standard file APIs to delete files with this prefix.\n",
      "2019-06-09 10:24:36 iter 499, Test accuracy:13.85%\n",
      "2019-06-09 10:34:08 iter 749, Test accuracy:14.46%\n",
      "2019-06-09 10:43:09 iter 999, Test accuracy:16.98%\n",
      "2019-06-09 10:54:32 iter 1249, Test accuracy:19.53%\n",
      "2019-06-09 11:04:49 iter 1499, Test accuracy:22.18%\n",
      "2019-06-09 11:16:34 iter 1749, Test accuracy:22.44%\n",
      "2019-06-09 11:27:29 iter 1999, Test accuracy:22.89%\n",
      "2019-06-09 11:39:08 iter 2249, Test accuracy:23.72%\n",
      "2019-06-09 11:49:59 iter 2499, Test accuracy:24.32%\n",
      "2019-06-09 12:00:38 iter 2749, Test accuracy:24.46%\n",
      "2019-06-09 12:11:20 iter 2999, Test accuracy:24.87%\n",
      "2019-06-09 12:22:11 iter 3249, Test accuracy:25.1%\n",
      "2019-06-09 12:33:18 iter 3499, Test accuracy:25.95%\n",
      "2019-06-09 12:44:32 iter 3749, Test accuracy:26.44%\n",
      "2019-06-09 12:54:13 iter 3999, Test accuracy:27.28%\n",
      "2019-06-09 13:05:39 iter 4249, Test accuracy:27.51%\n",
      "2019-06-09 13:15:52 iter 4499, Test accuracy:28.5%\n",
      "2019-06-09 13:25:24 iter 4749, Test accuracy:28.98%\n",
      "2019-06-09 13:34:22 iter 4999, Test accuracy:29.64%\n",
      "2019-06-09 13:44:01 iter 5249, Test accuracy:30.23%\n",
      "2019-06-09 13:56:32 iter 5499, Test accuracy:30.74%\n",
      "2019-06-09 14:21:50 iter 5749, Test accuracy:31.23%\n",
      "2019-06-09 14:31:05 iter 5999, Test accuracy:31.61%\n",
      "2019-06-09 14:41:06 iter 6249, Test accuracy:31.37%\n",
      "2019-06-09 14:54:30 iter 6499, Test accuracy:31.74%\n",
      "2019-06-09 15:04:58 iter 6749, Test accuracy:31.93%\n",
      "2019-06-09 15:13:45 iter 6999, Test accuracy:32.41%\n",
      "2019-06-09 15:24:17 iter 7249, Test accuracy:32.57%\n",
      "2019-06-09 15:36:34 iter 7499, Test accuracy:32.33%\n",
      "2019-06-09 15:46:29 iter 7749, Test accuracy:32.96%\n",
      "2019-06-09 15:55:48 iter 7999, Test accuracy:33.62%\n",
      "2019-06-09 16:04:53 iter 8249, Test accuracy:33.46%\n",
      "2019-06-09 16:13:41 iter 8499, Test accuracy:33.71%\n",
      "2019-06-09 16:22:36 iter 8749, Test accuracy:34.3%\n",
      "2019-06-09 16:29:18 iter 8999, Test accuracy:34.17%\n",
      "2019-06-09 16:36:48 iter 9249, Test accuracy:34.79%\n",
      "2019-06-09 16:42:53 iter 9499, Test accuracy:34.94%\n",
      "2019-06-09 16:52:53 iter 9749, Test accuracy:35.23%\n",
      "2019-06-09 17:02:01 iter 9999, Test accuracy:35.51%\n",
      "2019-06-09 17:08:54 iter 10249, Test accuracy:35.76%\n",
      "2019-06-09 17:16:18 iter 10499, Test accuracy:35.73%\n",
      "2019-06-09 17:23:14 iter 10749, Test accuracy:35.86%\n",
      "2019-06-09 17:30:44 iter 10999, Test accuracy:35.91%\n",
      "2019-06-09 17:37:10 iter 11249, Test accuracy:36.36%\n",
      "2019-06-09 17:43:23 iter 11499, Test accuracy:36.61%\n",
      "2019-06-09 17:50:58 iter 11749, Test accuracy:36.37%\n",
      "2019-06-09 17:58:25 iter 11999, Test accuracy:36.11%\n",
      "2019-06-09 18:04:49 iter 12249, Test accuracy:36.68%\n",
      "2019-06-09 18:12:02 iter 12499, Test accuracy:36.66%\n",
      "2019-06-09 18:18:07 iter 12749, Test accuracy:36.4%\n",
      "2019-06-09 18:24:08 iter 12999, Test accuracy:36.89%\n",
      "2019-06-09 18:30:47 iter 13249, Test accuracy:37.1%\n",
      "2019-06-09 18:37:04 iter 13499, Test accuracy:37.06%\n",
      "2019-06-09 18:43:52 iter 13749, Test accuracy:36.31%\n",
      "2019-06-09 18:51:15 iter 13999, Test accuracy:36.9%\n",
      "2019-06-09 18:57:17 iter 14249, Test accuracy:36.83%\n",
      "2019-06-09 19:03:28 iter 14499, Test accuracy:37.16%\n",
      "2019-06-09 19:09:06 iter 14749, Test accuracy:37.19%\n",
      "2019-06-09 19:15:50 iter 14999, Test accuracy:37.51%\n",
      "2019-06-09 19:22:45 iter 15249, Test accuracy:36.8%\n",
      "2019-06-09 19:30:33 iter 15499, Test accuracy:37.97%\n",
      "2019-06-09 19:37:35 iter 15749, Test accuracy:37.0%\n",
      "2019-06-09 19:48:31 iter 15999, Test accuracy:37.67%\n",
      "2019-06-09 20:05:56 iter 16249, Test accuracy:37.32%\n",
      "2019-06-09 20:17:55 iter 16499, Test accuracy:37.36%\n"
     ]
    }
   ],
   "source": [
    "import time\n",
    "\n",
    "if __name__ == '__main__':\n",
    "    data = cifar10();\n",
    "    with tf.Session() as sess:\n",
    "        sess.run(tf.global_variables_initializer())\n",
    "        saver = tf.train.Saver(max_to_keep=1)\n",
    "        if CONTINUE != 0:\n",
    "            model_file=tf.train.latest_checkpoint(ckpt_dir)\n",
    "            saver.restore(sess,model_file)\n",
    "        for i in range(CONTINUE, FLAGS.epoch):\n",
    "            train_image, train_label,_ = data.get_train_batch(FLAGS.batch_size)\n",
    "            loss, _,accuracy_rate = sess.run([cross_entropy, train_step,accuracy], feed_dict={keep_prob: FLAGS.keep_prob, x:train_image, y_:train_label})\n",
    "            tfg.savelog(log_dir,'train_accuracy',i, accuracy_rate)  \n",
    "            tfg.savelog(log_dir,'train_loss',i, loss)   \n",
    "            if (i+1) % FLAGS.ckpt_frequency == 0:  #保存预测模型\n",
    "                saver.save(sess,ckpt_dir+'cifar10_'+str(i+1)+'.ckpt',global_step=i+1)\n",
    "                #SaveCheckpoint2S3()\n",
    "                acc_accuracy = 0\n",
    "                for j in range(int(10000/FLAGS.test_size)):                    \n",
    "                    test_image, test_label,test_index = data.get_test_batch(FLAGS.test_size)\n",
    "                    accuracy_rate, output = sess.run([accuracy,prediction],feed_dict={keep_prob: 1, x:test_image, y_:test_label})\n",
    "                    acc_accuracy += accuracy_rate\n",
    "                    tfg.savelog(log_dir,'test_index',i, test_index)\n",
    "                    tfg.savelog(log_dir,'output',i, output)\n",
    "                accuracy_rate = acc_accuracy/10000*FLAGS.test_size\n",
    "                print(time.strftime(\"%Y-%m-%d %H:%M:%S\", time.localtime()) + ' iter ' + str(i) + ', Test accuracy:' +str(round(accuracy_rate*100,2))+'%')\n",
    "                tfg.savelog(log_dir,'test_accuracy',i, accuracy_rate)                  \n",
    "    tf.reset_default_graph()"
   ]
  },
  {
   "cell_type": "code",
   "execution_count": null,
   "metadata": {},
   "outputs": [],
   "source": []
  }
 ],
 "metadata": {
  "kernelspec": {
   "display_name": "Python 3",
   "language": "python",
   "name": "python3"
  },
  "language_info": {
   "codemirror_mode": {
    "name": "ipython",
    "version": 3
   },
   "file_extension": ".py",
   "mimetype": "text/x-python",
   "name": "python",
   "nbconvert_exporter": "python",
   "pygments_lexer": "ipython3",
   "version": "3.7.3"
  }
 },
 "nbformat": 4,
 "nbformat_minor": 2
}
