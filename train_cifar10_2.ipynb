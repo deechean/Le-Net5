{
 "cells": [
  {
   "cell_type": "code",
   "execution_count": 1,
   "metadata": {},
   "outputs": [
    {
     "name": "stdout",
     "output_type": "stream",
     "text": [
      "parameters were defined.\n",
      "learn Rate = 0.01 keep Prob= 0.7  image augument= True\n"
     ]
    }
   ],
   "source": [
    "#!/usr/bin/env python3\n",
    "# -*- coding: utf-8 -*-\n",
    "\"\"\"\n",
    "Created on Sun Apr  7 22:08:46 2019\n",
    "\n",
    "@author: Deechean\n",
    "\"\"\"\n",
    "from cifar10 import cifar10\n",
    "import os\n",
    "import tensorflow as tf\n",
    "from lenet5 import LetNet5\n",
    "import tf_general as tfg\n",
    "import numpy as np\n",
    "import aws_boto3\n",
    "\n",
    "FLAGS = tf.flags.FLAGS\n",
    "# learn Rate = 0.01, keep Prob= 0.5, image augument = True\n",
    "\n",
    "try:\n",
    "    tf.flags.DEFINE_string('f', '', 'kernel')\n",
    "    tf.flags.DEFINE_integer('epoch', 10000, 'epoch')\n",
    "    tf.flags.DEFINE_integer('batch_size',200, 'batch size')\n",
    "    tf.flags.DEFINE_integer('test_size', 200, 'test size')\n",
    "    tf.flags.DEFINE_float('lr', 0.01, 'learning rate')\n",
    "    tf.flags.DEFINE_float('keep_prob', 0.7, 'keep prob for drop lay')\n",
    "    tf.flags.DEFINE_boolean('augument', True, 'if image augument is applied')\n",
    "    \n",
    "    tf.flags.DEFINE_float('ckpt_frequency', 250, 'frequency to save checkpoint')\n",
    "    tf.flags.DEFINE_boolean('restore', False, 'restore from checkpoint and run test')\n",
    "    print('parameters were defined.')\n",
    "except:\n",
    "    print('parameters have been defined.')\n",
    "    \n",
    "print(\"learn Rate =\",FLAGS.lr, \"keep Prob=\", FLAGS.keep_prob, \" image augument=\",FLAGS.augument)   \n",
    "CONTINUE = 0\n",
    "filename = 'lenet_train_cifar10_2.log'"
   ]
  },
  {
   "cell_type": "code",
   "execution_count": 2,
   "metadata": {},
   "outputs": [
    {
     "name": "stdout",
     "output_type": "stream",
     "text": [
      "train set length: 50000\n",
      "test image shape: (10000, 32, 32, 3)\n",
      "test label shape: (10000,)\n",
      "test set length: 10000\n"
     ]
    }
   ],
   "source": [
    "data = cifar10();\n",
    "train_image, train_label,_ = data.get_train_batch(FLAGS.batch_size)"
   ]
  },
  {
   "cell_type": "code",
   "execution_count": 3,
   "metadata": {
    "collapsed": true
   },
   "outputs": [],
   "source": [
    "ckpt_dir = 'ckpt_2/'\n",
    "if not os.path.exists(ckpt_dir):\n",
    "    os.makedirs(ckpt_dir)"
   ]
  },
  {
   "cell_type": "code",
   "execution_count": 4,
   "metadata": {
    "collapsed": true
   },
   "outputs": [],
   "source": [
    "with tf.name_scope('input'):\n",
    "    x = tf.placeholder(tf.float32, [None, 28,28,3], name='x_input')\n",
    "    keep_prob = tf.placeholder(tf.float32, name='keep_prob')\n",
    "    y_ = tf.placeholder(tf.int64, [None], name='labels')"
   ]
  },
  {
   "cell_type": "code",
   "execution_count": 5,
   "metadata": {
    "collapsed": true,
    "scrolled": true
   },
   "outputs": [],
   "source": [
    "with tf.name_scope('prediction'):\n",
    "    le_net5 = LeNet5(x, keep_prob)\n",
    "    y = le_net5.prediction"
   ]
  },
  {
   "cell_type": "code",
   "execution_count": 6,
   "metadata": {
    "collapsed": true
   },
   "outputs": [],
   "source": [
    "with tf.name_scope('cross_entropy'):\n",
    "    cross_entropy = tf.reduce_mean(tf.nn.sparse_softmax_cross_entropy_with_logits(logits=y,\n",
    "                                                                                  labels=y_, \n",
    "                                                                                  name=\"cross_entropy_per_example\"))"
   ]
  },
  {
   "cell_type": "code",
   "execution_count": 7,
   "metadata": {
    "collapsed": true
   },
   "outputs": [],
   "source": [
    "with tf.name_scope('train_step'):\n",
    "    train_step = tf.train.AdagradOptimizer(FLAGS.lr).minimize(cross_entropy)"
   ]
  },
  {
   "cell_type": "code",
   "execution_count": 8,
   "metadata": {
    "collapsed": true
   },
   "outputs": [],
   "source": [
    "prediction =tf.argmax(y, 1)\n",
    "accuracy = tf.reduce_mean(tf.cast( tf.equal(prediction,y_), tf.float32))"
   ]
  },
  {
   "cell_type": "code",
   "execution_count": null,
   "metadata": {
    "collapsed": true
   },
   "outputs": [],
   "source": [
    "def SaveCheckpoint2S3():\n",
    "    bucketname = 'sagemaker-deechean-dl' \n",
    "    path = 'lenet_ckpt/'\n",
    "    for file in os.listdir('ckpt'):\n",
    "        if os.path.isfile('ckpt/'+file):\n",
    "            print('save files to s3')\n",
    "            aws_boto3.upload_file('ckpt/'+file, bucketname,path+file)"
   ]
  },
  {
   "cell_type": "code",
   "execution_count": null,
   "metadata": {},
   "outputs": [
    {
     "name": "stdout",
     "output_type": "stream",
     "text": [
      "2019-06-07 09:00:47 iter 249, Test accuracy:20.35%\n",
      "2019-06-07 09:12:02 iter 499, Test accuracy:27.01%\n",
      "2019-06-07 09:23:35 iter 749, Test accuracy:29.06%\n",
      "2019-06-07 09:34:33 iter 999, Test accuracy:29.33%\n",
      "2019-06-07 09:44:53 iter 1249, Test accuracy:30.55%\n",
      "2019-06-07 09:56:17 iter 1499, Test accuracy:30.56%\n",
      "2019-06-07 10:06:56 iter 1749, Test accuracy:32.43%\n",
      "2019-06-07 10:17:25 iter 1999, Test accuracy:32.73%\n",
      "2019-06-07 10:28:12 iter 2249, Test accuracy:33.74%\n",
      "2019-06-07 10:39:49 iter 2499, Test accuracy:33.71%\n",
      "2019-06-07 10:51:22 iter 2749, Test accuracy:34.25%\n",
      "2019-06-07 11:01:27 iter 2999, Test accuracy:34.69%\n",
      "2019-06-07 11:12:32 iter 3249, Test accuracy:35.2%\n",
      "2019-06-07 11:22:27 iter 3499, Test accuracy:36.0%\n",
      "2019-06-07 11:32:49 iter 3749, Test accuracy:36.19%\n",
      "2019-06-07 11:43:05 iter 3999, Test accuracy:36.92%\n",
      "2019-06-07 11:53:30 iter 4249, Test accuracy:36.87%\n",
      "2019-06-07 12:03:41 iter 4499, Test accuracy:37.29%\n",
      "2019-06-07 12:14:34 iter 4749, Test accuracy:38.4%\n",
      "2019-06-07 12:25:18 iter 4999, Test accuracy:38.79%\n",
      "2019-06-07 12:36:18 iter 5249, Test accuracy:39.36%\n",
      "2019-06-07 12:47:45 iter 5499, Test accuracy:39.02%\n",
      "2019-06-07 12:57:30 iter 5749, Test accuracy:39.57%\n",
      "2019-06-07 13:07:53 iter 5999, Test accuracy:40.61%\n",
      "2019-06-07 13:18:23 iter 6249, Test accuracy:40.74%\n",
      "2019-06-07 13:30:33 iter 6499, Test accuracy:41.18%\n",
      "2019-06-07 13:41:51 iter 6749, Test accuracy:41.03%\n",
      "2019-06-07 13:52:22 iter 6999, Test accuracy:41.53%\n",
      "2019-06-07 14:02:46 iter 7249, Test accuracy:41.96%\n",
      "2019-06-07 14:13:04 iter 7499, Test accuracy:41.56%\n",
      "2019-06-07 14:22:55 iter 7749, Test accuracy:42.04%\n",
      "2019-06-07 14:33:17 iter 7999, Test accuracy:42.57%\n",
      "2019-06-07 14:43:22 iter 8249, Test accuracy:42.26%\n",
      "2019-06-07 14:53:35 iter 8499, Test accuracy:43.26%\n"
     ]
    }
   ],
   "source": [
    "import time\n",
    "\n",
    "if __name__ == '__main__':\n",
    "    with tf.Session() as sess:\n",
    "        sess.run(tf.global_variables_initializer())\n",
    "        saver = tf.train.Saver(max_to_keep=1)\n",
    "        if CONTINUE != 0:\n",
    "            model_file=tf.train.latest_checkpoint(ckpt_dir)\n",
    "            saver.restore(sess,model_file)\n",
    "        for i in range(CONTINUE, FLAGS.epoch):\n",
    "            train_image, train_label,_ = data.get_train_batch(FLAGS.batch_size)\n",
    "            loss, _,accuracy_rate = sess.run([cross_entropy, train_step,accuracy], feed_dict={keep_prob: FLAGS.keep_prob, x:train_image, y_:train_label})\n",
    "            tfg.savelog(filename,'train_accuracy',i, accuracy_rate)  \n",
    "            tfg.savelog(filename,'train_loss',i, loss)   \n",
    "            if (i+1) % FLAGS.ckpt_frequency == 0:  #保存预测模型\n",
    "                saver.save(sess,ckpt_dir+'cifar10_'+str(i+1)+'.ckpt',global_step=i+1)\n",
    "                #SaveCheckpoint2S3()\n",
    "                acc_accuracy = 0\n",
    "                for j in range(int(10000/FLAGS.test_size)):                    \n",
    "                    test_image, test_label,test_index = data.get_test_batch(FLAGS.test_size)\n",
    "                    accuracy_rate, output = sess.run([accuracy,prediction],feed_dict={keep_prob: 1, x:test_image, y_:test_label})\n",
    "                    acc_accuracy += accuracy_rate\n",
    "                    tfg.savelog(filename,'test_index',i, test_index)\n",
    "                    tfg.savelog(filename,'output',i, output)\n",
    "                accuracy_rate = acc_accuracy/10000*FLAGS.test_size\n",
    "                print(time.strftime(\"%Y-%m-%d %H:%M:%S\", time.localtime()) + ' iter ' + str(i) + ', Test accuracy:' +str(round(accuracy_rate*100,2))+'%')\n",
    "                tfg.savelog(filename,'test_accuracy',i, accuracy_rate)                  \n",
    "    tf.reset_default_graph()"
   ]
  },
  {
   "cell_type": "code",
   "execution_count": null,
   "metadata": {
    "collapsed": true
   },
   "outputs": [],
   "source": []
  }
 ],
 "metadata": {
  "kernelspec": {
   "display_name": "Python 3",
   "language": "python",
   "name": "python3"
  },
  "language_info": {
   "codemirror_mode": {
    "name": "ipython",
    "version": 3
   },
   "file_extension": ".py",
   "mimetype": "text/x-python",
   "name": "python",
   "nbconvert_exporter": "python",
   "pygments_lexer": "ipython3",
   "version": "3.5.4"
  }
 },
 "nbformat": 4,
 "nbformat_minor": 2
}
