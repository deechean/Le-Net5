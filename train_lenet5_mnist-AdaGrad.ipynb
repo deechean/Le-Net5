{
 "cells": [
  {
   "cell_type": "markdown",
   "metadata": {},
   "source": [
    "# Train a Simplified LeNet5 Model to classify mnist data\n",
    "\n",
    "LeNet5 is a well know model which was introduced in paper \"Gradient-based learning applied to document recognition\" by LeCun in 1998. In the paper it is used to classify the MNIST handscripts numbers. Here we will train a simplified LeNet5 model to classify CIFAR-10 data.\n",
    "\n",
    "\n",
    "## Section 1 Define Super Training Parameters\n",
    "\n",
    "- epoch: define the iteration of the train\n",
    "- batch_size: define the train batch size. It depends on how large the memory is. CIFAR-10 is a very small images. 200 - 500 should be good. \n",
    "- test_size: define the test batch size.  \n",
    "- learn rate (lr): The start learn rate for Agagrad\n",
    "- keep_prob: the probability of the training parameter\n",
    "- augument: To have a better training effect, the image augument is always True"
   ]
  },
  {
   "cell_type": "code",
   "execution_count": 1,
   "metadata": {},
   "outputs": [
    {
     "name": "stdout",
     "output_type": "stream",
     "text": [
      "parameters were defined.\n",
      "RUN 1: 40000-50000\n",
      "batch size= 250 learn Rate = 0.01 drop rate= 0.5\n"
     ]
    }
   ],
   "source": [
    "import sys\n",
    "import os\n",
    "os.environ[\"CUDA_VISIBLE_DEVICES\"]=\"-1\" \n",
    "sys.path.append('../common/')\n",
    "sys.path.append('../cifar10/')\n",
    "\n",
    "import tensorflow as tf\n",
    "import numpy as np\n",
    "from train_log import train_log\n",
    "from tensorflow.examples.tutorials.mnist import input_data\n",
    "from lenet5 import LeNet5\n",
    "\n",
    "FLAGS = tf.flags.FLAGS\n",
    "\n",
    "try:\n",
    "    #Super parameter definition\n",
    "    tf.flags.DEFINE_string('f', '', 'kernel')\n",
    "    tf.flags.DEFINE_integer('epoch', 50000, 'epoch')\n",
    "    tf.flags.DEFINE_integer('batch_size',250, 'batch size')\n",
    "    tf.flags.DEFINE_integer('test_size', 250, 'test size')\n",
    "    tf.flags.DEFINE_float('lr', 0.01, 'learning rate')\n",
    "    tf.flags.DEFINE_float('drop_rate', 0.5, 'drop out rate for drop lay')\n",
    "    #Other training parameter                        \n",
    "    tf.flags.DEFINE_float('ckpt_frequency', 125, 'frequency to save checkpoint')\n",
    "    tf.flags.DEFINE_boolean('restore', False, 'restore from checkpoint and run test')\n",
    "    print('parameters were defined.')\n",
    "except:\n",
    "    print('parameters have been defined.')\n",
    "\n",
    "CONTINUE = 40000\n",
    "RUN = 1\n",
    "print(\"RUN \"+str(RUN)+\": \" + str(CONTINUE) + \"-\" + str(FLAGS.epoch))\n",
    "print(\"batch size=\",FLAGS.batch_size, \"learn Rate =\",FLAGS.lr, \"drop rate=\", FLAGS.drop_rate)"
   ]
  },
  {
   "cell_type": "markdown",
   "metadata": {},
   "source": [
    "## Section 2. Generate Checkpoint dir and Log dir\n",
    "\n",
    "- Checkpoint dir is saved in variable **../Le-Net5-Log/Le-Net5_CLASS/ckpt_RUN**, if the dir doesn't exist then create it. \n",
    "- Log file dir is saved in variable **../Le-Net5-Log/Le-Net5_CLASS/log_RUN**, if the dir doesn't exist then create it. \n",
    "- data_path is the position of the CIFAR-10 image data\n",
    "The reason to save the model and log outside the project is to avoid effect the git code management."
   ]
  },
  {
   "cell_type": "code",
   "execution_count": 2,
   "metadata": {},
   "outputs": [
    {
     "name": "stdout",
     "output_type": "stream",
     "text": [
      "WARNING:tensorflow:From <ipython-input-2-8ab04cc86187>:20: read_data_sets (from tensorflow.contrib.learn.python.learn.datasets.mnist) is deprecated and will be removed in a future version.\n",
      "Instructions for updating:\n",
      "Please use alternatives such as official/mnist/dataset.py from tensorflow/models.\n",
      "WARNING:tensorflow:From /home/ubuntu/anaconda3/envs/python3-tensorflow/lib/python3.6/site-packages/tensorflow/contrib/learn/python/learn/datasets/mnist.py:260: maybe_download (from tensorflow.contrib.learn.python.learn.datasets.base) is deprecated and will be removed in a future version.\n",
      "Instructions for updating:\n",
      "Please write your own downloading logic.\n",
      "WARNING:tensorflow:From /home/ubuntu/anaconda3/envs/python3-tensorflow/lib/python3.6/site-packages/tensorflow/contrib/learn/python/learn/datasets/mnist.py:262: extract_images (from tensorflow.contrib.learn.python.learn.datasets.mnist) is deprecated and will be removed in a future version.\n",
      "Instructions for updating:\n",
      "Please use tf.data to implement this functionality.\n",
      "Extracting mnist_data/train-images-idx3-ubyte.gz\n",
      "WARNING:tensorflow:From /home/ubuntu/anaconda3/envs/python3-tensorflow/lib/python3.6/site-packages/tensorflow/contrib/learn/python/learn/datasets/mnist.py:267: extract_labels (from tensorflow.contrib.learn.python.learn.datasets.mnist) is deprecated and will be removed in a future version.\n",
      "Instructions for updating:\n",
      "Please use tf.data to implement this functionality.\n",
      "Extracting mnist_data/train-labels-idx1-ubyte.gz\n",
      "WARNING:tensorflow:From /home/ubuntu/anaconda3/envs/python3-tensorflow/lib/python3.6/site-packages/tensorflow/contrib/learn/python/learn/datasets/mnist.py:110: dense_to_one_hot (from tensorflow.contrib.learn.python.learn.datasets.mnist) is deprecated and will be removed in a future version.\n",
      "Instructions for updating:\n",
      "Please use tf.one_hot on tensors.\n",
      "Extracting mnist_data/t10k-images-idx3-ubyte.gz\n",
      "Extracting mnist_data/t10k-labels-idx1-ubyte.gz\n",
      "WARNING:tensorflow:From /home/ubuntu/anaconda3/envs/python3-tensorflow/lib/python3.6/site-packages/tensorflow/contrib/learn/python/learn/datasets/mnist.py:290: DataSet.__init__ (from tensorflow.contrib.learn.python.learn.datasets.mnist) is deprecated and will be removed in a future version.\n",
      "Instructions for updating:\n",
      "Please use alternatives such as official/mnist/dataset.py from tensorflow/models.\n"
     ]
    }
   ],
   "source": [
    "ckpt_dir = './mnist_study_log/ckpt_'+str(RUN)+'/'\n",
    "if not os.path.exists(ckpt_dir):\n",
    "    os.makedirs(ckpt_dir)\n",
    "\n",
    "log_dir = './mnist_study_log/log_'+str(RUN)+'/'\n",
    "log = train_log(log_dir)\n",
    "if not os.path.exists(log_dir):\n",
    "    os.makedirs(log_dir)\n",
    "\n",
    "log.write_file('configuration',['epoch='+str(FLAGS.epoch),\n",
    "                                'batch_size ='+str(FLAGS.batch_size), \n",
    "                                'lr ='+str(FLAGS.lr),\n",
    "                                'drop_rate ='+str(FLAGS.drop_rate),\n",
    "                                'ckpt_frequency = '+str(FLAGS.ckpt_frequency)])\n",
    "\n",
    "data_path = 'mnist_data'\n",
    "if not os.path.exists(data_path):\n",
    "    print('The data path doesn\\'t exist. Please check if it is a correct data path.')\n",
    "\n",
    "mnist = input_data.read_data_sets(data_path, one_hot=True)"
   ]
  },
  {
   "cell_type": "markdown",
   "metadata": {},
   "source": [
    "## Section 3. Simplified LeNet5 \n",
    "This is a simplied LeNet5 model. A lot of details are ignored in the model.Below is the architecture of the LeNet5 we implemented. It is a little bit different from the original one as some detail design were removed.  \n",
    "\n",
    "![image.png](attachment:image.png)\n"
   ]
  },
  {
   "cell_type": "markdown",
   "metadata": {},
   "source": [
    "## Section 4. Build the calculation graph\n",
    "\n",
    "### 4.1 Input layer \n",
    "\n",
    "Use the data feeder to provide the training data. Therefore we define a placeholder with the same structure of the input data. \n",
    "The CIFAR-10 data is 60000 RGB images with each size is 32x32. The data structure should be[batchsize, 32,32,3]. Input channels are 3.  "
   ]
  },
  {
   "cell_type": "code",
   "execution_count": 3,
   "metadata": {
    "collapsed": true
   },
   "outputs": [],
   "source": [
    "with tf.name_scope('input'):\n",
    "    x = tf.placeholder(tf.float32, [None,32,32,1], name='x_input')\n",
    "    #x_image = tf.reshape(x, [-1, 28, 28, 1])\n",
    "    drop_rate = tf.placeholder(tf.float32, name='drop_rate')\n",
    "    y_ = tf.placeholder(tf.int64, [None,10], name='labels')\n",
    "    label = tf.argmax(y_,1)"
   ]
  },
  {
   "cell_type": "markdown",
   "metadata": {},
   "source": [
    "### 4.2 Deifne the LeNet5 object\n",
    "\n",
    "Use the previously defined LeNet5 class to build LeNet5 network.\n",
    "y is the output of the LeNet5 network. "
   ]
  },
  {
   "cell_type": "code",
   "execution_count": 4,
   "metadata": {
    "scrolled": false
   },
   "outputs": [
    {
     "name": "stdout",
     "output_type": "stream",
     "text": [
      "norm_0:  (?, 32, 32, 1)\n",
      "conv_1:  (?, 28, 28, 6)\n",
      "pool_1:  (?, 14, 14, 6)\n",
      "conv_2:  (?, 10, 10, 16)\n",
      "pool_2:  (?, 5, 5, 16)\n",
      "conv_3: (?, 1, 1, 120)\n",
      "flat_1: (?, 120)\n",
      "fc_2  (?, 84)\n",
      "fc_3:  (?, 10)\n",
      "drop_out:  (?, 10)\n",
      "prediction:  (?, 10)\n"
     ]
    }
   ],
   "source": [
    "with tf.name_scope('prediction'):\n",
    "    le_net5 = LeNet5(x, drop_rate)\n",
    "    y = le_net5.prediction    "
   ]
  },
  {
   "cell_type": "markdown",
   "metadata": {},
   "source": [
    "### 4.3 Calculate the cross entropy as the loss\n",
    "Use the cross entropy as the loss. \n",
    "**cross entropy** is normally used as the loss of the network. \n",
    "$$cross\\_entropy(output, label) = \\sum_i{output_i*log(label_i)}$$\n",
    "\n",
    "tensorflow function **sparse_softmax_cross_entropy_with_logits** calculate the cross entropy with the logits which is one hot output from the network and the label which is a interger number.\n"
   ]
  },
  {
   "cell_type": "code",
   "execution_count": 5,
   "metadata": {
    "collapsed": true
   },
   "outputs": [],
   "source": [
    "with tf.name_scope('cross_entropy'):\n",
    "    cross_entropy = tf.reduce_mean(tf.nn.sparse_softmax_cross_entropy_with_logits(logits=y,\n",
    "                                                                                  labels=label, \n",
    "                                                                                  name=\"cross_entropy_per_example\"))\n",
    "    #cross_entropy = tf.reduce_mean(-tf.reduce_sum(y_ * tf.log(y)))"
   ]
  },
  {
   "cell_type": "markdown",
   "metadata": {},
   "source": [
    "### 4.4 Use Adagrad to minimize the loss"
   ]
  },
  {
   "cell_type": "code",
   "execution_count": 6,
   "metadata": {
    "collapsed": true
   },
   "outputs": [],
   "source": [
    "with tf.name_scope('train_step'):\n",
    "    train_step = tf.train.AdagradOptimizer(FLAGS.lr).minimize(cross_entropy)\n",
    "    #train_step = tf.train.SGDOptimizer(FLAGS.lr).minimize(cross_entropy)"
   ]
  },
  {
   "cell_type": "markdown",
   "metadata": {},
   "source": [
    "### 4.5 Calculate the reduce mean as the accuracy"
   ]
  },
  {
   "cell_type": "code",
   "execution_count": 7,
   "metadata": {
    "collapsed": true
   },
   "outputs": [],
   "source": [
    "with tf.name_scope('accuracy'):\n",
    "    prediction =tf.argmax(y, 1)\n",
    "    accuracy = tf.reduce_mean(tf.cast(tf.equal(prediction,label), tf.float32))"
   ]
  },
  {
   "cell_type": "markdown",
   "metadata": {},
   "source": [
    "## Now, let's start the training..."
   ]
  },
  {
   "cell_type": "code",
   "execution_count": 8,
   "metadata": {
    "scrolled": false
   },
   "outputs": [
    {
     "name": "stdout",
     "output_type": "stream",
     "text": [
      "INFO:tensorflow:Restoring parameters from ./mnist_study_log/ckpt_1/cifar10_40000.ckpt-40000\n",
      ".............................................................................................................................\n",
      "2020-03-28 14:11:04 iter 40124, Test accuracy:98.12%\n",
      ".............................................................................................................................\n",
      "2020-03-28 14:11:16 iter 40249, Test accuracy:98.21%\n",
      ".............................................................................................................................\n",
      "2020-03-28 14:11:29 iter 40374, Test accuracy:98.11%\n",
      ".............................................................................................................................\n",
      "2020-03-28 14:11:41 iter 40499, Test accuracy:97.98%\n",
      ".............................................................................................................................\n",
      "2020-03-28 14:11:53 iter 40624, Test accuracy:98.03%\n",
      ".............................................................................................................................\n",
      "2020-03-28 14:12:06 iter 40749, Test accuracy:98.08%\n",
      ".............................................................................................................................\n",
      "2020-03-28 14:12:18 iter 40874, Test accuracy:98.28%\n",
      ".............................................................................................................................\n",
      "2020-03-28 14:12:31 iter 40999, Test accuracy:98.08%\n",
      ".............................................................................................................................\n",
      "2020-03-28 14:12:43 iter 41124, Test accuracy:98.0%\n",
      ".............................................................................................................................\n",
      "2020-03-28 14:12:55 iter 41249, Test accuracy:98.11%\n",
      ".............................................................................................................................\n",
      "2020-03-28 14:13:08 iter 41374, Test accuracy:98.16%\n",
      ".............................................................................................................................\n",
      "2020-03-28 14:13:20 iter 41499, Test accuracy:98.07%\n",
      ".............................................................................................................................\n",
      "2020-03-28 14:13:32 iter 41624, Test accuracy:98.02%\n",
      ".............................................................................................................................\n",
      "2020-03-28 14:13:45 iter 41749, Test accuracy:98.2%\n",
      ".............................................................................................................................\n",
      "2020-03-28 14:13:57 iter 41874, Test accuracy:98.1%\n",
      ".............................................................................................................................\n",
      "2020-03-28 14:14:10 iter 41999, Test accuracy:98.19%\n",
      ".............................................................................................................................\n",
      "2020-03-28 14:14:22 iter 42124, Test accuracy:98.05%\n",
      ".............................................................................................................................\n",
      "2020-03-28 14:14:34 iter 42249, Test accuracy:98.21%\n",
      ".............................................................................................................................\n",
      "2020-03-28 14:14:47 iter 42374, Test accuracy:98.21%\n",
      ".............................................................................................................................\n",
      "2020-03-28 14:14:59 iter 42499, Test accuracy:98.07%\n",
      ".............................................................................................................................\n",
      "2020-03-28 14:15:11 iter 42624, Test accuracy:98.17%\n",
      ".............................................................................................................................\n",
      "2020-03-28 14:15:24 iter 42749, Test accuracy:98.16%\n",
      ".............................................................................................................................\n",
      "2020-03-28 14:15:36 iter 42874, Test accuracy:98.33%\n",
      ".............................................................................................................................\n",
      "2020-03-28 14:15:48 iter 42999, Test accuracy:98.08%\n",
      ".............................................................................................................................\n",
      "2020-03-28 14:16:01 iter 43124, Test accuracy:98.25%\n",
      ".............................................................................................................................\n",
      "2020-03-28 14:16:13 iter 43249, Test accuracy:98.17%\n",
      ".............................................................................................................................\n",
      "2020-03-28 14:16:26 iter 43374, Test accuracy:98.1%\n",
      ".............................................................................................................................\n",
      "2020-03-28 14:16:38 iter 43499, Test accuracy:98.12%\n",
      ".............................................................................................................................\n",
      "2020-03-28 14:16:50 iter 43624, Test accuracy:98.22%\n",
      ".............................................................................................................................\n",
      "2020-03-28 14:17:03 iter 43749, Test accuracy:98.03%\n",
      ".............................................................................................................................\n",
      "2020-03-28 14:17:15 iter 43874, Test accuracy:98.08%\n",
      ".............................................................................................................................\n",
      "2020-03-28 14:17:28 iter 43999, Test accuracy:98.22%\n",
      ".............................................................................................................................\n",
      "2020-03-28 14:17:40 iter 44124, Test accuracy:98.3%\n",
      ".............................................................................................................................\n",
      "2020-03-28 14:17:52 iter 44249, Test accuracy:98.01%\n",
      ".............................................................................................................................\n",
      "2020-03-28 14:18:05 iter 44374, Test accuracy:98.25%\n",
      ".............................................................................................................................\n",
      "2020-03-28 14:18:17 iter 44499, Test accuracy:98.19%\n",
      ".............................................................................................................................\n",
      "2020-03-28 14:18:30 iter 44624, Test accuracy:98.19%\n",
      ".............................................................................................................................\n",
      "2020-03-28 14:18:42 iter 44749, Test accuracy:98.17%\n",
      ".............................................................................................................................\n",
      "2020-03-28 14:18:54 iter 44874, Test accuracy:98.08%\n",
      ".............................................................................................................................\n",
      "2020-03-28 14:19:07 iter 44999, Test accuracy:97.78%\n",
      ".............................................................................................................................\n",
      "2020-03-28 14:19:19 iter 45124, Test accuracy:98.12%\n",
      ".............................................................................................................................\n",
      "2020-03-28 14:19:31 iter 45249, Test accuracy:98.18%\n",
      ".............................................................................................................................\n",
      "2020-03-28 14:19:44 iter 45374, Test accuracy:97.93%\n",
      ".............................................................................................................................\n",
      "2020-03-28 14:19:56 iter 45499, Test accuracy:98.2%\n",
      ".............................................................................................................................\n",
      "2020-03-28 14:20:08 iter 45624, Test accuracy:98.19%\n",
      ".............................................................................................................................\n",
      "2020-03-28 14:20:21 iter 45749, Test accuracy:98.19%\n",
      ".............................................................................................................................\n",
      "2020-03-28 14:20:33 iter 45874, Test accuracy:98.15%\n",
      ".............................................................................................................................\n",
      "2020-03-28 14:20:46 iter 45999, Test accuracy:98.15%\n",
      ".............................................................................................................................\n",
      "2020-03-28 14:20:58 iter 46124, Test accuracy:98.18%\n",
      ".............................................................................................................................\n",
      "2020-03-28 14:21:10 iter 46249, Test accuracy:98.22%\n",
      ".............................................................................................................................\n",
      "2020-03-28 14:21:23 iter 46374, Test accuracy:98.26%\n",
      ".............................................................................................................................\n",
      "2020-03-28 14:21:35 iter 46499, Test accuracy:98.07%\n",
      ".............................................................................................................................\n",
      "2020-03-28 14:21:47 iter 46624, Test accuracy:98.2%\n",
      ".............................................................................................................................\n",
      "2020-03-28 14:22:00 iter 46749, Test accuracy:98.2%\n",
      ".............................................................................................................................\n",
      "2020-03-28 14:22:12 iter 46874, Test accuracy:98.11%\n",
      ".............................................................................................................................\n",
      "2020-03-28 14:22:24 iter 46999, Test accuracy:98.09%\n",
      ".............................................................................................................................\n",
      "2020-03-28 14:22:37 iter 47124, Test accuracy:98.07%\n",
      ".............................................................................................................................\n",
      "2020-03-28 14:22:49 iter 47249, Test accuracy:98.2%\n",
      ".............................................................................................................................\n",
      "2020-03-28 14:23:02 iter 47374, Test accuracy:98.15%\n",
      ".............................................................................................................................\n",
      "2020-03-28 14:23:14 iter 47499, Test accuracy:98.26%\n",
      ".............................................................................................................................\n",
      "2020-03-28 14:23:26 iter 47624, Test accuracy:98.19%\n",
      ".............................................................................................................................\n",
      "2020-03-28 14:23:39 iter 47749, Test accuracy:98.2%\n",
      ".............................................................................................................................\n",
      "2020-03-28 14:23:51 iter 47874, Test accuracy:98.09%\n",
      ".............................................................................................................................\n",
      "2020-03-28 14:24:03 iter 47999, Test accuracy:98.2%\n",
      ".............................................................................................................................\n",
      "2020-03-28 14:24:16 iter 48124, Test accuracy:98.2%\n",
      ".............................................................................................................................\n",
      "2020-03-28 14:24:28 iter 48249, Test accuracy:97.96%\n",
      ".............................................................................................................................\n",
      "2020-03-28 14:24:41 iter 48374, Test accuracy:97.97%\n",
      ".............................................................................................................................\n",
      "2020-03-28 14:24:53 iter 48499, Test accuracy:98.24%\n",
      ".............................................................................................................................\n",
      "2020-03-28 14:25:05 iter 48624, Test accuracy:98.19%\n",
      ".............................................................................................................................\n",
      "2020-03-28 14:25:18 iter 48749, Test accuracy:98.11%\n",
      ".............................................................................................................................\n",
      "2020-03-28 14:25:30 iter 48874, Test accuracy:97.91%\n",
      ".............................................................................................................................\n",
      "2020-03-28 14:25:42 iter 48999, Test accuracy:98.14%\n",
      ".............................................................................................................................\n",
      "2020-03-28 14:25:55 iter 49124, Test accuracy:97.96%\n",
      ".............................................................................................................................\n",
      "2020-03-28 14:26:07 iter 49249, Test accuracy:98.02%\n",
      ".............................................................................................................................\n",
      "2020-03-28 14:26:19 iter 49374, Test accuracy:98.27%\n",
      ".............................................................................................................................\n",
      "2020-03-28 14:26:32 iter 49499, Test accuracy:98.08%\n",
      ".............................................................................................................................\n",
      "2020-03-28 14:26:44 iter 49624, Test accuracy:98.17%\n",
      ".............................................................................................................................\n",
      "2020-03-28 14:26:57 iter 49749, Test accuracy:98.26%\n",
      ".............................................................................................................................\n",
      "2020-03-28 14:27:09 iter 49874, Test accuracy:98.14%\n",
      ".............................................................................................................................\n",
      "2020-03-28 14:27:21 iter 49999, Test accuracy:97.97%\n"
     ]
    }
   ],
   "source": [
    "import time\n",
    "import matplotlib.pyplot as plt\n",
    "\n",
    "saver = tf.train.Saver(max_to_keep=1)\n",
    "#GPU memory usage 40%\n",
    "gpu_options = tf.GPUOptions(per_process_gpu_memory_fraction=0.35)\n",
    "\n",
    "with tf.Session(config=tf.ConfigProto(log_device_placement=True, gpu_options=gpu_options)) as sess:\n",
    "    sess.run(tf.global_variables_initializer())\n",
    "    tf.get_default_graph().finalize()\n",
    "    if CONTINUE != 0:\n",
    "        model_file=tf.train.latest_checkpoint(ckpt_dir)\n",
    "        saver.restore(sess,model_file)\n",
    "    for i in range(CONTINUE, FLAGS.epoch):\n",
    "        train_image, train_label = mnist.train.next_batch(FLAGS.batch_size)\n",
    "        train_image = np.array(train_image).reshape(FLAGS.batch_size,28,28,1)\n",
    "        train_image = np.pad(train_image,((0,0),(2,2),(2,2),(0,0)),'constant',constant_values=(np.min(train_image),np.min(train_image)))        \n",
    "        '''\n",
    "        for im in train_image:\n",
    "            im = im.reshape(32,32)\n",
    "            plt.imshow(im)\n",
    "            plt.show()\n",
    "        '''\n",
    "        pred_value, loss, _,accuracy_rate = sess.run([y, cross_entropy, train_step, accuracy], \n",
    "                                         feed_dict={drop_rate: FLAGS.drop_rate, x:train_image, y_:train_label})\n",
    "        print('.',end='')\n",
    "        #print(time.strftime(\"%Y-%m-%d %H:%M:%S\",time.localtime())+' iter '+str(i)+',Train accuracy:'+str(round(accuracy_rate*100,2))+'%')\n",
    "        #log.add_log('logits',i,pred_value)\n",
    "        log.add_log('train_accuracy',i, accuracy_rate)\n",
    "        log.add_log('train_loss',i, loss)\n",
    "        if (i+1) % FLAGS.ckpt_frequency == 0:  #保存预测模型\n",
    "            saver.save(sess,ckpt_dir+'cifar10_'+str(i+1)+'.ckpt',global_step=i+1)\n",
    "            acc_accuracy = 0\n",
    "            for j in range(int(10000/FLAGS.test_size)):                    \n",
    "                test_image, test_label = mnist.test.next_batch(FLAGS.test_size)\n",
    "                test_image = np.array(test_image).reshape(FLAGS.test_size,28,28,1)\n",
    "                test_image = np.pad(test_image,((0,0),(2,2),(2,2),(0,0)),'constant',constant_values=(np.min(test_image),np.min(test_image)))        \n",
    "                pred_value, loss, _,accuracy_rate = sess.run([y, cross_entropy, train_step, accuracy], \n",
    "                                         feed_dict={drop_rate: FLAGS.drop_rate, x:train_image, y_:train_label})\n",
    "                accuracy_rate, output = sess.run([accuracy,prediction],\n",
    "                                                 feed_dict={drop_rate: 0, x:test_image, y_:test_label})\n",
    "                acc_accuracy += accuracy_rate\n",
    "                #log.add_log('test_batch_accuracy',i, accuracy_rate)\n",
    "                #log.add_log('test_index',i, test_index)\n",
    "                #log.add_log('output',i, output)\n",
    "            accuracy_rate = acc_accuracy/10000*FLAGS.test_size\n",
    "            print()\n",
    "            print(time.strftime(\"%Y-%m-%d %H:%M:%S\", time.localtime()) + \n",
    "                  ' iter ' + str(i) + ', Test accuracy:' +str(round(accuracy_rate*100,2))+'%')\n",
    "            log.add_log('test_accuracy',i, accuracy_rate)\n",
    "            log.SaveToFile()"
   ]
  }
 ],
 "metadata": {
  "kernelspec": {
   "display_name": "Python 3",
   "language": "python",
   "name": "python3"
  },
  "language_info": {
   "codemirror_mode": {
    "name": "ipython",
    "version": 3
   },
   "file_extension": ".py",
   "mimetype": "text/x-python",
   "name": "python",
   "nbconvert_exporter": "python",
   "pygments_lexer": "ipython3",
   "version": "3.6.10"
  }
 },
 "nbformat": 4,
 "nbformat_minor": 2
}
